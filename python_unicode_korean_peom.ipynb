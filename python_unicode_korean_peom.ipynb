{
 "cells": [
  {
   "cell_type": "markdown",
   "metadata": {},
   "source": [
    "Let's practice file i/o with a famous korean peom  고향 by 정지용 시인\n"
   ]
  },
  {
   "cell_type": "code",
   "execution_count": 1,
   "metadata": {},
   "outputs": [],
   "source": [
    "path  = 'homesickness.txt'"
   ]
  },
  {
   "cell_type": "code",
   "execution_count": 79,
   "metadata": {},
   "outputs": [
    {
     "name": "stdout",
     "output_type": "stream",
     "text": [
      "0 넓은 벌 동쪽 끝으로\r\n",
      "\n",
      "1 옛 이야기 지줄대는 실개천이 휘돌아 나가고,\r\n",
      "\n",
      "2 얼룩백이 황소가\r\n",
      "\n",
      "3 해설피 금빛 게으른 울음을 우는 곳,\r\n",
      "\n",
      "4 ―그곳이 차마 꿈엔들 잊힐 리야.\r\n",
      "\n",
      "5 \r\n",
      "\n",
      "6 질화로에 재가 식어지면\r\n",
      "\n",
      "7 뷔인 밭에 밤바람 소리 말을 달리고,\r\n",
      "\n",
      "8 엷은 졸음에 겨운 늙으신 아버지가\r\n",
      "\n",
      "9 짚벼개를 돋아 고이시는 곳,\r\n",
      "\n",
      "10 ―그곳이 차마 꿈엔들 잊힐 리야.\r\n",
      "\n",
      "11 \r\n",
      "\n",
      "12 흙에서 자란 내 마음\r\n",
      "\n",
      "13 파아란 하늘 빛이 그리워\r\n",
      "\n",
      "14 함부로 쏜 화살을 찾으려\r\n",
      "\n",
      "15 풀섶 이슬에 함추름 휘적시던 곳,\r\n",
      "\n",
      "16 ―그곳이 차마 꿈엔들 잊힐 리야.\r\n",
      "\n",
      "17 \r\n",
      "\n",
      "18 전설바다에 춤추는 밤물결 같은\r\n",
      "\n",
      "19 검은 귀밑머리 날리는 어린 누이와\r\n",
      "\n",
      "20 아무렇지도 않고 예쁠 것도 없는\r\n",
      "\n",
      "21 사철 발벗은 아내가\r\n",
      "\n",
      "22 따가운 햇살을 등에 지고 이삭 줍던 곳,\r\n",
      "\n",
      "23 ―그곳이 차마 꿈엔들 잊힐 리야.\r\n",
      "\n",
      "24 \r\n",
      "\n",
      "25 하늘에는 석근 별\r\n",
      "\n",
      "26 알 수도 없는 모래성으로 발을 옮기고,\r\n",
      "\n",
      "27 서리 까마귀 우지짖고 지나가는\r\n",
      "\n",
      "28 초라한 지붕,\r\n",
      "\n",
      "29 흐릿한 불빛에 돌아앉아 도란도란거리는 곳,\r\n",
      "\n",
      "30 ―그곳이 차마 꿈엔들 잊힐 리야.      \r\n",
      "\n"
     ]
    }
   ],
   "source": [
    "with open(path, 'rb') as f:\n",
    "    lines = f.readlines()\n",
    "    \n",
    "for i, line in enumerate (lines):\n",
    "    print(i, line.decode('utf8'))\n"
   ]
  },
  {
   "cell_type": "code",
   "execution_count": 82,
   "metadata": {},
   "outputs": [],
   "source": [
    "with open(path, 'rb') as source:\n",
    "    data = source.read()\n",
    "    with open('homesickbinary.txt', 'wb') as sink:\n",
    "        sink.write(data)"
   ]
  },
  {
   "cell_type": "code",
   "execution_count": 83,
   "metadata": {},
   "outputs": [],
   "source": [
    "with open(path, 'rb') as source:\n",
    "    data = source.read()\n",
    "    with open('homesicktext.txt', 'wt', encoding='utf8') as sink:\n",
    "        sink.write(data.decode('utf8'))"
   ]
  },
  {
   "cell_type": "code",
   "execution_count": null,
   "metadata": {},
   "outputs": [],
   "source": []
  }
 ],
 "metadata": {
  "kernelspec": {
   "display_name": "Python 3",
   "language": "python",
   "name": "python3"
  },
  "language_info": {
   "codemirror_mode": {
    "name": "ipython",
    "version": 3
   },
   "file_extension": ".py",
   "mimetype": "text/x-python",
   "name": "python",
   "nbconvert_exporter": "python",
   "pygments_lexer": "ipython3",
   "version": "3.7.3"
  }
 },
 "nbformat": 4,
 "nbformat_minor": 4
}
