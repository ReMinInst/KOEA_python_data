{
 "cells": [
  {
   "cell_type": "markdown",
   "metadata": {},
   "source": [
    "## Python Week 7"
   ]
  },
  {
   "cell_type": "markdown",
   "metadata": {},
   "source": [
    "November 9, 2019\n",
    "\n",
    "If the installation was done properly on October 26, we are ready to start machine learning projects.\n",
    "In the following weeks, we'll make a team and pick a project that you are interested in. In order to give you better ideas and understand what AI can do, we'll go over a few examples drawn from engineering and science. \n",
    "\n",
    "Today, let's start with number recognition and image denoising using autoencoder.\n",
    "We'll use the dataset that we previously played with for our plotting. So the data should be in your cloned repository.\n"
   ]
  },
  {
   "cell_type": "code",
   "execution_count": 147,
   "metadata": {},
   "outputs": [],
   "source": [
    "import numpy as np\n",
    "from keras.models import Model\n",
    "from keras.layers import Input, Conv2D, MaxPooling2D, UpSampling2D, Flatten, Dense, Dropout\n",
    "\n",
    "\n",
    "## keras functions are well documented in the Keras Documentaion \n",
    "## https://keras.io\n"
   ]
  },
  {
   "cell_type": "code",
   "execution_count": 148,
   "metadata": {},
   "outputs": [],
   "source": [
    "Xtest3D = np.load('xtest.pickle', allow_pickle=True)\n",
    "Ytest = np.load('ytest.pickle', allow_pickle=True)"
   ]
  },
  {
   "cell_type": "code",
   "execution_count": 149,
   "metadata": {},
   "outputs": [],
   "source": [
    "Xtrain3D = np.load('xtrain.pickle', allow_pickle=True)\n",
    "Ytrain = np.load('ytrain.pickle', allow_pickle=True)"
   ]
  },
  {
   "cell_type": "code",
   "execution_count": 150,
   "metadata": {},
   "outputs": [],
   "source": [
    "## original images have unsigned integer from 0 to 255 (8bit representation of gray scale color) \n",
    "## Since the convolutions are numerical computation, we change the data type to float32 and then \n",
    "## perform normalizations to [0,1] range\n",
    "\n",
    "Xtest3D = Xtest3D.astype('float32')/255.\n",
    "Xtrain3D = Xtrain3D.astype('float32')/255."
   ]
  },
  {
   "cell_type": "code",
   "execution_count": 205,
   "metadata": {},
   "outputs": [],
   "source": [
    "## in order to conform to the shape of inputs to Conv2D\n",
    "## Conv2D expects 4D array\n",
    "## 1st index - sample index\n",
    "## 2nd index - image x\n",
    "## 3rd index - image y\n",
    "## 4th index - channel (Ex. RGB values in color images)\n",
    "\n",
    "Xtest = Xtest3D.reshape((*Xtest3D.shape, 1))\n",
    "Xtrain = Xtrain3D.reshape((*Xtrain3D.shape, 1))"
   ]
  },
  {
   "cell_type": "code",
   "execution_count": 206,
   "metadata": {},
   "outputs": [],
   "source": [
    "## Since the computing power and time is limitted, let's reduce the size of training and test datasets \n",
    "Xtest = Xtest[0:100,:]\n",
    "Xtrain = Xtrain[0:600,:]\n",
    "Ytest = Ytest[0:100]\n",
    "Ytrain = Ytrain[0:600]"
   ]
  },
  {
   "cell_type": "code",
   "execution_count": 207,
   "metadata": {},
   "outputs": [
    {
     "name": "stdout",
     "output_type": "stream",
     "text": [
      "(100, 28, 28, 1) (100,)\n",
      "float32 uint8\n"
     ]
    }
   ],
   "source": [
    "## Let's check the shape and type of the our test dataset\n",
    "\n",
    "print(Xtest.shape, Ytest.shape)\n",
    "print(Xtest.dtype, Ytest.dtype)"
   ]
  },
  {
   "cell_type": "code",
   "execution_count": 202,
   "metadata": {},
   "outputs": [
    {
     "name": "stdout",
     "output_type": "stream",
     "text": [
      "(600, 28, 28) (600,)\n",
      "float32 uint8\n"
     ]
    }
   ],
   "source": [
    "print(Xtrain.shape, Ytrain.shape)\n",
    "print(Xtrain.dtype, Ytrain.dtype)"
   ]
  },
  {
   "cell_type": "code",
   "execution_count": 210,
   "metadata": {},
   "outputs": [],
   "source": [
    "\n",
    "def model(choice = 2):\n",
    "    '''\n",
    "    input parameters\n",
    "      choice - 1, classification of mnist handwriting images\n",
    "               2, encoding and decoding for denoising\n",
    "               \n",
    "    output\n",
    "      keras model defining the network from an input to the final output\n",
    "    '''\n",
    "    \n",
    "    \n",
    "    input_img = Input(shape=(28, 28, 1))\n",
    "    x1 = Conv2D(32, (3,3), activation='relu', padding='same')(input_img)\n",
    "    x2 = MaxPooling2D((2,2), padding='same')(x1)\n",
    "    x3 = Conv2D(32, (3,3), activation='relu', padding='same')(x2)\n",
    "    \n",
    "    encoded = MaxPooling2D((2,2), padding='same')(x3)\n",
    "    c1 = Flatten()(encoded)\n",
    "    c2 = Dense(128, activation='relu')(c1)\n",
    "    c3 = Dropout(0.2)(c2)\n",
    "    \n",
    "    ## this is the final output for classification\n",
    "    classifierOutput = Dense(10, activation='softmax')(c3)\n",
    "    \n",
    "    ## The following layers from y4 to decoded is for denoising\n",
    "    ## we'll cover this in the next meeting\n",
    "    y4 = Conv2D(32, (3,3), activation='relu', padding='same')(encoded)\n",
    "    y3 = UpSampling2D((2,2))(y4)\n",
    "    y2 = Conv2D(32, (3,3), activation='relu', padding='same')(y3)\n",
    "    y1 = UpSampling2D((2,2))(y2)\n",
    "    \n",
    "    decoded = Conv2D(1, (3,3), activation='sigmoid', padding='same')(y1)\n",
    "    \n",
    "    if choice == 1:\n",
    "        return Model(input_img, classifierOutput)\n",
    "    else: \n",
    "        \n",
    "        ## This part is for the next meeting\n",
    "        \n",
    "        return Model(input_img, decoded)    "
   ]
  },
  {
   "cell_type": "code",
   "execution_count": 218,
   "metadata": {},
   "outputs": [],
   "source": [
    "## Here we call a function and get our model defintion.\n",
    "myclassifier = model(1)"
   ]
  },
  {
   "cell_type": "code",
   "execution_count": 219,
   "metadata": {},
   "outputs": [],
   "source": [
    "## Once a model is defined, we need to configure the model for trainging \n",
    "## by selecting optimizer and loss function\n",
    "\n",
    "myclassifier.compile(optimizer='adam', loss='sparse_categorical_crossentropy', metrics=['accuracy'])"
   ]
  },
  {
   "cell_type": "code",
   "execution_count": 220,
   "metadata": {},
   "outputs": [
    {
     "name": "stdout",
     "output_type": "stream",
     "text": [
      "Epoch 1/20\n",
      "600/600 [==============================] - 1s 2ms/step - loss: 2.2227 - acc: 0.2650\n",
      "Epoch 2/20\n",
      "600/600 [==============================] - 0s 568us/step - loss: 1.8940 - acc: 0.5317\n",
      "Epoch 3/20\n",
      "600/600 [==============================] - 0s 565us/step - loss: 1.3713 - acc: 0.6983\n",
      "Epoch 4/20\n",
      "600/600 [==============================] - 0s 567us/step - loss: 0.9239 - acc: 0.7517\n",
      "Epoch 5/20\n",
      "600/600 [==============================] - 0s 566us/step - loss: 0.6760 - acc: 0.7883\n",
      "Epoch 6/20\n",
      "600/600 [==============================] - 0s 568us/step - loss: 0.5723 - acc: 0.8183\n",
      "Epoch 7/20\n",
      "600/600 [==============================] - 0s 566us/step - loss: 0.4970 - acc: 0.8500\n",
      "Epoch 8/20\n",
      "600/600 [==============================] - 0s 588us/step - loss: 0.4048 - acc: 0.8683\n",
      "Epoch 9/20\n",
      "600/600 [==============================] - 0s 568us/step - loss: 0.3662 - acc: 0.8900\n",
      "Epoch 10/20\n",
      "600/600 [==============================] - 0s 566us/step - loss: 0.3092 - acc: 0.9000\n",
      "Epoch 11/20\n",
      "600/600 [==============================] - 0s 568us/step - loss: 0.2953 - acc: 0.9133\n",
      "Epoch 12/20\n",
      "600/600 [==============================] - 0s 566us/step - loss: 0.2537 - acc: 0.9167\n",
      "Epoch 13/20\n",
      "600/600 [==============================] - 0s 569us/step - loss: 0.2249 - acc: 0.9333\n",
      "Epoch 14/20\n",
      "600/600 [==============================] - 0s 569us/step - loss: 0.1963 - acc: 0.9367\n",
      "Epoch 15/20\n",
      "600/600 [==============================] - 0s 568us/step - loss: 0.1952 - acc: 0.9400\n",
      "Epoch 16/20\n",
      "600/600 [==============================] - 0s 569us/step - loss: 0.1714 - acc: 0.9483\n",
      "Epoch 17/20\n",
      "600/600 [==============================] - 0s 569us/step - loss: 0.1278 - acc: 0.9617\n",
      "Epoch 18/20\n",
      "600/600 [==============================] - 0s 568us/step - loss: 0.1206 - acc: 0.9667\n",
      "Epoch 19/20\n",
      "600/600 [==============================] - 0s 570us/step - loss: 0.1008 - acc: 0.9700\n",
      "Epoch 20/20\n",
      "600/600 [==============================] - 0s 568us/step - loss: 0.0950 - acc: 0.9750\n"
     ]
    },
    {
     "data": {
      "text/plain": [
       "<keras.callbacks.History at 0x7f70f1805f60>"
      ]
     },
     "execution_count": 220,
     "metadata": {},
     "output_type": "execute_result"
    }
   ],
   "source": [
    "## This is the traing stage that is compute intensive and may require high performance computers\n",
    "## or GPU machines if the size of the training dataset is huge\n",
    "## \n",
    "## In the begining of notebook, we decimated the size of the training dataset to finish our meeting on time\n",
    "## If you increase the epochs, the number of data repetition,\n",
    "## the running time will increase linearly proportional to the epochs.\n",
    "myclassifier.fit(Xtrain, Ytrain, epochs=20, batch_size=128)"
   ]
  },
  {
   "cell_type": "code",
   "execution_count": 221,
   "metadata": {},
   "outputs": [],
   "source": [
    "Xpred = myclassifier.predict(Xtest)"
   ]
  },
  {
   "cell_type": "code",
   "execution_count": 232,
   "metadata": {},
   "outputs": [
    {
     "name": "stdout",
     "output_type": "stream",
     "text": [
      "100/100 [==============================] - 0s 371us/step\n"
     ]
    },
    {
     "data": {
      "text/plain": [
       "[0.22455505013465882, 0.94]"
      ]
     },
     "execution_count": 232,
     "metadata": {},
     "output_type": "execute_result"
    }
   ],
   "source": [
    "myclassifier.evaluate(Xtest, Ytest)"
   ]
  },
  {
   "cell_type": "code",
   "execution_count": 234,
   "metadata": {},
   "outputs": [],
   "source": [
    "# In the above, the test accuracy is 94%\n",
    "# Our model made wrong predictions in 6 cases out of 100."
   ]
  },
  {
   "cell_type": "code",
   "execution_count": 235,
   "metadata": {},
   "outputs": [],
   "source": [
    "## Now, let's find out which image (handwriting) is not understood(classified) correctly.\n",
    "XpredFinal = [np.argmax(x) for x in Xpred]"
   ]
  },
  {
   "cell_type": "code",
   "execution_count": 236,
   "metadata": {},
   "outputs": [],
   "source": [
    "XpredFinalArray = np.array(XpredFinal, dtype='float32')\n",
    "YtestFinalArray = Ytest.astype('float32')"
   ]
  },
  {
   "cell_type": "code",
   "execution_count": 237,
   "metadata": {},
   "outputs": [],
   "source": [
    "Errors = Ytest - XpredFinalArray"
   ]
  },
  {
   "cell_type": "code",
   "execution_count": 238,
   "metadata": {},
   "outputs": [],
   "source": [
    "maxErrorLocation = np.argmax(np.abs(Errors))"
   ]
  },
  {
   "cell_type": "code",
   "execution_count": 239,
   "metadata": {},
   "outputs": [],
   "source": [
    "ximage = Xtest[maxErrorLocation,  :]"
   ]
  },
  {
   "cell_type": "code",
   "execution_count": 240,
   "metadata": {},
   "outputs": [],
   "source": [
    "ximage2d = ximage.reshape(ximage.shape[0], ximage.shape[1])"
   ]
  },
  {
   "cell_type": "code",
   "execution_count": 241,
   "metadata": {},
   "outputs": [
    {
     "data": {
      "text/plain": [
       "<matplotlib.image.AxesImage at 0x7f70e8579be0>"
      ]
     },
     "execution_count": 241,
     "metadata": {},
     "output_type": "execute_result"
    },
    {
     "data": {
      "image/png": "[encoded data removed]",
      "text/plain": [
       "<Figure size 432x288 with 1 Axes>"
      ]
     },
     "metadata": {},
     "output_type": "display_data"
    }
   ],
   "source": [
    "import matplotlib.pyplot as plt\n",
    "plt.imshow(ximage2d)\n",
    "\n",
    "# this figure looks 4 but at the same time, it is close to 9.\n",
    "# our model predition is 9. But it is not totally wrong, I think.\n"
   ]
  },
  {
   "cell_type": "code",
   "execution_count": 230,
   "metadata": {},
   "outputs": [
    {
     "name": "stdout",
     "output_type": "stream",
     "text": [
      "9.0\n"
     ]
    }
   ],
   "source": [
    "# prediction \n",
    "print(XpredFinalArray[maxErrorLocation])"
   ]
  },
  {
   "cell_type": "code",
   "execution_count": 231,
   "metadata": {},
   "outputs": [
    {
     "name": "stdout",
     "output_type": "stream",
     "text": [
      "4\n"
     ]
    }
   ],
   "source": [
    "# Correction Answer\n",
    "print(Ytest[maxErrorLocation])"
   ]
  }
 ],
 "metadata": {
  "kernelspec": {
   "display_name": "Python 3",
   "language": "python",
   "name": "python3"
  },
  "language_info": {
   "codemirror_mode": {
    "name": "ipython",
    "version": 3
   },
   "file_extension": ".py",
   "mimetype": "text/x-python",
   "name": "python",
   "nbconvert_exporter": "python",
   "pygments_lexer": "ipython3",
   "version": "3.5.5"
  }
 },
 "nbformat": 4,
 "nbformat_minor": 2
}
