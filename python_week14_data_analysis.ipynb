{
 "cells": [
  {
   "cell_type": "markdown",
   "metadata": {},
   "source": [
    "## Python for Data Analysis (Numpy and Pandas)"
   ]
  },
  {
   "cell_type": "markdown",
   "metadata": {},
   "source": [
    "First, let's make a database with students' school record. \n",
    "\n",
    "| name  | student id  |grade1| grade2| grade3  |\n",
    "| --- | --- | --- |--- | --- |\n",
    "| David |  915  |    85      |       34      |        98        |\n",
    "| John  |  927   |   75       |      80      |        79        |\n",
    "| Mark  |  876   |   88       |      89      |        90        |\n",
    "\n",
    "\n",
    "This is also provided in csv files. One of them has the header \"name, student id, ...\" and the other one doesn't."
   ]
  },
  {
   "cell_type": "markdown",
   "metadata": {},
   "source": [
    "# Pandas"
   ]
  },
  {
   "cell_type": "code",
   "execution_count": null,
   "metadata": {},
   "outputs": [],
   "source": [
    "import pandas as pd\n",
    "import numpy as np"
   ]
  },
  {
   "cell_type": "code",
   "execution_count": null,
   "metadata": {},
   "outputs": [],
   "source": [
    "# Define our data and put it into a pandas dataframe\n",
    "# To that end, dictionary can be used\n",
    "\n",
    "data = {'name': ['Alice','bob','Chris'], 'sid':[ 915, 927, 876], 'grade1':[85, 75, 88], 'grade2':[34, 80, 89], 'grade3':[98, 79, 90]}\n",
    "\n",
    "# another way to define it is \n",
    "# adding one attritube at a time\n",
    "data2 = dict()\n",
    "data2['name'] = ['Alice','bob','Chris']\n",
    "data2['sid'] = [ 915, 927, 876]\n",
    "data2['grade1'] = [85, 75, 88]\n",
    "data2['grade2'] = [34, 80, 89]\n",
    "data2['grade3'] = [98, 79, 90]\n",
    "\n",
    "data == data2"
   ]
  },
  {
   "cell_type": "code",
   "execution_count": null,
   "metadata": {},
   "outputs": [],
   "source": [
    "# dictionary is used to associate a key value and a corresponding attribute\n",
    "# for example, data[key ], where key = 'name', 'sid', 'grade1',...\n",
    "print('Names are {}\\ncourse 1 grades are {} '.format(data['name'],data['grade1']))\n"
   ]
  },
  {
   "cell_type": "code",
   "execution_count": null,
   "metadata": {},
   "outputs": [],
   "source": [
    "# can we get some statistics out of them?\n",
    "print('%.4f %.4f \\n'%(np.mean(data['grade1']), np.std(data['grade1'])))\n",
    "print('{0:.4f} {1:.4f}'.format(np.mean(data['grade2']), np.std(data['grade2']) ) )"
   ]
  },
  {
   "cell_type": "code",
   "execution_count": null,
   "metadata": {},
   "outputs": [],
   "source": [
    "df = pd.DataFrame(data)"
   ]
  },
  {
   "cell_type": "code",
   "execution_count": null,
   "metadata": {},
   "outputs": [],
   "source": [
    "# let's import data from csv, comma separated value format.\n",
    "df = pd.read_csv('grade.csv')"
   ]
  },
  {
   "cell_type": "code",
   "execution_count": null,
   "metadata": {},
   "outputs": [],
   "source": [
    "df"
   ]
  },
  {
   "cell_type": "code",
   "execution_count": null,
   "metadata": {},
   "outputs": [],
   "source": [
    "df = pd.read_csv('grade_wo_header.csv')"
   ]
  },
  {
   "cell_type": "code",
   "execution_count": null,
   "metadata": {},
   "outputs": [],
   "source": [
    "# we are in trouble. Let's check\n",
    "df"
   ]
  },
  {
   "cell_type": "code",
   "execution_count": null,
   "metadata": {},
   "outputs": [],
   "source": [
    "# since the file does not have header names, let's give them while reading\n",
    "df = pd.read_csv('grade_wo_header.csv', names = ['name', 'sid', 'grade1', 'grade2', 'grade3'])"
   ]
  },
  {
   "cell_type": "code",
   "execution_count": null,
   "metadata": {},
   "outputs": [],
   "source": [
    "# now, it is what it should be\n",
    "df"
   ]
  }
 ],
 "metadata": {
  "kernelspec": {
   "display_name": "Python 3",
   "language": "python",
   "name": "python3"
  },
  "language_info": {
   "codemirror_mode": {
    "name": "ipython",
    "version": 3
   },
   "file_extension": ".py",
   "mimetype": "text/x-python",
   "name": "python",
   "nbconvert_exporter": "python",
   "pygments_lexer": "ipython3",
   "version": "3.7.3"
  }
 },
 "nbformat": 4,
 "nbformat_minor": 4
}
