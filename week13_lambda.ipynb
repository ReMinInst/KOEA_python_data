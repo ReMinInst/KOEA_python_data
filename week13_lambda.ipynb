{
 "cells": [
  {
   "cell_type": "markdown",
   "metadata": {},
   "source": [
    "## Python for Data Analysis (Numpy and Pandas)"
   ]
  },
  {
   "cell_type": "markdown",
   "metadata": {},
   "source": [
    "### From this week, we follow a data analysis book as announced.\n",
    "\n",
    "Please read chapter 1, 2, and 3 on your own. I found the book is very informative and helpful.<br>\n",
    "Among the topics covered in the book, we'll pick and choose a few items and deep dive into them one by one. <br>\n",
    "In this example, the topic is **lambda function**. In order to understand what lambda function is, we need to understand why and when we need. <br>\n",
    "Let's try to solve a sorting problem which is easily understandable and you will see how convenient lambda functions are."
   ]
  },
  {
   "cell_type": "markdown",
   "metadata": {},
   "source": [
    "# Sorting and Lambda function"
   ]
  },
  {
   "cell_type": "code",
   "execution_count": 36,
   "metadata": {},
   "outputs": [],
   "source": [
    "# Sorting\n",
    "# if we have a list of integers like this\n",
    "a = [2, 5, 8, 1, 0]\n"
   ]
  },
  {
   "cell_type": "code",
   "execution_count": 37,
   "metadata": {},
   "outputs": [
    {
     "name": "stdout",
     "output_type": "stream",
     "text": [
      "[0, 1, 2, 5, 8]\n"
     ]
    }
   ],
   "source": [
    "a.sort(); print(a)"
   ]
  },
  {
   "cell_type": "code",
   "execution_count": 38,
   "metadata": {},
   "outputs": [
    {
     "name": "stdout",
     "output_type": "stream",
     "text": [
      "[8, 5, 2, 1, 0]\n"
     ]
    }
   ],
   "source": [
    "a.sort(reverse=True); print(a)"
   ]
  },
  {
   "cell_type": "code",
   "execution_count": 39,
   "metadata": {},
   "outputs": [],
   "source": [
    "# let's sort a list of strings\n",
    "b = ['awe', 'small', 'sos', 'soxes', 'success']"
   ]
  },
  {
   "cell_type": "code",
   "execution_count": 40,
   "metadata": {},
   "outputs": [
    {
     "name": "stdout",
     "output_type": "stream",
     "text": [
      "['awe', 'small', 'sos', 'soxes', 'success']\n"
     ]
    }
   ],
   "source": [
    "# Without any option, how is the list going to be sorted?\n",
    "b.sort(); print(b)"
   ]
  },
  {
   "cell_type": "markdown",
   "metadata": {},
   "source": [
    "# How can we sort a list of strings from shortest to longest?"
   ]
  },
  {
   "cell_type": "code",
   "execution_count": 41,
   "metadata": {},
   "outputs": [
    {
     "name": "stdout",
     "output_type": "stream",
     "text": [
      "['awe', 'sos', 'small', 'soxes', 'success']\n"
     ]
    }
   ],
   "source": [
    "# the answer is using \"key\"  \n",
    "b.sort(key=len); print(b)"
   ]
  },
  {
   "cell_type": "code",
   "execution_count": 42,
   "metadata": {},
   "outputs": [
    {
     "name": "stdout",
     "output_type": "stream",
     "text": [
      "['awe', 'small', 'sos', 'soxes', 'success']\n"
     ]
    }
   ],
   "source": [
    "## method 1 using a lambda function\n",
    "b.sort(key = lambda x: x.count('s')); print(b)"
   ]
  },
  {
   "cell_type": "code",
   "execution_count": 43,
   "metadata": {},
   "outputs": [
    {
     "name": "stdout",
     "output_type": "stream",
     "text": [
      "['awe', 'small', 'sos', 'soxes', 'success']\n"
     ]
    }
   ],
   "source": [
    "#  method 2 using a regular function\n",
    "#  if we do not use a lambda function\n",
    "#  we can use a regular funciton \n",
    "\n",
    "def countS(instr):\n",
    "    return instr.count('s')\n",
    "\n",
    "b.sort(key = countS); print(b)\n",
    "\n",
    "## which one is more convenient between them?"
   ]
  },
  {
   "cell_type": "markdown",
   "metadata": {},
   "source": [
    "# Lets create a dataset with students' record"
   ]
  },
  {
   "cell_type": "code",
   "execution_count": 44,
   "metadata": {},
   "outputs": [],
   "source": [
    "students = list()\n",
    "for a, b, c in zip([915, 927, 876], ['Alice', 'Bob', 'Chris'], [ [85, 34, 98],[75, 80, 79], [88, 89, 90]]):\n",
    "    student = dict()\n",
    "    student[\"name\"] = b\n",
    "    student[\"sid\"] = a\n",
    "    student[\"grade\"] = c\n",
    "    students.append(student)"
   ]
  },
  {
   "cell_type": "code",
   "execution_count": 45,
   "metadata": {},
   "outputs": [
    {
     "name": "stdout",
     "output_type": "stream",
     "text": [
      "Alice 915 [85, 34, 98]\n",
      "Bob 927 [75, 80, 79]\n",
      "Chris 876 [88, 89, 90]\n"
     ]
    }
   ],
   "source": [
    "for s in students:\n",
    "    print(s[\"name\"], s[\"sid\"], s[\"grade\"])"
   ]
  },
  {
   "cell_type": "code",
   "execution_count": 46,
   "metadata": {},
   "outputs": [],
   "source": [
    "import numpy as np\n",
    "class Student():\n",
    "    def __init__(self, name, sid, grade):\n",
    "        self.name = name\n",
    "        self.sid = sid\n",
    "        self.grade = grade\n",
    "    def compute(self):\n",
    "        self.mean = np.mean(self.grade)\n",
    "        self.std = np.std(self.grade)"
   ]
  },
  {
   "cell_type": "code",
   "execution_count": 47,
   "metadata": {},
   "outputs": [],
   "source": [
    "Alice = Student(\"Alice\", 915, [85, 34, 98])\n",
    "Bob   = Student(\"Bob\", 927, [75, 80, 79])\n",
    "Chris = Student(\"Chris\", 876, [88, 89, 90])\n",
    "Students = list([Alice, Bob, Chris])"
   ]
  },
  {
   "cell_type": "markdown",
   "metadata": {},
   "source": [
    "### Quiz \n",
    "####  By now, we have a list of students.  Can you sort the list in the order of student id? <br>Since you understand lambda function and with the following example, try to sort with student id. <br>The correct answer should be  Bob, Alice, Chris."
   ]
  },
  {
   "cell_type": "code",
   "execution_count": 48,
   "metadata": {},
   "outputs": [],
   "source": [
    "## Let's compute mean and standard deviations for each record\n",
    "## in order to sort them with them as keys\n",
    "for s in Students:\n",
    "    s.compute()"
   ]
  },
  {
   "cell_type": "code",
   "execution_count": 49,
   "metadata": {},
   "outputs": [],
   "source": [
    "## Let's sort the students in the ascending order of standard deviation\n",
    "Students.sort(key=lambda x:x.std, reverse=True)"
   ]
  },
  {
   "cell_type": "code",
   "execution_count": 50,
   "metadata": {
    "scrolled": true
   },
   "outputs": [
    {
     "name": "stdout",
     "output_type": "stream",
     "text": [
      "Alice 72.333\n",
      "Bob 78.000\n",
      "Chris 89.000\n"
     ]
    }
   ],
   "source": [
    "for s in Students:\n",
    "    print('%s %.3f'%(s.name, s.mean))"
   ]
  }
 ],
 "metadata": {
  "kernelspec": {
   "display_name": "Python 3",
   "language": "python",
   "name": "python3"
  },
  "language_info": {
   "codemirror_mode": {
    "name": "ipython",
    "version": 3
   },
   "file_extension": ".py",
   "mimetype": "text/x-python",
   "name": "python",
   "nbconvert_exporter": "python",
   "pygments_lexer": "ipython3",
   "version": "3.7.3"
  }
 },
 "nbformat": 4,
 "nbformat_minor": 4
}
