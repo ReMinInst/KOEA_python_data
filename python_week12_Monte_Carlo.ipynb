{
 "cells": [
  {
   "cell_type": "code",
   "execution_count": null,
   "metadata": {},
   "outputs": [],
   "source": [
    "import numpy as np\n",
    "import scipy as sp\n",
    "import matplotlib.pyplot as plt"
   ]
  },
  {
   "cell_type": "code",
   "execution_count": null,
   "metadata": {},
   "outputs": [],
   "source": [
    "def comperror(numsamp):\n",
    "    Dx = 2.*np.random.rand(numsamp)-1\n",
    "    Dy = 2.*np.random.rand(numsamp)-1\n",
    "    z = (Dx**2 + Dy**2 < 1.0)\n",
    "    e = np.abs(np.pi/4 - np.sum(z)/numsamp)\n",
    "    return e"
   ]
  },
  {
   "cell_type": "code",
   "execution_count": null,
   "metadata": {},
   "outputs": [],
   "source": [
    "numtrial = 15;\n",
    "ea = np.zeros(numtrial)\n",
    "num = np.zeros(numtrial)\n",
    "\n",
    "for ik in range(15):\n",
    "    numsamp = 2**ik\n",
    "    num[ik] = numsamp\n",
    "    ea[ik] = comperror(numsamp)"
   ]
  },
  {
   "cell_type": "code",
   "execution_count": null,
   "metadata": {},
   "outputs": [],
   "source": [
    "plt.loglog(num, ea)\n",
    "plt.xlabel('number of samples')\n",
    "plt.ylabel('Errors')\n",
    "plt.title('Error vs. # of samples')"
   ]
  },
  {
   "cell_type": "code",
   "execution_count": null,
   "metadata": {},
   "outputs": [],
   "source": [
    "plt.figure(figsize=(12,6))\n",
    "plt.loglog(num, ea)\n",
    "plt.xlabel('Number of samples', fontsize=16)\n",
    "plt.ylabel('Errors', fontsize=15)\n",
    "plt.title('Error vs. # of samples', fontsize=16)\n",
    "plt.xticks(fontsize=14)\n",
    "plt.yticks(fontsize=14)\n",
    "plt.xlim(0.5, 25000)\n",
    "plt.ylim(1e-5, 1)"
   ]
  },
  {
   "cell_type": "code",
   "execution_count": null,
   "metadata": {},
   "outputs": [],
   "source": [
    "fig, ax = plt.subplots(1,2, figsize=(12,6))\n",
    "\n",
    "fig.subplots_adjust(hspace=0.2, wspace=0.35)\n",
    "\n",
    "ax[0].loglog(num, ea)\n",
    "ax[0].set_xlabel('Number of samples', fontsize=16)\n",
    "ax[0].set_ylabel('Errors', fontsize=15)\n",
    "ax[0].set_title('Error vs. # of samples', fontsize=16)\n",
    "ax[0].tick_params(axis='both', labelsize=14)\n",
    "\n",
    "ax[1].scatter(num, ea)\n",
    "ax[1].set_xlabel('Number of samples', fontsize=16)\n",
    "ax[1].set_ylabel('Errors', fontsize=15)\n",
    "ax[1].set_title('Error vs. # of samples', fontsize=16)\n",
    "ax[1].tick_params(axis='both', labelsize=14)\n",
    "ax[1].set_xlim(-1000, 17000)\n",
    "ax[1].set_ylim(-0.1, 0.4)\n"
   ]
  }
 ],
 "metadata": {
  "kernelspec": {
   "display_name": "Python 3",
   "language": "python",
   "name": "python3"
  },
  "language_info": {
   "codemirror_mode": {
    "name": "ipython",
    "version": 3
   },
   "file_extension": ".py",
   "mimetype": "text/x-python",
   "name": "python",
   "nbconvert_exporter": "python",
   "pygments_lexer": "ipython3",
   "version": "3.7.3"
  }
 },
 "nbformat": 4,
 "nbformat_minor": 2
}
