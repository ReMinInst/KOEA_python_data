{
 "cells": [
  {
   "cell_type": "markdown",
   "metadata": {},
   "source": [
    "## Python Week 6"
   ]
  },
  {
   "cell_type": "markdown",
   "metadata": {},
   "source": [
    "October 26, 2019\n",
    "\n",
    "After our last meeting on October 12, I updated week 5 notebook since some members showed interests in plotting multiple figures. Please review it if python plotting with matplotlib is your interest. \n",
    "\n",
    "We already reached a milestone, having covered basic python programming and testing a few core packages like numpy.\n",
    "Before we enter into machine learning, the enabler of data processing automation and the new wave of data science,\n",
    "we need to do some installations. \n",
    "First, in order to organize our code and data better, we check three linux commands: git, wget, and curl.\n",
    "\n",
    "- git, a fast, scalable, distributed revision control system\n",
    "\n",
    "- gitbash, a bash emulation on which you can run git commands. You can install the gitbash on your widnows after getting an installation file from https://gitforwindows.org/.  \n",
    "\n",
    "- msys2 \n",
    "  If you want more powerful terminals on windows, please install MSYS2 from https://www.msys2.org/.\n",
    "  \n",
    "- wget, a network utility to retrieve files from the World Wide Web using HTTP, HTTPS, and FTP. wget is not included in gitbash, but curl is.\n",
    "\n",
    "- curl, a command-line tool for getting or sending data including files using URL syntax\n",
    " \n",
    "However, this is not the end of today's session.terminals\n",
    "We install 4 popular machine learning frameworks, pytorch, tensor flow, keras, and scikit-learn, starting our data science adventure. \n",
    "\n",
    "Our next meetings touch the following topics using the packages we'll install today. Please let me know if any of them interests you.\n",
    "\n",
    "* data interpolation\n",
    "* regression\n",
    "* forecasting \n",
    "* clustering (unsupervised)\n",
    "* image processing\n",
    "* image recognition  \n",
    "\n",
    "Enjoy the last week of october. \n"
   ]
  },
  {
   "cell_type": "code",
   "execution_count": null,
   "metadata": {},
   "outputs": [],
   "source": []
  },
  {
   "cell_type": "markdown",
   "metadata": {},
   "source": [
    "## git, wget, curl"
   ]
  },
  {
   "cell_type": "code",
   "execution_count": null,
   "metadata": {},
   "outputs": [],
   "source": [
    "## git example\n",
    "\n",
    "## to start a new repository, cd to a directory whose changes you want to keep track of.\n",
    "# !git init  \n",
    "\n",
    "## to get a copy of koea and save it in your local computer\n",
    "# !git clone https://github.com/ReMinInst/koea.git\n",
    "\n",
    "# !git status\n",
    "# !git diff\n",
    "# !git add"
   ]
  },
  {
   "cell_type": "code",
   "execution_count": null,
   "metadata": {},
   "outputs": [],
   "source": [
    "## wget example\n",
    "## wget is not included in gitbash so you need to run this command in msys\n",
    "## If \n",
    "# !wget https://www.google.com\n",
    "##"
   ]
  },
  {
   "cell_type": "code",
   "execution_count": null,
   "metadata": {},
   "outputs": [],
   "source": [
    "## curl example\n",
    "# !curl www.google.com \n"
   ]
  },
  {
   "cell_type": "markdown",
   "metadata": {},
   "source": [
    "## pytorch, keras, tensorflow, scikit-learn"
   ]
  },
  {
   "cell_type": "code",
   "execution_count": null,
   "metadata": {},
   "outputs": [],
   "source": [
    "## Please install the following 4 packages using your anaconda navigator\n",
    "## pytorch, tensorflow, keras, scikit-learn\n",
    "\n",
    "## For some reason, if the installation of any package is not working properly, \n",
    "## it is a good idea to update your anaconda.\n",
    "## You can update your anaconda by open \"terminal\" and \n",
    "##         run \"conda update --prefix=C:\\Users\\YOURID\\Anaconda3 anaconda\"\n",
    "## Creating a new environment is also recommended in order not to disturb your current working python and your code requirement."
   ]
  },
  {
   "cell_type": "code",
   "execution_count": null,
   "metadata": {},
   "outputs": [],
   "source": [
    "# check if you can import them\n",
    "\n",
    "import torch\n",
    "import keras\n",
    "import tensorflow\n",
    "from sklearn import datasets"
   ]
  },
  {
   "cell_type": "code",
   "execution_count": null,
   "metadata": {},
   "outputs": [],
   "source": [
    "# check avaiable subpackages of pytorch\n",
    "help(torch)"
   ]
  },
  {
   "cell_type": "code",
   "execution_count": null,
   "metadata": {},
   "outputs": [],
   "source": [
    "help(keras)"
   ]
  },
  {
   "cell_type": "code",
   "execution_count": null,
   "metadata": {},
   "outputs": [],
   "source": [
    "help(tensorflow)"
   ]
  },
  {
   "cell_type": "code",
   "execution_count": null,
   "metadata": {},
   "outputs": [],
   "source": [
    "help(sklearn)"
   ]
  }
 ],
 "metadata": {
  "kernelspec": {
   "display_name": "Python 3",
   "language": "python",
   "name": "python3"
  },
  "language_info": {
   "codemirror_mode": {
    "name": "ipython",
    "version": 3
   },
   "file_extension": ".py",
   "mimetype": "text/x-python",
   "name": "python",
   "nbconvert_exporter": "python",
   "pygments_lexer": "ipython3",
   "version": "3.5.5"
  }
 },
 "nbformat": 4,
 "nbformat_minor": 2
}
