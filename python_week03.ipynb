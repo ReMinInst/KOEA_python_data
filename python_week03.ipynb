{
 "cells": [
  {
   "cell_type": "markdown",
   "metadata": {},
   "source": [
    "# Python Week 3"
   ]
  },
  {
   "cell_type": "markdown",
   "metadata": {},
   "source": [
    "It is exciting to start our week 3.\n",
    "We have discussed our next two meetings because I will be away.\n",
    "On Sept 14, we'll meet at 8 am as usual and go over this notebook together.\n",
    "The following Saturday, Sept 21, there will be no meeting so far.\n",
    "\n",
    "After a few more weeks, we will wrap up our python programming crash course, moving into\n",
    "more data science projects and field applications. Of course, we'll spend more time on understanding \n",
    "machine learning algorithms as needed. From late October and early November, we will discuss more\n",
    "applications including\n",
    "* time series (stock market, electric grid fault detection, Health monitoring,...)\n",
    "* spatial data\n",
    "* spatial-time mixed data\n",
    "\n",
    "This week, we will continue to practice basic python programming.\n",
    "Our topics of this week are \n",
    "* dictionary\n",
    "* keyword arguements vs. positional arguements\n",
    "* passing dictionaries to functions"
   ]
  },
  {
   "cell_type": "markdown",
   "metadata": {},
   "source": [
    "# Quiz"
   ]
  },
  {
   "cell_type": "code",
   "execution_count": 49,
   "metadata": {},
   "outputs": [],
   "source": [
    "# problem 1 \n",
    "guesstype1 = 1, 2, 3\n",
    "## What's the type of guesstype1?\n",
    "# *1 integers\n",
    "# *2 tuple\n",
    "# *3 list\n",
    "# *4 dictionary\n",
    "# *5 something else\n",
    "# *6 syntatic error\n",
    "\n",
    "#  Syntax errors occur during the parsing of input code\n",
    "#     example of syntatic errors\n",
    "#       guesstype1 = 1, 2 3\n",
    "#       guesstype1 = 1, 2; 3\n",
    "#  Sementic errors occur during the execution of the code\n"
   ]
  },
  {
   "cell_type": "code",
   "execution_count": 57,
   "metadata": {},
   "outputs": [],
   "source": [
    "# problem 2\n",
    "guesstype2 = zip(['a', 'b', 'c'], range(3))\n",
    "\n",
    "## How do you print the pairs that guesstype2 has?\n",
    "## What's the type of guesstype2?\n",
    "## What's the type of list(guesstype2)?\n",
    "\n",
    "## write the output of dict(guesstype2) without executing it.\n",
    "## write the output of list(guesstype2) without executing it.\n",
    "\n"
   ]
  },
  {
   "cell_type": "markdown",
   "metadata": {},
   "source": [
    "## Dictionary\n",
    "Dictionaries are convenient because we can associate many things with a key.\n",
    "For example, when we want to keep record of customers and their orders.\n",
    "In order to have a unique key for each customer, we can create a customer ID using his/her last name and date of birth.\n",
    "Under that ID, there are orders\n"
   ]
  },
  {
   "cell_type": "code",
   "execution_count": 2,
   "metadata": {},
   "outputs": [],
   "source": [
    "# the following is the simpliest form of dictionary definition\n",
    "# the keys are \"x\" and \"y\" and their associated values are  1 and 2.\n",
    "d = dict(x=1, y=2)\n",
    "\n",
    "# Now next dictionary dn is a bit complicated.\n",
    "# Keys are stil \"x\", \"y\", \"z\" and the associated values are a list.\n",
    "# \n",
    "dn = {\"x\": [1, \"USA\", \"09-08-2000\"] , \"y\": [2, \"05-23-1995\"], \"z\": [3, \"New Zealand\"]}"
   ]
  },
  {
   "cell_type": "code",
   "execution_count": 3,
   "metadata": {},
   "outputs": [
    {
     "data": {
      "text/plain": [
       "dict"
      ]
     },
     "execution_count": 3,
     "metadata": {},
     "output_type": "execute_result"
    }
   ],
   "source": [
    "type(d)"
   ]
  },
  {
   "cell_type": "code",
   "execution_count": 4,
   "metadata": {},
   "outputs": [
    {
     "data": {
      "text/plain": [
       "dict"
      ]
     },
     "execution_count": 4,
     "metadata": {},
     "output_type": "execute_result"
    }
   ],
   "source": [
    "type(dn)"
   ]
  },
  {
   "cell_type": "code",
   "execution_count": 5,
   "metadata": {},
   "outputs": [
    {
     "name": "stdout",
     "output_type": "stream",
     "text": [
      "1 2\n"
     ]
    }
   ],
   "source": [
    "# accessing dictionary \n",
    "print(d['x'], d['y'])"
   ]
  },
  {
   "cell_type": "code",
   "execution_count": 6,
   "metadata": {},
   "outputs": [
    {
     "name": "stdout",
     "output_type": "stream",
     "text": [
      "z  ---->  [3, 'New Zealand']\n",
      "3\n",
      "New Zealand\n",
      "x  ---->  [1, 'USA', '09-08-2000']\n",
      "1\n",
      "USA\n",
      "09-08-2000\n",
      "y  ---->  [2, '05-23-1995']\n",
      "2\n",
      "05-23-1995\n"
     ]
    }
   ],
   "source": [
    "## looping over dictionary\n",
    "for k, v in dn.items():\n",
    "    print(k, \" ----> \", v )\n",
    "    for e in v:\n",
    "        print(e)"
   ]
  },
  {
   "cell_type": "code",
   "execution_count": null,
   "metadata": {},
   "outputs": [],
   "source": [
    "##adding more items\n",
    "d['z']=3"
   ]
  },
  {
   "cell_type": "code",
   "execution_count": null,
   "metadata": {},
   "outputs": [],
   "source": [
    "for k, v in d.items():\n",
    "    print(k, \" ----> \", v)"
   ]
  },
  {
   "cell_type": "markdown",
   "metadata": {},
   "source": [
    "## Dictionary with multiple keys"
   ]
  },
  {
   "cell_type": "code",
   "execution_count": 2,
   "metadata": {},
   "outputs": [],
   "source": [
    "## Dictionaries can have multiple keys\n",
    "# Let's look at following examples \n",
    "\n",
    "d = dict()"
   ]
  },
  {
   "cell_type": "code",
   "execution_count": 3,
   "metadata": {},
   "outputs": [],
   "source": [
    "# Instead of having one string, last name, we can use two keyes, last name and first name\n",
    "d['kim', 'hs'] = 1"
   ]
  },
  {
   "cell_type": "code",
   "execution_count": 4,
   "metadata": {},
   "outputs": [],
   "source": [
    "d['kim', 'hj'] = 2"
   ]
  },
  {
   "cell_type": "code",
   "execution_count": 7,
   "metadata": {
    "scrolled": true
   },
   "outputs": [],
   "source": [
    "# In a same dictionary, we can mix records with one key and records with two keys.\n",
    "d['Lee']  = 3 "
   ]
  },
  {
   "cell_type": "code",
   "execution_count": 8,
   "metadata": {},
   "outputs": [
    {
     "data": {
      "text/plain": [
       "{('kim', 'hj'): 2, ('kim', 'hs'): 1, 'Lee': 3}"
      ]
     },
     "execution_count": 8,
     "metadata": {},
     "output_type": "execute_result"
    }
   ],
   "source": [
    "d"
   ]
  },
  {
   "cell_type": "markdown",
   "metadata": {},
   "source": [
    "## Counting characters, example of dictionary\n"
   ]
  },
  {
   "cell_type": "code",
   "execution_count": null,
   "metadata": {},
   "outputs": [],
   "source": [
    "## Dictionary is very useful and there are more convenient containers for counting. \n",
    "## For example, Counter and defaultdict. Please pay attention to dictionary. \n",
    "## Counter and defaultdict is more advanced and you can safely ignore them for now.\n",
    "## Let's count characters in a string in three different ways.\n",
    "## Compare these three. Which one do you like? Why?\n",
    "\n",
    "from collections import Counter\n",
    "from collections import defaultdict\n",
    "\n",
    "Cnt = Counter()\n",
    "Dct = dict()\n",
    "Cdct = defaultdict(int)\n",
    "for c in s:\n",
    "#    print(c)\n",
    "    Cnt[c] += 1   \n",
    "    Cdct[c] += 1\n",
    "    if Dct.get(c)== None:\n",
    "        Dct[c]=1\n",
    "    else:\n",
    "        Dct[c] += 1  "
   ]
  },
  {
   "cell_type": "code",
   "execution_count": null,
   "metadata": {},
   "outputs": [],
   "source": [
    "C.most_common(2)"
   ]
  },
  {
   "cell_type": "code",
   "execution_count": null,
   "metadata": {},
   "outputs": [],
   "source": [
    "Dct"
   ]
  },
  {
   "cell_type": "code",
   "execution_count": null,
   "metadata": {},
   "outputs": [],
   "source": [
    "Cdct"
   ]
  },
  {
   "cell_type": "code",
   "execution_count": null,
   "metadata": {},
   "outputs": [],
   "source": [
    "max(Cdct, key=Cdct.get)"
   ]
  },
  {
   "cell_type": "code",
   "execution_count": null,
   "metadata": {},
   "outputs": [],
   "source": [
    "Cdct.pop(' ')"
   ]
  },
  {
   "cell_type": "code",
   "execution_count": null,
   "metadata": {},
   "outputs": [],
   "source": [
    "max(Cdct, key=Cdct.get)"
   ]
  },
  {
   "cell_type": "code",
   "execution_count": null,
   "metadata": {},
   "outputs": [],
   "source": [
    "Cdct.pop('n')"
   ]
  },
  {
   "cell_type": "code",
   "execution_count": null,
   "metadata": {},
   "outputs": [],
   "source": [
    "max(Cdct, key=Cdct.get)"
   ]
  },
  {
   "cell_type": "code",
   "execution_count": null,
   "metadata": {},
   "outputs": [],
   "source": [
    "max(Dct, key = Dct.get)"
   ]
  },
  {
   "cell_type": "code",
   "execution_count": null,
   "metadata": {},
   "outputs": [],
   "source": [
    "for k, v in Dct.items():\n",
    "    print(k, v)"
   ]
  },
  {
   "cell_type": "code",
   "execution_count": null,
   "metadata": {},
   "outputs": [],
   "source": [
    "for k, v in Cdct.items():\n",
    "    print(k,v)"
   ]
  },
  {
   "cell_type": "markdown",
   "metadata": {},
   "source": [
    "## Function"
   ]
  },
  {
   "cell_type": "code",
   "execution_count": 17,
   "metadata": {},
   "outputs": [
    {
     "name": "stdout",
     "output_type": "stream",
     "text": [
      "\n",
      "positional arguments are\n",
      "1\n",
      "2\n",
      "3\n",
      "\n",
      "keyword arguments are\n",
      "l 6\n",
      "k 5\n",
      "\n",
      "keyward and value pairs are\n",
      "key  l  --->  value  6\n",
      "key  k  --->  value  5\n",
      "\n",
      "positional arguments are\n",
      "\n",
      "keyword arguments are\n",
      "\n",
      "keyward and value pairs are\n"
     ]
    }
   ],
   "source": [
    "# The following function \n",
    "\n",
    "\n",
    "def f(*args, **kwargs):\n",
    "    '''\n",
    "    *args    - argument that receives a tuple\n",
    "    **kwargs - argument that receives a dictionary\n",
    "    '''\n",
    "\n",
    "    print(\"\\npositional arguments are\")\n",
    "    for a in args:\n",
    "        print(a)\n",
    "    \n",
    "    print(\"\\nkeyword arguments are\")\n",
    "    for ka in kwargs:\n",
    "        print(ka, kwargs[ka])\n",
    "        \n",
    "        \n",
    "    print(\"\\nkeyward and value pairs are\")\n",
    "    for k, v in kwargs.items():\n",
    "        print(\"key \", k , \" ---> \", \"value \",  v)\n",
    "\n",
    "f(1, 2, 3, k=5, l=6)\n",
    "\n",
    "f()\n"
   ]
  },
  {
   "cell_type": "code",
   "execution_count": null,
   "metadata": {},
   "outputs": [],
   "source": [
    "def addNumbers1(a, b):\n",
    "    return a + 2.*b\n",
    "\n",
    "print(addNumbers(4, 5))\n",
    "\n",
    "## Scattering operator *\n",
    "\n",
    "myt = (1, 2) ## tuple, check with type(myt)\n",
    "print(addNumbers1(*myt))\n"
   ]
  },
  {
   "cell_type": "code",
   "execution_count": 14,
   "metadata": {},
   "outputs": [
    {
     "name": "stdout",
     "output_type": "stream",
     "text": [
      "6.5\n",
      "-3.0\n",
      "40.0\n"
     ]
    }
   ],
   "source": [
    "## function definition with keyword and default values\n",
    "\n",
    "def addNumbers2(first = 1.5, second = 2.5):\n",
    "    return first + 2.*second\n",
    "\n",
    "## Defaults 1.5 and 2.5 are used\n",
    "print(addNumbers2())\n",
    "\n",
    "## You can change the order of the arguements because they have names.\n",
    "print(addNumbers2(second=1.0, first=-5.0))\n",
    "\n",
    "## pass two number as if they are positional arguements\n",
    "print(addNumbers2(0, 20))\n"
   ]
  },
  {
   "cell_type": "code",
   "execution_count": 15,
   "metadata": {
    "scrolled": true
   },
   "outputs": [
    {
     "name": "stdout",
     "output_type": "stream",
     "text": [
      "40.0\n",
      "20.0\n",
      "True\n"
     ]
    }
   ],
   "source": [
    "## Scattering operator * \n",
    "\n",
    "# Let's make a tuple.\n",
    "myt = (0, 20)\n",
    "\n",
    "# what's the type of myt?\n",
    "type(myt)\n",
    "print(addNumbers2(*myt))\n",
    "\n",
    "# Let's make a dictionary.\n",
    "# In this definition, two keys, \"first\" and \"second\", \n",
    "# are the keywords used in function definition.\n",
    "myd = dict(first = 20, second = 0)\n",
    "# As shown above, there are different ways to do it.\n",
    "myd1 = {\"first\":20, \"second\":0}\n",
    "\n",
    "myd2 = dict()\n",
    "myd2[\"first\"] = 20\n",
    "myd2[\"second\"] = 0\n",
    "type(myd)\n",
    "\n",
    "## \n",
    "print(addNumbers2(**myd))\n",
    "print(addNumbers2(**myd) ==20.0)"
   ]
  }
 ],
 "metadata": {
  "kernelspec": {
   "display_name": "Python 3",
   "language": "python",
   "name": "python3"
  },
  "language_info": {
   "codemirror_mode": {
    "name": "ipython",
    "version": 3
   },
   "file_extension": ".py",
   "mimetype": "text/x-python",
   "name": "python",
   "nbconvert_exporter": "python",
   "pygments_lexer": "ipython3",
   "version": "3.5.5"
  }
 },
 "nbformat": 4,
 "nbformat_minor": 2
}
