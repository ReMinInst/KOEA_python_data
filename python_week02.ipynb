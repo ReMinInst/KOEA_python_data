{
 "cells": [
  {
   "cell_type": "markdown",
   "metadata": {},
   "source": [
    "# Python Week 2"
   ]
  },
  {
   "cell_type": "markdown",
   "metadata": {},
   "source": [
    "Hi,\n",
    "\n",
    "Today (08/31), we started our exciting python programming and data science journey.\n",
    "Please make sure to understand basic arithematic operations, data types, and functions.\n",
    "Note the difference among \"%\", \"/\", and \"//\".\n",
    "\n",
    "Another important piece of knowledge is to getting tips from \"help\", \"type\", \"function?\".\n",
    "As we make progress, we need to learn more about getting most out of jupyter notebook,\n",
    "for example, using Markdown cells.\n",
    "\n",
    "We are entering into the 2nd week!\n",
    "This week, we will continue to practice basic python programming.\n",
    "The topics are \n",
    "* string\n",
    "* formatting\n",
    "* list, tuple, set, dictionary\n",
    "* in, contains, \n",
    "* looping list, tuple, set, dictionary"
   ]
  },
  {
   "cell_type": "markdown",
   "metadata": {},
   "source": [
    "# Week 1 review"
   ]
  },
  {
   "cell_type": "code",
   "execution_count": 30,
   "metadata": {},
   "outputs": [],
   "source": [
    "# two float numbers af and bf\n",
    "af, bf = 5.4, 2.0\n",
    "ai, bi = 5, 2"
   ]
  },
  {
   "cell_type": "code",
   "execution_count": 26,
   "metadata": {},
   "outputs": [
    {
     "data": {
      "text/plain": [
       "False"
      ]
     },
     "execution_count": 26,
     "metadata": {},
     "output_type": "execute_result"
    }
   ],
   "source": [
    "af/bf == 2.5"
   ]
  },
  {
   "cell_type": "code",
   "execution_count": 35,
   "metadata": {},
   "outputs": [
    {
     "name": "stdout",
     "output_type": "stream",
     "text": [
      "/  : 2.7 2.5\n",
      "// : 2.0 2\n",
      "/  : 2.7 and 2.5\n",
      "// : 2.0 and 2\n"
     ]
    }
   ],
   "source": [
    "# x//y will compute a quotient and return only the integer portion of the quotient.\n",
    "# \n",
    "cfd = af/bf\n",
    "cid = ai/bi\n",
    "cf = af//bf\n",
    "ci = ai//bi\n",
    "print(\"/  :\", cfd, cid)\n",
    "print(\"// :\", cf, ci)\n",
    "print(\"/  : {0} and {1}\".format(cfd, cid))\n",
    "print(\"// : {} and {}\".format(cf, ci))"
   ]
  },
  {
   "cell_type": "code",
   "execution_count": 36,
   "metadata": {},
   "outputs": [],
   "source": [
    "# can we swap af and bf? yes\n",
    "af, bf = bf, af"
   ]
  },
  {
   "cell_type": "markdown",
   "metadata": {},
   "source": [
    "# String"
   ]
  },
  {
   "cell_type": "code",
   "execution_count": 112,
   "metadata": {},
   "outputs": [
    {
     "name": "stdout",
     "output_type": "stream",
     "text": [
      "Korean Oil and Gas Engineers Association  \n",
      " vs.  \"Korean Oil and Gas Engineer's Association\"  \n",
      " vs.  \"Korean Oil and Gas Engineer's Association\"\n"
     ]
    }
   ],
   "source": [
    "# Can you tell the difference among string s1, s2, and s3?\n",
    "\n",
    "s1 = \"Korean Oil and Gas Engineers Association\"\n",
    "s2 = \"\\\"Korean Oil and Gas Engineer\\'s Association\\\"\"\n",
    "s3 = '\"Korean Oil and Gas Engineer\\'s Association\"'\n",
    "\n",
    "s = s1[0:-1]\n",
    "\n",
    "print(s1, \" \\n vs. \", s2, \" \\n vs. \", s3)\n"
   ]
  },
  {
   "cell_type": "code",
   "execution_count": 113,
   "metadata": {},
   "outputs": [
    {
     "name": "stdout",
     "output_type": "stream",
     "text": [
      "First character of the string s is \"K\" and first two characters are \"Ko\"\n"
     ]
    }
   ],
   "source": [
    "# indexing and slicing with a string\n",
    "# string is like a list but not mutable, i.e., you cannot change the content of s\n",
    "# s[0] is 'K'\n",
    "# s[0:2] is \"Ko\"\n",
    "print('First character of the string s is \"{}\" and first two characters are \"{}\"'.format(s[0], s[0:2]))"
   ]
  },
  {
   "cell_type": "code",
   "execution_count": 48,
   "metadata": {},
   "outputs": [
    {
     "data": {
      "text/plain": [
       "'korean oil and gas engineers association'"
      ]
     },
     "execution_count": 48,
     "metadata": {},
     "output_type": "execute_result"
    }
   ],
   "source": [
    "# lower() method will convert all characters into lower case\n",
    "# However, s hasn't changed.\n",
    "s.lower()"
   ]
  },
  {
   "cell_type": "code",
   "execution_count": 49,
   "metadata": {},
   "outputs": [
    {
     "data": {
      "text/plain": [
       "'KOREAN OIL AND GAS ENGINEERS ASSOCIATION'"
      ]
     },
     "execution_count": 49,
     "metadata": {},
     "output_type": "execute_result"
    }
   ],
   "source": [
    "s.upper()"
   ]
  },
  {
   "cell_type": "code",
   "execution_count": 50,
   "metadata": {},
   "outputs": [
    {
     "name": "stdout",
     "output_type": "stream",
     "text": [
      "Korean Oil and Gas Engineers Association\n"
     ]
    }
   ],
   "source": [
    "print(s)"
   ]
  },
  {
   "cell_type": "code",
   "execution_count": 92,
   "metadata": {},
   "outputs": [],
   "source": [
    "## Let's count the characters in a string in three different ways.\n",
    "## Compare these three. Which one do you like? Why?\n",
    "\n",
    "from collections import Counter\n",
    "from collections import defaultdict\n",
    "\n",
    "Cnt = Counter()\n",
    "Dct = dict()\n",
    "Cdct = defaultdict(int)\n",
    "for c in s:\n",
    "#    print(c)\n",
    "    Cnt[c] += 1   \n",
    "    Cdct[c] += 1\n",
    "    if Dct.get(c)== None:\n",
    "        Dct[c]=1\n",
    "    else:\n",
    "        Dct[c] += 1  "
   ]
  },
  {
   "cell_type": "markdown",
   "metadata": {},
   "source": [
    "# Dictionary"
   ]
  },
  {
   "cell_type": "code",
   "execution_count": 70,
   "metadata": {},
   "outputs": [
    {
     "data": {
      "text/plain": [
       "[(' ', 5), ('n', 5)]"
      ]
     },
     "execution_count": 70,
     "metadata": {},
     "output_type": "execute_result"
    }
   ],
   "source": [
    "C.most_common(2)"
   ]
  },
  {
   "cell_type": "code",
   "execution_count": 77,
   "metadata": {},
   "outputs": [
    {
     "data": {
      "text/plain": [
       "{' ': 5,\n",
       " 'A': 1,\n",
       " 'E': 1,\n",
       " 'G': 1,\n",
       " 'K': 1,\n",
       " 'O': 1,\n",
       " 'a': 4,\n",
       " 'c': 1,\n",
       " 'd': 1,\n",
       " 'e': 3,\n",
       " 'g': 1,\n",
       " 'i': 4,\n",
       " 'l': 1,\n",
       " 'n': 5,\n",
       " 'o': 3,\n",
       " 'r': 2,\n",
       " 's': 4,\n",
       " 't': 1}"
      ]
     },
     "execution_count": 77,
     "metadata": {},
     "output_type": "execute_result"
    }
   ],
   "source": [
    "Dct"
   ]
  },
  {
   "cell_type": "code",
   "execution_count": 72,
   "metadata": {},
   "outputs": [
    {
     "data": {
      "text/plain": [
       "defaultdict(int,\n",
       "            {' ': 5,\n",
       "             'A': 1,\n",
       "             'E': 1,\n",
       "             'G': 1,\n",
       "             'K': 1,\n",
       "             'O': 1,\n",
       "             'a': 4,\n",
       "             'c': 1,\n",
       "             'd': 1,\n",
       "             'e': 3,\n",
       "             'g': 1,\n",
       "             'i': 4,\n",
       "             'l': 1,\n",
       "             'n': 5,\n",
       "             'o': 3,\n",
       "             'r': 2,\n",
       "             's': 4,\n",
       "             't': 1})"
      ]
     },
     "execution_count": 72,
     "metadata": {},
     "output_type": "execute_result"
    }
   ],
   "source": [
    "Cdct"
   ]
  },
  {
   "cell_type": "code",
   "execution_count": 74,
   "metadata": {},
   "outputs": [
    {
     "data": {
      "text/plain": [
       "' '"
      ]
     },
     "execution_count": 74,
     "metadata": {},
     "output_type": "execute_result"
    }
   ],
   "source": [
    "max(Cdct, key=Cdct.get)"
   ]
  },
  {
   "cell_type": "code",
   "execution_count": 81,
   "metadata": {},
   "outputs": [
    {
     "data": {
      "text/plain": [
       "5"
      ]
     },
     "execution_count": 81,
     "metadata": {},
     "output_type": "execute_result"
    }
   ],
   "source": [
    "Cdct.pop(' ')"
   ]
  },
  {
   "cell_type": "code",
   "execution_count": 83,
   "metadata": {},
   "outputs": [
    {
     "data": {
      "text/plain": [
       "'n'"
      ]
     },
     "execution_count": 83,
     "metadata": {},
     "output_type": "execute_result"
    }
   ],
   "source": [
    "max(Cdct, key=Cdct.get)"
   ]
  },
  {
   "cell_type": "code",
   "execution_count": 84,
   "metadata": {},
   "outputs": [
    {
     "data": {
      "text/plain": [
       "5"
      ]
     },
     "execution_count": 84,
     "metadata": {},
     "output_type": "execute_result"
    }
   ],
   "source": [
    "Cdct.pop('n')"
   ]
  },
  {
   "cell_type": "code",
   "execution_count": 85,
   "metadata": {},
   "outputs": [
    {
     "data": {
      "text/plain": [
       "'i'"
      ]
     },
     "execution_count": 85,
     "metadata": {},
     "output_type": "execute_result"
    }
   ],
   "source": [
    "max(Cdct, key=Cdct.get)"
   ]
  },
  {
   "cell_type": "code",
   "execution_count": 86,
   "metadata": {},
   "outputs": [
    {
     "data": {
      "text/plain": [
       "' '"
      ]
     },
     "execution_count": 86,
     "metadata": {},
     "output_type": "execute_result"
    }
   ],
   "source": [
    "max(Dct, key = Dct.get)"
   ]
  },
  {
   "cell_type": "code",
   "execution_count": 90,
   "metadata": {},
   "outputs": [
    {
     "name": "stdout",
     "output_type": "stream",
     "text": [
      "G 1\n",
      "  5\n",
      "i 4\n",
      "t 1\n",
      "E 1\n",
      "c 1\n",
      "n 5\n",
      "o 3\n",
      "s 4\n",
      "l 1\n",
      "e 3\n",
      "d 1\n",
      "g 1\n",
      "a 4\n",
      "O 1\n",
      "r 2\n",
      "K 1\n",
      "A 1\n"
     ]
    }
   ],
   "source": [
    "for k, v in Dct.items():\n",
    "    print(k, v)"
   ]
  },
  {
   "cell_type": "code",
   "execution_count": 91,
   "metadata": {},
   "outputs": [
    {
     "name": "stdout",
     "output_type": "stream",
     "text": [
      "G 1\n",
      "i 4\n",
      "t 1\n",
      "E 1\n",
      "c 1\n",
      "o 3\n",
      "s 4\n",
      "l 1\n",
      "e 3\n",
      "d 1\n",
      "g 1\n",
      "a 4\n",
      "O 1\n",
      "r 2\n",
      "K 1\n",
      "A 1\n"
     ]
    }
   ],
   "source": [
    "for k, v in Cdct.items():\n",
    "    print(k,v)"
   ]
  },
  {
   "cell_type": "markdown",
   "metadata": {},
   "source": [
    "# Tuples"
   ]
  },
  {
   "cell_type": "code",
   "execution_count": 96,
   "metadata": {},
   "outputs": [],
   "source": [
    "t1 = (5, )"
   ]
  },
  {
   "cell_type": "code",
   "execution_count": 97,
   "metadata": {},
   "outputs": [
    {
     "data": {
      "text/plain": [
       "tuple"
      ]
     },
     "execution_count": 97,
     "metadata": {},
     "output_type": "execute_result"
    }
   ],
   "source": [
    "type(t1)"
   ]
  },
  {
   "cell_type": "code",
   "execution_count": 118,
   "metadata": {},
   "outputs": [],
   "source": [
    "l1 = [5, \"Kim, Chulwoo\", True]\n",
    "t2= (5, \"Kim, Chulwoo\", \"2015-0-04\")"
   ]
  },
  {
   "cell_type": "code",
   "execution_count": 121,
   "metadata": {},
   "outputs": [
    {
     "data": {
      "text/plain": [
       "list"
      ]
     },
     "execution_count": 121,
     "metadata": {},
     "output_type": "execute_result"
    }
   ],
   "source": [
    "type(l1)"
   ]
  },
  {
   "cell_type": "code",
   "execution_count": 100,
   "metadata": {},
   "outputs": [
    {
     "data": {
      "text/plain": [
       "tuple"
      ]
     },
     "execution_count": 100,
     "metadata": {},
     "output_type": "execute_result"
    }
   ],
   "source": [
    "type(t2)"
   ]
  },
  {
   "cell_type": "markdown",
   "metadata": {},
   "source": [
    "# if else, string Comparision "
   ]
  },
  {
   "cell_type": "code",
   "execution_count": 117,
   "metadata": {},
   "outputs": [
    {
     "name": "stdout",
     "output_type": "stream",
     "text": [
      "enter las name: gale\n",
      "Welcome to g and above line\n"
     ]
    }
   ],
   "source": [
    "# This example from EDX course \n",
    "# https://courses.edx.org/courses/course-v1:Microsoft+DEV236x+2T2019/courseware/389d57ca5e61417aa7a5634194b88e0d/db88f3e847244b9a96fbf3f6a5aa4e3c/3?activate_block_id=block-v1%3AMicrosoft%2BDEV236x%2B2T2019%2Btype%40vertical%2Bblock%400b875adbc3084e07b8419df6cb53ff55\n",
    "\n",
    "last_name = input(\"enter las name: \")\n",
    "if last_name.lower() <= \"c\":\n",
    "    print (\"Welcome to the a, b, c line\")\n",
    "elif last_name.lower() <= \"f\":\n",
    "    print(\"Welcome to d,e,f line\")\n",
    "else:\n",
    "    print(\"Welcome to g and above line\")"
   ]
  },
  {
   "cell_type": "markdown",
   "metadata": {},
   "source": [
    "# Map"
   ]
  },
  {
   "cell_type": "code",
   "execution_count": 124,
   "metadata": {},
   "outputs": [],
   "source": [
    "map?"
   ]
  },
  {
   "cell_type": "code",
   "execution_count": 125,
   "metadata": {},
   "outputs": [],
   "source": [
    "store1 = [10, 12, 15, 30]\n",
    "store2 = [12, 10, 13, 35]\n",
    "\n",
    "minPrice = map(min, store1, store2)"
   ]
  },
  {
   "cell_type": "code",
   "execution_count": 126,
   "metadata": {},
   "outputs": [
    {
     "name": "stdout",
     "output_type": "stream",
     "text": [
      "<map object at 0x7fd760226a58>\n"
     ]
    }
   ],
   "source": [
    "print(minPrice)"
   ]
  },
  {
   "cell_type": "code",
   "execution_count": 127,
   "metadata": {},
   "outputs": [
    {
     "name": "stdout",
     "output_type": "stream",
     "text": [
      "[10, 10, 13, 30]\n"
     ]
    }
   ],
   "source": [
    "print(list(minPrice))"
   ]
  }
 ],
 "metadata": {
  "kernelspec": {
   "display_name": "Python 3",
   "language": "python",
   "name": "python3"
  },
  "language_info": {
   "codemirror_mode": {
    "name": "ipython",
    "version": 3
   },
   "file_extension": ".py",
   "mimetype": "text/x-python",
   "name": "python",
   "nbconvert_exporter": "python",
   "pygments_lexer": "ipython3",
   "version": "3.5.5"
  }
 },
 "nbformat": 4,
 "nbformat_minor": 2
}
