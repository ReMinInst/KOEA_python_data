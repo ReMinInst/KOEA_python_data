{
 "cells": [
  {
   "cell_type": "markdown",
   "metadata": {},
   "source": [
    "# Python Week 2"
   ]
  },
  {
   "cell_type": "markdown",
   "metadata": {},
   "source": [
    "Hi,\n",
    "\n",
    "On August 31, we started our exciting python programming and data science journey.\n",
    "Please make sure to understand basic arithematic operations, data types, and functions.\n",
    "Note the difference among \"%\", \"/\", and \"//\".\n",
    "\n",
    "Another important piece of knowledge is to getting tips from \"help\", \"type\", \"function?\".\n",
    "As we make progress, we need to learn more about getting most out of jupyter notebook,\n",
    "for example, using Markdown cells.\n",
    "\n",
    "We are entering into the 2nd week!\n",
    "This week, we will continue to practice basic python programming.\n",
    "The topics are \n",
    "* string\n",
    "* formatting\n",
    "* list, tuple, set, dictionary\n",
    "* looping list, tuple, set, dictionary"
   ]
  },
  {
   "cell_type": "markdown",
   "metadata": {},
   "source": [
    "## Week 1 review"
   ]
  },
  {
   "cell_type": "code",
   "execution_count": null,
   "metadata": {},
   "outputs": [],
   "source": [
    "# two float numbers af and bf\n",
    "af, bf = 5.4, 2.0\n",
    "ai, bi = 5, 2"
   ]
  },
  {
   "cell_type": "code",
   "execution_count": null,
   "metadata": {},
   "outputs": [],
   "source": [
    "af/bf == 2.5"
   ]
  },
  {
   "cell_type": "code",
   "execution_count": null,
   "metadata": {},
   "outputs": [],
   "source": [
    "# x//y will compute a quotient and return only the integer portion of the quotient.\n",
    "# \n",
    "cfd = af/bf\n",
    "cid = ai/bi\n",
    "cf = af//bf\n",
    "ci = ai//bi\n",
    "print(\"/  :\", cfd, cid)\n",
    "print(\"// :\", cf, ci)\n",
    "print(\"/  : {0} and {1}\".format(cfd, cid))\n",
    "print(\"// : {} and {}\".format(cf, ci))"
   ]
  },
  {
   "cell_type": "code",
   "execution_count": null,
   "metadata": {},
   "outputs": [],
   "source": [
    "# can we swap af and bf? yes\n",
    "af, bf = bf, af"
   ]
  },
  {
   "cell_type": "markdown",
   "metadata": {},
   "source": [
    "## Dictionary"
   ]
  },
  {
   "cell_type": "code",
   "execution_count": null,
   "metadata": {},
   "outputs": [],
   "source": [
    "d = dict(x=1, y=2)"
   ]
  },
  {
   "cell_type": "code",
   "execution_count": null,
   "metadata": {},
   "outputs": [],
   "source": [
    "type(d)"
   ]
  },
  {
   "cell_type": "code",
   "execution_count": null,
   "metadata": {},
   "outputs": [],
   "source": [
    "print(d)"
   ]
  },
  {
   "cell_type": "code",
   "execution_count": null,
   "metadata": {},
   "outputs": [],
   "source": [
    "# accessing dictionary \n",
    "print(d['x'], d['y'])"
   ]
  },
  {
   "cell_type": "code",
   "execution_count": null,
   "metadata": {},
   "outputs": [],
   "source": [
    "## looping over dictionary\n",
    "for k, v in d.items():\n",
    "    print(k, \" ----> \", v )\n",
    "    "
   ]
  },
  {
   "cell_type": "code",
   "execution_count": null,
   "metadata": {},
   "outputs": [],
   "source": [
    "##adding more items\n",
    "d['z']=3"
   ]
  },
  {
   "cell_type": "code",
   "execution_count": null,
   "metadata": {},
   "outputs": [],
   "source": [
    "for k, v in d.items():\n",
    "    print(k, \" ----> \", v)"
   ]
  },
  {
   "cell_type": "code",
   "execution_count": 2,
   "metadata": {},
   "outputs": [],
   "source": [
    "# merging two dictionaries\n",
    "\n",
    "d1 = dict(one  =1, two  =2)\n",
    "d2 = dict(three = 3, four = 4)\n",
    "\n",
    "# if you want to merge two dictionaries, \n",
    "# c = dict(a, b) doesnot work. Instead, use ** unpacking operator for the second arguement input.\n",
    "\n",
    "c = dict(d1, **d2)\n"
   ]
  },
  {
   "cell_type": "markdown",
   "metadata": {},
   "source": [
    "## String"
   ]
  },
  {
   "cell_type": "code",
   "execution_count": null,
   "metadata": {},
   "outputs": [],
   "source": [
    "# Can you tell the difference among string s1, s2, and s3?\n",
    "\n",
    "s1 = \"Korean Oil and Gas Engineers Association\"\n",
    "s2 = \"\\\"Korean Oil and Gas Engineer\\'s Association\\\"\"\n",
    "s3 = '\"Korean Oil and Gas Engineer\\'s Association\"'\n",
    "\n",
    "s = s1[0:-1]\n",
    "\n",
    "print(s1, \" \\n vs. \", s2, \" \\n vs. \", s3)\n"
   ]
  },
  {
   "cell_type": "code",
   "execution_count": null,
   "metadata": {},
   "outputs": [],
   "source": [
    "# indexing and slicing with a string\n",
    "# string is like a list but not mutable, i.e., you cannot change the content of s\n",
    "# s[0] is 'K'\n",
    "# s[0:2] is \"Ko\"\n",
    "print('First character of the string s is \"{}\" and first two characters are \"{}\"'.format(s[0], s[0:2]))"
   ]
  },
  {
   "cell_type": "code",
   "execution_count": null,
   "metadata": {},
   "outputs": [],
   "source": [
    "# lower() method will convert all characters into lower case\n",
    "# However, s hasn't changed.\n",
    "s.lower()"
   ]
  },
  {
   "cell_type": "code",
   "execution_count": null,
   "metadata": {},
   "outputs": [],
   "source": [
    "s.upper()"
   ]
  },
  {
   "cell_type": "code",
   "execution_count": null,
   "metadata": {},
   "outputs": [],
   "source": [
    "print(s)"
   ]
  },
  {
   "cell_type": "markdown",
   "metadata": {},
   "source": [
    "## String Comparision "
   ]
  },
  {
   "cell_type": "code",
   "execution_count": null,
   "metadata": {},
   "outputs": [],
   "source": [
    "# This example from EDX course \n",
    "# https://courses.edx.org/courses/course-v1:Microsoft+DEV236x+2T2019/courseware/389d57ca5e61417aa7a5634194b88e0d/db88f3e847244b9a96fbf3f6a5aa4e3c/3?activate_block_id=block-v1%3AMicrosoft%2BDEV236x%2B2T2019%2Btype%40vertical%2Bblock%400b875adbc3084e07b8419df6cb53ff55\n",
    "\n",
    "last_name = input(\"enter las name: \")\n",
    "if last_name.lower() <= \"c\":\n",
    "    print (\"Welcome to the a, b, c line\")\n",
    "elif last_name.lower() <= \"f\":\n",
    "    print(\"Welcome to d,e,f line\")\n",
    "else:\n",
    "    print(\"Welcome to g and above line\")"
   ]
  },
  {
   "cell_type": "markdown",
   "metadata": {},
   "source": [
    "## Counting characters"
   ]
  },
  {
   "cell_type": "code",
   "execution_count": null,
   "metadata": {},
   "outputs": [],
   "source": [
    "## Let's count characters in a string in three different ways.\n",
    "## Compare these three. Which one do you like? Why?\n",
    "\n",
    "from collections import Counter\n",
    "from collections import defaultdict\n",
    "\n",
    "Cnt = Counter()\n",
    "Dct = dict()\n",
    "Cdct = defaultdict(int)\n",
    "for c in s:\n",
    "#    print(c)\n",
    "    Cnt[c] += 1   \n",
    "    Cdct[c] += 1\n",
    "    if Dct.get(c)== None:\n",
    "        Dct[c]=1\n",
    "    else:\n",
    "        Dct[c] += 1  "
   ]
  },
  {
   "cell_type": "code",
   "execution_count": null,
   "metadata": {},
   "outputs": [],
   "source": [
    "C.most_common(2)"
   ]
  },
  {
   "cell_type": "code",
   "execution_count": null,
   "metadata": {},
   "outputs": [],
   "source": [
    "Dct"
   ]
  },
  {
   "cell_type": "code",
   "execution_count": null,
   "metadata": {},
   "outputs": [],
   "source": [
    "Cdct"
   ]
  },
  {
   "cell_type": "code",
   "execution_count": null,
   "metadata": {},
   "outputs": [],
   "source": [
    "max(Cdct, key=Cdct.get)"
   ]
  },
  {
   "cell_type": "code",
   "execution_count": null,
   "metadata": {},
   "outputs": [],
   "source": [
    "Cdct.pop(' ')"
   ]
  },
  {
   "cell_type": "code",
   "execution_count": null,
   "metadata": {},
   "outputs": [],
   "source": [
    "max(Cdct, key=Cdct.get)"
   ]
  },
  {
   "cell_type": "code",
   "execution_count": null,
   "metadata": {},
   "outputs": [],
   "source": [
    "Cdct.pop('n')"
   ]
  },
  {
   "cell_type": "code",
   "execution_count": null,
   "metadata": {},
   "outputs": [],
   "source": [
    "max(Cdct, key=Cdct.get)"
   ]
  },
  {
   "cell_type": "code",
   "execution_count": null,
   "metadata": {},
   "outputs": [],
   "source": [
    "max(Dct, key = Dct.get)"
   ]
  },
  {
   "cell_type": "code",
   "execution_count": null,
   "metadata": {},
   "outputs": [],
   "source": [
    "for k, v in Dct.items():\n",
    "    print(k, v)"
   ]
  },
  {
   "cell_type": "code",
   "execution_count": null,
   "metadata": {},
   "outputs": [],
   "source": [
    "for k, v in Cdct.items():\n",
    "    print(k,v)"
   ]
  },
  {
   "cell_type": "markdown",
   "metadata": {},
   "source": [
    "## Tuples"
   ]
  },
  {
   "cell_type": "code",
   "execution_count": null,
   "metadata": {},
   "outputs": [],
   "source": [
    "t1 = (5.0,)\n",
    "#if you do t1=(5), what's the type of t1?"
   ]
  },
  {
   "cell_type": "code",
   "execution_count": null,
   "metadata": {},
   "outputs": [],
   "source": [
    "type(t1)"
   ]
  },
  {
   "cell_type": "code",
   "execution_count": null,
   "metadata": {},
   "outputs": [],
   "source": [
    "l1 = [5, \"Kim, Chulwoo\", True]\n",
    "t2= (5, \"Kim, Chulwoo\", \"2015-01-04\")"
   ]
  },
  {
   "cell_type": "code",
   "execution_count": null,
   "metadata": {},
   "outputs": [],
   "source": [
    "type(l1)\n",
    "## we can add more into the list\n",
    "l1.append(\"what a beautifual day\")"
   ]
  },
  {
   "cell_type": "code",
   "execution_count": null,
   "metadata": {},
   "outputs": [],
   "source": [
    "type(t2)\n",
    "t2.count('Kim, Chulwoo')"
   ]
  },
  {
   "cell_type": "code",
   "execution_count": null,
   "metadata": {},
   "outputs": [],
   "source": [
    "## Contrary to set, we can have repeated items in a tuple \n",
    "t3 = (5, \"Kim, Chulwoo\", \"2015-01-04\", 5)\n"
   ]
  },
  {
   "cell_type": "code",
   "execution_count": null,
   "metadata": {},
   "outputs": [],
   "source": [
    "t3.count(5)"
   ]
  },
  {
   "cell_type": "markdown",
   "metadata": {},
   "source": [
    "## Function"
   ]
  },
  {
   "cell_type": "code",
   "execution_count": null,
   "metadata": {},
   "outputs": [],
   "source": [
    "def addNumbers1(a, b):\n",
    "    return a + 2.*b\n",
    "\n",
    "print(addNumbers(4, 5))\n",
    "\n",
    "## Scattering operator *\n",
    "\n",
    "myt = (1, 2) ## tuple, check with type(myt)\n",
    "print(addNumbers1(*myt))\n"
   ]
  },
  {
   "cell_type": "code",
   "execution_count": 59,
   "metadata": {},
   "outputs": [
    {
     "name": "stdout",
     "output_type": "stream",
     "text": [
      "6.5\n",
      "-3.0\n",
      "40.0\n",
      "40.0\n",
      "20.0\n"
     ]
    }
   ],
   "source": [
    "## function definition with keyword and default values\n",
    "\n",
    "def addNumbers2(first = 1.5, second = 2.5):\n",
    "    return first + 2.*second\n",
    "\n",
    "## Defaults 1.5 and 2.5 are used\n",
    "print(addNumbers2())\n",
    "\n",
    "## You can change the order of the arguements because they have names.\n",
    "print(addNumbers2(second=1.0, first=-5.0))\n",
    "\n",
    "## pass two number as if they are positional arguements\n",
    "print(addNumbers2(0, 20))\n",
    "\n",
    "## Scattering operator * \n",
    "myt = (0, 20)\n",
    "type(myt)\n",
    "print(addNumbers2(*myt))\n",
    "\n",
    "myd = dict(first = 20, second = 0)\n",
    "type(myd)\n",
    "print(addNumbers2(**myd))\n"
   ]
  },
  {
   "cell_type": "markdown",
   "metadata": {},
   "source": [
    "## Map"
   ]
  },
  {
   "cell_type": "code",
   "execution_count": null,
   "metadata": {},
   "outputs": [],
   "source": [
    "map?"
   ]
  },
  {
   "cell_type": "code",
   "execution_count": null,
   "metadata": {},
   "outputs": [],
   "source": [
    "store1 = [10, 12, 15, 30]\n",
    "store2 = [12, 10, 13, 35]\n",
    "\n",
    "minPrice = map(min, store1, store2)"
   ]
  },
  {
   "cell_type": "code",
   "execution_count": null,
   "metadata": {},
   "outputs": [],
   "source": [
    "print(minPrice)"
   ]
  },
  {
   "cell_type": "code",
   "execution_count": null,
   "metadata": {},
   "outputs": [],
   "source": [
    "print(list(minPrice))"
   ]
  },
  {
   "cell_type": "markdown",
   "metadata": {},
   "source": [
    "## Exercise problems"
   ]
  },
  {
   "cell_type": "code",
   "execution_count": null,
   "metadata": {},
   "outputs": [],
   "source": [
    "# Define a function that calculates an area of a circle for a given radius.\n",
    "# The fuction returns a tuple with the area of the circule and the length of side of a square with the same area.\n",
    "\n",
    "# In this example we need to import the math module.\n",
    "\n",
    "# Also use a keyword arguement instead of positional\n"
   ]
  }
 ],
 "metadata": {
  "kernelspec": {
   "display_name": "Python 3",
   "language": "python",
   "name": "python3"
  },
  "language_info": {
   "codemirror_mode": {
    "name": "ipython",
    "version": 3
   },
   "file_extension": ".py",
   "mimetype": "text/x-python",
   "name": "python",
   "nbconvert_exporter": "python",
   "pygments_lexer": "ipython3",
   "version": "3.7.3"
  }
 },
 "nbformat": 4,
 "nbformat_minor": 2
}
