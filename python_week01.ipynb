{
 "cells": [
  {
   "cell_type": "markdown",
   "metadata": {},
   "source": [
    "# Week 1"
   ]
  },
  {
   "cell_type": "markdown",
   "metadata": {},
   "source": [
    "Meeting at 8 am on Saturdays. \n",
    "Our coordinator is Hyejin and we need a backup coordinator and a backup facilator in case Hyejin or Johan is away.\n",
    "We will appoint them within a few weeks. Let me know if you are interested.\n",
    "\n",
    "To give you heads-up, we will cover the following topics (roughly one line per week).\n",
    "\n",
    "* list, tuple, range, set, dict\n",
    "* module, object, class\n",
    "* pandas and csv format data\n",
    "* scikit-learn\n",
    "* keras\n",
    "* pytorch\n",
    "* flask\n",
    "\n"
   ]
  },
  {
   "cell_type": "markdown",
   "metadata": {},
   "source": [
    "You can find how to use Markdown cells in Jupyter notebook in the following link\n",
    "\n",
    "https://www.ibm.com/support/knowledgecenter/en/SSGNPV_1.1.3/dsx/markd-jupyter.html\n",
    "<br>\n",
    "If you have any questions about your programming errors or python language, try to use stack overflow \n",
    "https://stackoverflow.com/\n",
    "<br>\n",
    "\n"
   ]
  },
  {
   "cell_type": "code",
   "execution_count": null,
   "metadata": {},
   "outputs": [],
   "source": [
    "aint = 1; bfloat = 2.5; ccomplex = 1 + 2j; dint = 3\n",
    "a, b = 1, 4"
   ]
  },
  {
   "cell_type": "code",
   "execution_count": null,
   "metadata": {},
   "outputs": [],
   "source": [
    "type(aint), type(bfloat), type(ccomplex), type(dint)"
   ]
  },
  {
   "cell_type": "markdown",
   "metadata": {},
   "source": [
    "## Arithmetic and exponentiation"
   ]
  },
  {
   "cell_type": "code",
   "execution_count": null,
   "metadata": {},
   "outputs": [],
   "source": [
    "# addition, substraction, multiplication, division, modulo, divisor\n",
    "# This cell will not run properly because of an error. Please fix a problem below\n",
    "# In python, indentation is very important\n",
    "    aint + bfloat, bfloat -ccomplex, ccomplex*aint, aint/bfloat, aint%dint, dint//aint"
   ]
  },
  {
   "cell_type": "code",
   "execution_count": null,
   "metadata": {},
   "outputs": [],
   "source": [
    "bfloat**2 == bfloat*bfloat == pow(bfloat, 2.)"
   ]
  },
  {
   "cell_type": "code",
   "execution_count": null,
   "metadata": {},
   "outputs": [],
   "source": [
    "# use type and help function to know more variables, data types, and even functions and later modules\n",
    "\n",
    "type(pow), help(pow)"
   ]
  },
  {
   "cell_type": "markdown",
   "metadata": {},
   "source": [
    "## Function"
   ]
  },
  {
   "cell_type": "code",
   "execution_count": null,
   "metadata": {},
   "outputs": [],
   "source": [
    "# function with one input argument and one return value\n",
    "\n",
    "def f(x):\n",
    "    return x+5"
   ]
  },
  {
   "cell_type": "code",
   "execution_count": null,
   "metadata": {},
   "outputs": [],
   "source": [
    "# function with one input argument and two return values\n",
    "def f2r(x):\n",
    "    return x+5, x**2"
   ]
  },
  {
   "cell_type": "code",
   "execution_count": null,
   "metadata": {},
   "outputs": [],
   "source": [
    "# function that takes a function and an argument to the input funciton, \n",
    "# returning the evaluation of the input function.\n",
    "\n",
    "def execmy(myf, x):\n",
    "    '''\n",
    "    execute a function given as a parameter\n",
    "    \n",
    "    input \n",
    "       myf - function name\n",
    "       x   - input argument to myf\n",
    "       \n",
    "    return\n",
    "       myf(x)\n",
    "    '''\n",
    "    return myf(x)"
   ]
  },
  {
   "cell_type": "code",
   "execution_count": null,
   "metadata": {},
   "outputs": [],
   "source": [
    "print(execmy(f, 5))"
   ]
  },
  {
   "cell_type": "code",
   "execution_count": null,
   "metadata": {},
   "outputs": [],
   "source": [
    "print(execmy(f2r, 5))"
   ]
  },
  {
   "cell_type": "code",
   "execution_count": null,
   "metadata": {},
   "outputs": [],
   "source": [
    "type(f)"
   ]
  },
  {
   "cell_type": "code",
   "execution_count": null,
   "metadata": {},
   "outputs": [],
   "source": [
    "# the comments given with three single quotation marks ''' ''' in your function defition \n",
    "# will show up when you use \"help(function name).\"\n",
    "help(execmy)"
   ]
  },
  {
   "cell_type": "markdown",
   "metadata": {},
   "source": [
    "## For loop, list, set, tuple"
   ]
  },
  {
   "cell_type": "code",
   "execution_count": null,
   "metadata": {},
   "outputs": [],
   "source": [
    "# For now, be familiar with for loops using \"range\", \"zip.\"\n",
    "# We get to know more about string and formatting later.\n",
    "\n",
    "for ik in range(5):\n",
    "    print(\"my number is {}\".format(ik))"
   ]
  },
  {
   "cell_type": "code",
   "execution_count": null,
   "metadata": {},
   "outputs": [],
   "source": [
    "for ik, jk in zip(range(10), range(5,15)):\n",
    "    print(\"my numbers are %d %d\"%(ik, jk))"
   ]
  },
  {
   "cell_type": "code",
   "execution_count": null,
   "metadata": {},
   "outputs": [],
   "source": [
    "for ik, jk in zip(range(16), range(5, 25)):\n",
    "    print(\"my numbers are {} {}\".format(ik, jk))"
   ]
  },
  {
   "cell_type": "code",
   "execution_count": null,
   "metadata": {},
   "outputs": [],
   "source": [
    "# help will give a brief explantion about built-in functions, modules, and your own functions\n",
    "help(zip)"
   ]
  },
  {
   "cell_type": "code",
   "execution_count": null,
   "metadata": {},
   "outputs": [],
   "source": [
    "myzip = zip([1, 3, 4], [4, 5,6], [7,8,9])"
   ]
  },
  {
   "cell_type": "code",
   "execution_count": null,
   "metadata": {},
   "outputs": [],
   "source": [
    "print(list(myzip))"
   ]
  },
  {
   "cell_type": "code",
   "execution_count": null,
   "metadata": {},
   "outputs": [],
   "source": [
    "alist = [1, 2, 4]; bset = {4, 5, 6}; ctuple= (7,8,9)"
   ]
  },
  {
   "cell_type": "code",
   "execution_count": null,
   "metadata": {},
   "outputs": [],
   "source": [
    "type(alist), type(bset), type(ctuple)"
   ]
  },
  {
   "cell_type": "code",
   "execution_count": null,
   "metadata": {},
   "outputs": [],
   "source": [
    "alist[1], ctuple[1]"
   ]
  },
  {
   "cell_type": "code",
   "execution_count": null,
   "metadata": {},
   "outputs": [],
   "source": [
    "for se in bset:\n",
    "    print(se)"
   ]
  },
  {
   "cell_type": "code",
   "execution_count": null,
   "metadata": {},
   "outputs": [],
   "source": [
    "bset.union({5,6,7})"
   ]
  },
  {
   "cell_type": "code",
   "execution_count": null,
   "metadata": {},
   "outputs": [],
   "source": [
    "alist.append(5)"
   ]
  },
  {
   "cell_type": "code",
   "execution_count": null,
   "metadata": {},
   "outputs": [],
   "source": [
    "bset.add(10)"
   ]
  },
  {
   "cell_type": "code",
   "execution_count": null,
   "metadata": {},
   "outputs": [],
   "source": [
    "bset"
   ]
  },
  {
   "cell_type": "code",
   "execution_count": null,
   "metadata": {},
   "outputs": [],
   "source": [
    "bi = iter(bset), type(bi)"
   ]
  },
  {
   "cell_type": "code",
   "execution_count": null,
   "metadata": {},
   "outputs": [],
   "source": [
    "bset.pop()"
   ]
  },
  {
   "cell_type": "code",
   "execution_count": null,
   "metadata": {},
   "outputs": [],
   "source": [
    "bset"
   ]
  },
  {
   "cell_type": "code",
   "execution_count": null,
   "metadata": {},
   "outputs": [],
   "source": [
    "# A question mark in ipython can be used to get some explanation about a function (method)\n",
    "bset.isdisjoint?"
   ]
  },
  {
   "cell_type": "code",
   "execution_count": null,
   "metadata": {},
   "outputs": [],
   "source": [
    "bset.isdisjoint({7, 8})"
   ]
  },
  {
   "cell_type": "code",
   "execution_count": null,
   "metadata": {},
   "outputs": [],
   "source": [
    "bset.isdisjoint({4, 5})"
   ]
  },
  {
   "cell_type": "markdown",
   "metadata": {},
   "source": [
    "## Exercise problems"
   ]
  },
  {
   "cell_type": "code",
   "execution_count": null,
   "metadata": {},
   "outputs": [],
   "source": [
    "# 1. Define a function that takes two numbers in the form of string as arguments and return both the sum of them and their difference \n",
    "# for example,\n",
    "# if you pass two strings \"10.5\" and \"26.5\", your function should return 37.0 and 16.0."
   ]
  },
  {
   "cell_type": "code",
   "execution_count": null,
   "metadata": {},
   "outputs": [],
   "source": [
    "# 2. Write a function that accepts a string and reports the highest frequency of an alphabet in the string.\n",
    "# The counting is case-insensitive. \n",
    "# for example,\n",
    "# input \"I am proud of who I am\", your function should return 3."
   ]
  }
 ],
 "metadata": {
  "kernelspec": {
   "display_name": "Python 3",
   "language": "python",
   "name": "python3"
  },
  "language_info": {
   "codemirror_mode": {
    "name": "ipython",
    "version": 3
   },
   "file_extension": ".py",
   "mimetype": "text/x-python",
   "name": "python",
   "nbconvert_exporter": "python",
   "pygments_lexer": "ipython3",
   "version": "3.5.5"
  }
 },
 "nbformat": 4,
 "nbformat_minor": 2
}
