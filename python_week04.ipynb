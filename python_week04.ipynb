{
 "cells": [
  {
   "cell_type": "markdown",
   "metadata": {},
   "source": [
    "# Python Week 4"
   ]
  },
  {
   "cell_type": "markdown",
   "metadata": {},
   "source": [
    "September 28, 2019"
   ]
  },
  {
   "cell_type": "markdown",
   "metadata": {},
   "source": [
    "I hope you had a great week. Ending a week in a study group should be a great idea.\n",
    "You deserves a cup of hot coffee.\n",
    "\n",
    "From this week, we start to understand module and class, practicing object-oriented programming.\n",
    "This week, we will study basics of modules and introduc a few important modules such as\n",
    "\n",
    "* numpy, scipy\n",
    "\n",
    "You can watch online lectures in the following EDX courses.\n",
    "\n",
    "EDX \n",
    "HarvardX: PH526x Using Python for Research\n",
    "Week 2:python libraries and concepts in research\n",
    "Part 2: Numpy\n",
    "\n",
    "UCSanDiegoX: DSE200x Python for Data Science\n",
    "Week 3: Jupyter Notebooks and Numpy \n",
    "\n",
    "* pandas\n",
    "\n",
    "You can watch online lectures in the following coursera course.\n",
    "\n",
    "https://www.coursera.org/learn/python-data-analysis/home/week/2\n",
    "\n",
    "\n",
    "\n",
    "In our next meeting, we will continue to explore numpy and pandas and introduce a plotting library, matplotlib.\n",
    "\n",
    "* matplotlib\n",
    "\n",
    "For this, you can watch \n",
    "EDX \n",
    "HarvardX: PH526x Using Python for Research\n",
    "Week 2:python libraries and concepts in research\n",
    "Part 3: Matplotlib and Pyplot \n",
    "\n",
    "Once again, after a few more weeks, we will wrap up our python programming crash course, moving into\n",
    "more data science projects and field applications. Of course, we'll spend more time on understanding \n",
    "machine learning algorithms as needed. From late October and early November, we will discuss more\n",
    "applications including\n",
    "* time series (stock market, electric grid fault detection, Health monitoring,...)\n",
    "* spatial data\n",
    "* spatial-time mixed data\n"
   ]
  },
  {
   "cell_type": "markdown",
   "metadata": {},
   "source": [
    "## Module"
   ]
  },
  {
   "cell_type": "code",
   "execution_count": null,
   "metadata": {},
   "outputs": [],
   "source": [
    "# Import a module is important before we use functions (methods) that the module provides\n",
    "# Modules are libraries of code, collections of methods (functions)\n",
    "# For example, we want to compute the area of a circle.\n",
    "# instead of using 3.14 for the pi, we want to use more accurate one available in \"math\" module\n",
    "\n",
    "import math\n",
    "\n",
    "# if you do this, we can use pi as math.pi\n",
    "# try to print math.pi\n",
    "# simply stating \"pi\" doesnot work. \n",
    "# if math.pi is cumbersome, then \n",
    "# try from math import pi\n",
    "# or \n",
    "# from math import pi\n",
    "from math import pi"
   ]
  },
  {
   "cell_type": "code",
   "execution_count": null,
   "metadata": {},
   "outputs": [],
   "source": [
    "# if we want to see methods (functions) in a module,\n",
    "# try help(module name)\n",
    "help(math)"
   ]
  },
  {
   "cell_type": "code",
   "execution_count": null,
   "metadata": {},
   "outputs": [],
   "source": [
    "# in order to find methods in the math module\n",
    "\n",
    "dir(math)"
   ]
  },
  {
   "cell_type": "code",
   "execution_count": null,
   "metadata": {},
   "outputs": [],
   "source": [
    "print(math.pi)"
   ]
  },
  {
   "cell_type": "code",
   "execution_count": null,
   "metadata": {},
   "outputs": [],
   "source": [
    "# since we imported pi from math, we can use pi without \"math.\"\n",
    "print(pi)"
   ]
  },
  {
   "cell_type": "markdown",
   "metadata": {},
   "source": [
    "## My first module"
   ]
  },
  {
   "cell_type": "code",
   "execution_count": null,
   "metadata": {},
   "outputs": [],
   "source": [
    "# now let's make our own module\n",
    "# Create a file named \"mymodule.py\"\n",
    "# inside the python file, write a function, \"myfirstMethod\" \n",
    "# taking a string, name and an integer, number of coffees consumed per day.\n",
    "# then your first method (function) should return a statement like the following\n",
    "# Someone takes # cups of coffee in 2019. \n"
   ]
  },
  {
   "cell_type": "code",
   "execution_count": null,
   "metadata": {},
   "outputs": [],
   "source": [
    "# now import your own module and try use the function in the module\n",
    "# import mymodule \n",
    "# mymodule.myfirstMethod(\"Johan\", 2)\n",
    "# or\n",
    "# from mymodule import myfirstMethod\n",
    "# myfirstMethod(\"Johan\", 2)\n"
   ]
  },
  {
   "cell_type": "markdown",
   "metadata": {},
   "source": [
    "## My first Class"
   ]
  },
  {
   "cell_type": "code",
   "execution_count": null,
   "metadata": {},
   "outputs": [],
   "source": [
    "# Class is a nice to way to bundling data and functionality together. It's a bag that can hold things relevant to your trip.\n",
    "# For example, your backpack to your school has books, notebooks, and pencils.\n",
    "# Your business briefcase has your business cards, report, a tablet, and so on.\n",
    "# Instead of carrying them one by one in your pocket or in your hands, you are quickly disorganized and lose items.\n",
    "# \n",
    "# Let's define a class to hold KOEA member information such as name(string), phone number(string), age(int),\n",
    "# programming experience in years (float), ...\n",
    "\n",
    "class member(object):\n",
    "    \"\"\" contains member information (attributes) such as \n",
    "    1. name (string)\n",
    "    2. phone number (string)\n",
    "    3. age (int)\n",
    "    4. programming experience in year (float)\n",
    "\n",
    "    \"\"\"\n",
    "    \n",
    "m = member()\n",
    "\n",
    "m.name = \"johan\"\n",
    "m.pnum = \"800-754-4989\"\n",
    "m.age = 34\n",
    "m.proexp = 14.2\n",
    "\n",
    "def printmember(mb):\n",
    "    print(\"{} has programmed for {} years and you can reach {} at {}\".format(mb.name, mb.proexp, mb.name, mb.pnum))\n"
   ]
  },
  {
   "cell_type": "code",
   "execution_count": null,
   "metadata": {},
   "outputs": [],
   "source": [
    "printmember(m)"
   ]
  },
  {
   "cell_type": "code",
   "execution_count": null,
   "metadata": {},
   "outputs": [],
   "source": [
    "class KOEAmember:\n",
    "    \n",
    "    def __init__(self, name=\"Hong, Gildong\", pnum=\"777-888-9999\", age=0, proexp=10):\n",
    "        self.name = name\n",
    "        self.pnum = pnum\n",
    "        self.age = age\n",
    "        self.proexp = proexp\n",
    "\n",
    "    def setname(self, name):\n",
    "        self.name = name\n",
    "        \n",
    "    def setphone(self, pnum):\n",
    "        self.pnum = pnum\n",
    "        \n",
    "    def setage(self, age):\n",
    "        self.age = age\n",
    "        \n",
    "    def setproexp(self, expyears):\n",
    "        self.proexp = expyears\n",
    "        \n",
    "    def printinfo(self):\n",
    "        print(\"{} has programmed for {} years and you can reach {} at {}\".format(self.name, self.proexp, self.name, self.pnum))\n",
    "\n",
    "    "
   ]
  },
  {
   "cell_type": "code",
   "execution_count": null,
   "metadata": {},
   "outputs": [],
   "source": [
    "# default \n",
    "\n",
    "dflt = KOEAmember()\n",
    "dflt.printinfo()\n",
    "\n",
    "# a member with a name\n",
    "\n",
    "hs = KOEAmember(\"Johan\")\n",
    "hs.printinfo()"
   ]
  },
  {
   "cell_type": "code",
   "execution_count": null,
   "metadata": {},
   "outputs": [],
   "source": [
    "# later you can add more information\n",
    "\n",
    "hs.setphone(\"401-743-8227\")\n",
    "hs.printinfo()"
   ]
  },
  {
   "cell_type": "markdown",
   "metadata": {},
   "source": [
    "## numpy"
   ]
  },
  {
   "cell_type": "code",
   "execution_count": null,
   "metadata": {},
   "outputs": [],
   "source": [
    "# let's import numpy first.\n",
    "import numpy \n",
    "# this is not the only way. There is a better (commonly used) way.\n",
    "import numpy as np\n",
    "# we can import scipy also in a similar way\n",
    "import scipy as sp"
   ]
  },
  {
   "cell_type": "code",
   "execution_count": null,
   "metadata": {},
   "outputs": [],
   "source": [
    "dir(numpy)"
   ]
  },
  {
   "cell_type": "code",
   "execution_count": null,
   "metadata": {},
   "outputs": [],
   "source": [
    "myarray = np.array([1, 2, 3])"
   ]
  },
  {
   "cell_type": "code",
   "execution_count": null,
   "metadata": {},
   "outputs": [],
   "source": [
    "myarray"
   ]
  },
  {
   "cell_type": "code",
   "execution_count": null,
   "metadata": {},
   "outputs": [],
   "source": [
    "mymat = np.zeros((5, 4), dtype = 'float32')"
   ]
  },
  {
   "cell_type": "code",
   "execution_count": null,
   "metadata": {},
   "outputs": [],
   "source": [
    "mymat"
   ]
  },
  {
   "cell_type": "code",
   "execution_count": null,
   "metadata": {},
   "outputs": [],
   "source": [
    "mymat[2, 3] = 1000.99999"
   ]
  },
  {
   "cell_type": "code",
   "execution_count": null,
   "metadata": {},
   "outputs": [],
   "source": [
    "mymat"
   ]
  },
  {
   "cell_type": "code",
   "execution_count": null,
   "metadata": {},
   "outputs": [],
   "source": [
    "# Now, generate a matrix with 52 rows (why 52? because a year has 52 weeks) that contains meanful data of your life\n",
    "#   and two columns (why two? one for your coffee drinks and the other one for your sleep hours)\n",
    "# fill the matrix in the following way\n",
    "# the first column at the nth row is the number of coffee drinks during the nth week\n",
    "# the second column at the nth row"
   ]
  },
  {
   "cell_type": "code",
   "execution_count": null,
   "metadata": {},
   "outputs": [],
   "source": [
    "#in general, your data are collected, generated, typed in somewhere and by somebody.\n",
    "# They are saved in a text file or more sophisticaed database. Let's assume that they are in a file.\n",
    "# Let's read them in.\n",
    "mydata = np.loadtxt('mydata.txt')"
   ]
  },
  {
   "cell_type": "code",
   "execution_count": null,
   "metadata": {},
   "outputs": [],
   "source": [
    "## For your reference \n",
    "## This is how I generate the data file \n",
    "A = np.random.randint(0, 6, size=(52,))\n",
    "B = 2*np.random.randn(52,) + 4.5\n",
    "with open(\"mydata.txt\", \"w\") as f:  \n",
    "    for a,b in zip(A,B):\n",
    "        f.write(\"%d %d\\n\"%(a,b))"
   ]
  },
  {
   "cell_type": "markdown",
   "metadata": {},
   "source": [
    "## Matplotlib.pyplot"
   ]
  },
  {
   "cell_type": "code",
   "execution_count": null,
   "metadata": {},
   "outputs": [],
   "source": [
    "import matplotlib.pyplot as plt"
   ]
  },
  {
   "cell_type": "code",
   "execution_count": null,
   "metadata": {},
   "outputs": [],
   "source": [
    "plt.plot(range(52), mydata[:,0])"
   ]
  },
  {
   "cell_type": "code",
   "execution_count": null,
   "metadata": {},
   "outputs": [],
   "source": [
    "plt.plot(range(52), mydata[:,1])\n",
    "plt.title('Sleep Hours')\n",
    "plt.xlabel('Week')\n",
    "plt.ylabel('Hours')"
   ]
  },
  {
   "cell_type": "code",
   "execution_count": null,
   "metadata": {},
   "outputs": [],
   "source": [
    "x = np.linspace(0, 10, 100)\n",
    "\n",
    "\n",
    "# it is tempting to use math.sin or math.cos\n",
    "# if x is a scalar, math.sin or math.cos works \n",
    "# but x is a vector or an array for which math functions are not working\n",
    "# y1no = math.sin(0.25*pi*x)\n",
    "#\n",
    "# y2no = math.cos(0.25*pi*x)\n",
    "y1 = np.sin(0.25*pi*x)\n",
    "y2 = np.cos(0.25*pi*x)\n",
    "\n",
    "\n",
    "plt.figure(figsize=[8,5])\n",
    "#plt.axes(frameon=0)\n",
    "\n",
    "plt.plot(x, y1, \"bo-\", linewidth=2, markersize=4, label='Sin');\n",
    "plt.plot(x, y2, \"g--\", linewidth=3, markersize=5, label='Cos');\n",
    "plt.title('Sin($\\pi/4$ x) vs. Cos($\\pi/4$ x)', fontsize=25);\n",
    "\n",
    "##\n",
    "params = {\n",
    "   'axes.labelsize': 8,\n",
    "   'text.fontsize': 8,\n",
    "   'legend.fontsize': 10,\n",
    "   'xtick.labelsize': 10,\n",
    "   'ytick.labelsize': 10,\n",
    "   'text.usetex': False,\n",
    "   'figure.figsize': [4.5, 4.5]\n",
    "   }\n",
    "\n",
    "#rcParams.update(params)\n",
    "\n",
    "plt.axis([0, 10, -1.5, 2])\n",
    "plt.tick_params(labelsize=20)\n",
    "\n",
    "plt.xlabel('$x$', fontsize=20)\n",
    "plt.ylabel('$y$', fontsize=20)\n",
    "\n",
    "plt.grid()\n",
    "\n",
    "legend = plt.legend(['sin', 'cos'], loc='upper right', fontsize=20)\n",
    "## if you put label in your plt.plot, you can omit labels as follows\n",
    "legend = plt.legend(loc='upper right', fontsize=20)\n",
    "\n",
    "## to change the face and edgecolor of legend frame\n",
    "frame  = legend.get_frame()\n",
    "frame.set_facecolor('0.9')\n",
    "frame.set_edgecolor('0.9')\n",
    "\n",
    "\n",
    "plt.savefig('mySinCosPlot.pdf')"
   ]
  },
  {
   "cell_type": "markdown",
   "metadata": {},
   "source": [
    "## Pandas "
   ]
  },
  {
   "cell_type": "code",
   "execution_count": null,
   "metadata": {},
   "outputs": [],
   "source": [
    "import pandas as pd"
   ]
  },
  {
   "cell_type": "code",
   "execution_count": null,
   "metadata": {
    "scrolled": true
   },
   "outputs": [],
   "source": [
    "help(pd)"
   ]
  },
  {
   "cell_type": "code",
   "execution_count": null,
   "metadata": {},
   "outputs": [],
   "source": [
    "df = pd.read_table('mydata.txt', sep = ' ', names = ['Coffee', 'Sleep'])"
   ]
  },
  {
   "cell_type": "code",
   "execution_count": null,
   "metadata": {},
   "outputs": [],
   "source": [
    "df.plot.line()"
   ]
  },
  {
   "cell_type": "code",
   "execution_count": null,
   "metadata": {},
   "outputs": [],
   "source": [
    "df.plot.scatter('Coffee', 'Sleep')"
   ]
  }
 ],
 "metadata": {
  "kernelspec": {
   "display_name": "Python 3",
   "language": "python",
   "name": "python3"
  },
  "language_info": {
   "codemirror_mode": {
    "name": "ipython",
    "version": 3
   },
   "file_extension": ".py",
   "mimetype": "text/x-python",
   "name": "python",
   "nbconvert_exporter": "python",
   "pygments_lexer": "ipython3",
   "version": "3.7.3"
  }
 },
 "nbformat": 4,
 "nbformat_minor": 2
}
