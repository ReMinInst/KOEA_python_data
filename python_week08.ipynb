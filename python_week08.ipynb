{
 "cells": [
  {
   "cell_type": "markdown",
   "metadata": {},
   "source": [
    "## Python Week 8"
   ]
  },
  {
   "cell_type": "markdown",
   "metadata": {},
   "source": [
    "November 23, 2019\n",
    "\n",
    "If the installation was done properly on October 26, we are ready to start machine learning projects.\n",
    "In the following weeks, we'll make a team and pick a project that you are interested in. In order to give you better ideas and understand what AI can do, we'll go over a few examples drawn from engineering and science. \n",
    "\n",
    "Today, let's continue our Keras programming with image denoising using autoencoder.\n",
    "We'll use the dataset that we previously played with for our number recognition and plotting. So the data should be in your cloned repository.\n"
   ]
  },
  {
   "cell_type": "code",
   "execution_count": 2,
   "metadata": {},
   "outputs": [
    {
     "name": "stdout",
     "output_type": "stream",
     "text": [
      "using tensorflow  1.9.0\n"
     ]
    }
   ],
   "source": [
    "import numpy as np\n",
    "\n",
    "import tensorflow \n",
    "\n",
    "if tensorflow.__version__ < '2.0.0':\n",
    "    import keras \n",
    "    from keras.models import Model\n",
    "    from keras.layers import Input, Conv2D, MaxPooling2D, UpSampling2D, Flatten, Dense, Dropout\n",
    "    print(\"using tensorflow \", tensorflow.__version__)\n",
    "elif tensorflow.__version__ >= '2.0.0':\n",
    "    from tensorflow import keras\n",
    "    from tensorflow.keras.models import Model\n",
    "    from tensorflow.keras.layers import Input, Conv2D, MaxPooling2D, UpSampling2D, Flatten, Dense, Dropout\n",
    "    print(\"using tensorflow \", tensorflow.__version__)\n",
    "## keras functions are well documented in the Keras Documentaion \n",
    "## https://keras.io"
   ]
  },
  {
   "cell_type": "code",
   "execution_count": 216,
   "metadata": {},
   "outputs": [],
   "source": [
    "Xtest3D = np.load('xtest.pickle', allow_pickle=True)\n",
    "YtestAll = np.load('ytest.pickle', allow_pickle=True)"
   ]
  },
  {
   "cell_type": "code",
   "execution_count": 217,
   "metadata": {},
   "outputs": [],
   "source": [
    "#Xtrain3D = np.load('xtrain.pickle', allow_pickle=True)\n",
    "#Ytrain = np.load('ytrain.pickle', allow_pickle=True)"
   ]
  },
  {
   "cell_type": "code",
   "execution_count": 218,
   "metadata": {},
   "outputs": [],
   "source": [
    "## original images have unsigned integer from 0 to 255 (8bit representation of gray scale color) \n",
    "## Since the convolutions are numerical computation, we change the data type to float32 and then \n",
    "## perform normalizations to [0,1] range\n",
    "\n",
    "Xtest3D = Xtest3D.astype('float32')/255.\n",
    "#Xtrain3D = Xtrain3D.astype('float32')/255."
   ]
  },
  {
   "cell_type": "code",
   "execution_count": 219,
   "metadata": {},
   "outputs": [],
   "source": [
    "## in order to conform to the shape of inputs to Conv2D\n",
    "## Conv2D expects 4D array\n",
    "## 1st index - sample index\n",
    "## 2nd index - image x\n",
    "## 3rd index - image y\n",
    "## 4th index - channel (Ex. RGB values in color images)\n",
    "\n",
    "Xtest4D = Xtest3D.reshape((*Xtest3D.shape, 1))\n",
    "#Xtrain = Xtrain3D.reshape((*Xtrain3D.shape, 1))"
   ]
  },
  {
   "cell_type": "code",
   "execution_count": 262,
   "metadata": {},
   "outputs": [],
   "source": [
    "## Since the computing power and time is limitted, let's reduce the size of training and test datasets \n",
    "\n",
    "Xtrain = Xtest4D[0:600,:]\n",
    "Xtest = Xtest4D[1000:1100,:]\n",
    "\n",
    "Ytrain = YtestAll[0:600]\n",
    "Ytest  = YtestAll[1000:1100]\n",
    "\n",
    "## Let's create noisy input data\n",
    "\n",
    "XtrainNoisy = Xtrain + 0.5*np.random.randn(*Xtrain.shape)\n",
    "XtestNoisy = Xtest + 0.5*np.random.randn(*Xtest.shape)\n",
    "\n",
    "XtrainNoisy = np.clip(XtrainNoisy, 0., 1.)\n",
    "XtestNoisy = np.clip(XtestNoisy, 0., 1.)\n",
    "\n"
   ]
  },
  {
   "cell_type": "code",
   "execution_count": 263,
   "metadata": {},
   "outputs": [
    {
     "data": {
      "text/plain": [
       "(100,)"
      ]
     },
     "execution_count": 263,
     "metadata": {},
     "output_type": "execute_result"
    }
   ],
   "source": [
    "Ytrain.shape\n",
    "Ytest.shape"
   ]
  },
  {
   "cell_type": "code",
   "execution_count": 264,
   "metadata": {},
   "outputs": [
    {
     "data": {
      "text/plain": [
       "Text(0.5,1,'Noisy')"
      ]
     },
     "execution_count": 264,
     "metadata": {},
     "output_type": "execute_result"
    },
    {
     "data": {
      "image/png": "[encoded data removed]",
      "text/plain": [
       "<Figure size 432x288 with 1 Axes>"
      ]
     },
     "metadata": {},
     "output_type": "display_data"
    },
    {
     "data": {
      "image/png": "[encoded data removed]",
      "text/plain": [
       "<Figure size 432x288 with 1 Axes>"
      ]
     },
     "metadata": {},
     "output_type": "display_data"
    }
   ],
   "source": [
    "## Let's plot one of them\n",
    "\n",
    "fig = plt.figure()\n",
    "plt.imshow(Xtrain[5,:,:,0])\n",
    "plt.title('Original')\n",
    "\n",
    "fig = plt.figure()\n",
    "plt.imshow(XtrainNoisy[5,:,:,0])\n",
    "plt.title('Noisy')\n"
   ]
  },
  {
   "cell_type": "code",
   "execution_count": 265,
   "metadata": {},
   "outputs": [
    {
     "name": "stdout",
     "output_type": "stream",
     "text": [
      "(100, 28, 28, 1)\n",
      "float32\n"
     ]
    }
   ],
   "source": [
    "## Let's check the shape and type of the our test dataset\n",
    "\n",
    "print(Xtest.shape)\n",
    "print(Xtest.dtype)\n"
   ]
  },
  {
   "cell_type": "code",
   "execution_count": 266,
   "metadata": {},
   "outputs": [
    {
     "name": "stdout",
     "output_type": "stream",
     "text": [
      "(600, 28, 28, 1)\n",
      "float32\n"
     ]
    }
   ],
   "source": [
    "print(Xtrain.shape)\n",
    "print(Xtrain.dtype)"
   ]
  },
  {
   "cell_type": "code",
   "execution_count": 281,
   "metadata": {},
   "outputs": [],
   "source": [
    "## Let's define our neural network model that consists of Convolutional, Flattening, MaxPooling and UpSampling layers\n",
    "## We can go deep into each layers and optimization if necessary and if our members are interested.\n",
    "\n",
    "def model(choice = 2):\n",
    "    '''\n",
    "    input parameters\n",
    "      choice - 1, classification of mnist handwriting images\n",
    "               2, encoding and decoding for denoising\n",
    "               \n",
    "    output\n",
    "      keras model defining the network from an input to the final output\n",
    "    '''\n",
    "    \n",
    "    \n",
    "    input_img = Input(shape=(28, 28, 1))\n",
    "    x1 = Conv2D(32, (3,3), activation='relu', padding='same')(input_img)\n",
    "    x2 = MaxPooling2D((2,2), padding='same')(x1)\n",
    "    x3 = Conv2D(32, (3,3), activation='relu', padding='same')(x2)\n",
    "    \n",
    "    encoded = MaxPooling2D((2,2), padding='same')(x3)\n",
    "    c1 = Flatten()(encoded)\n",
    "    c2 = Dense(128, activation='relu')(c1)\n",
    "    c3 = Dropout(0.2)(c2)\n",
    "    \n",
    "    ## this is the final output for classification\n",
    "    classifierOutput = Dense(10, activation='softmax')(c3)\n",
    "    \n",
    "    ## The following layers from y4 to decoded is for denoising\n",
    "    ## we'll cover this in the next meeting\n",
    "    y4 = Conv2D(32, (3,3), activation='relu', padding='same')(encoded)\n",
    "    y3 = UpSampling2D((2,2))(y4)\n",
    "    y2 = Conv2D(32, (3,3), activation='relu', padding='same')(y3)\n",
    "    y1 = UpSampling2D((2,2))(y2)\n",
    "    \n",
    "    decoded = Conv2D(1, (3,3), activation='sigmoid', padding='same')(y1)\n",
    "    \n",
    "    if choice == 1:\n",
    "        return Model(input_img, classifierOutput)\n",
    "    elif choice == 2: \n",
    "        ## This part is for the next meeting\n",
    "        return Model(input_img, decoded)    \n",
    "    else:\n",
    "        return Model(inputs=[input_img], outputs=[classifierOutput, decoded])\n",
    "    "
   ]
  },
  {
   "cell_type": "code",
   "execution_count": 299,
   "metadata": {},
   "outputs": [
    {
     "name": "stdout",
     "output_type": "stream",
     "text": [
      "__________________________________________________________________________________________________\n",
      "Layer (type)                    Output Shape         Param #     Connected to                     \n",
      "==================================================================================================\n",
      "input_18 (InputLayer)           (None, 28, 28, 1)    0                                            \n",
      "__________________________________________________________________________________________________\n",
      "conv2d_86 (Conv2D)              (None, 28, 28, 32)   320         input_18[0][0]                   \n",
      "__________________________________________________________________________________________________\n",
      "max_pooling2d_35 (MaxPooling2D) (None, 14, 14, 32)   0           conv2d_86[0][0]                  \n",
      "__________________________________________________________________________________________________\n",
      "conv2d_87 (Conv2D)              (None, 14, 14, 32)   9248        max_pooling2d_35[0][0]           \n",
      "__________________________________________________________________________________________________\n",
      "max_pooling2d_36 (MaxPooling2D) (None, 7, 7, 32)     0           conv2d_87[0][0]                  \n",
      "__________________________________________________________________________________________________\n",
      "conv2d_88 (Conv2D)              (None, 7, 7, 32)     9248        max_pooling2d_36[0][0]           \n",
      "__________________________________________________________________________________________________\n",
      "flatten_18 (Flatten)            (None, 1568)         0           max_pooling2d_36[0][0]           \n",
      "__________________________________________________________________________________________________\n",
      "up_sampling2d_35 (UpSampling2D) (None, 14, 14, 32)   0           conv2d_88[0][0]                  \n",
      "__________________________________________________________________________________________________\n",
      "dense_35 (Dense)                (None, 128)          200832      flatten_18[0][0]                 \n",
      "__________________________________________________________________________________________________\n",
      "conv2d_89 (Conv2D)              (None, 14, 14, 32)   9248        up_sampling2d_35[0][0]           \n",
      "__________________________________________________________________________________________________\n",
      "dropout_18 (Dropout)            (None, 128)          0           dense_35[0][0]                   \n",
      "__________________________________________________________________________________________________\n",
      "up_sampling2d_36 (UpSampling2D) (None, 28, 28, 32)   0           conv2d_89[0][0]                  \n",
      "__________________________________________________________________________________________________\n",
      "dense_36 (Dense)                (None, 10)           1290        dropout_18[0][0]                 \n",
      "__________________________________________________________________________________________________\n",
      "conv2d_90 (Conv2D)              (None, 28, 28, 1)    289         up_sampling2d_36[0][0]           \n",
      "==================================================================================================\n",
      "Total params: 230,475\n",
      "Trainable params: 230,475\n",
      "Non-trainable params: 0\n",
      "__________________________________________________________________________________________________\n"
     ]
    }
   ],
   "source": [
    "## Here we call a function and get our model defintion.\n",
    "mydenoiser = model(0)\n",
    "mydenoiser.summary()"
   ]
  },
  {
   "cell_type": "code",
   "execution_count": 303,
   "metadata": {},
   "outputs": [],
   "source": [
    "## Once a model is defined, we need to configure the model for trainging \n",
    "## by selecting optimizer and loss function\n",
    "\n",
    "mydenoiser.compile(optimizer='adam', loss=['sparse_categorical_crossentropy', 'binary_crossentropy'], loss_weights=[1., 1.], metrics=['accuracy'])"
   ]
  },
  {
   "cell_type": "code",
   "execution_count": 319,
   "metadata": {},
   "outputs": [
    {
     "name": "stdout",
     "output_type": "stream",
     "text": [
      "Epoch 1/100\n",
      "600/600 [==============================] - 1s 949us/step - loss: 0.1274 - dense_36_loss: 0.0141 - conv2d_90_loss: 0.1133 - dense_36_acc: 1.0000 - conv2d_90_acc: 0.8220\n",
      "Epoch 2/100\n",
      "600/600 [==============================] - 1s 890us/step - loss: 0.1313 - dense_36_loss: 0.0185 - conv2d_90_loss: 0.1128 - dense_36_acc: 0.9967 - conv2d_90_acc: 0.8220\n",
      "Epoch 3/100\n",
      "600/600 [==============================] - 1s 928us/step - loss: 0.1348 - dense_36_loss: 0.0223 - conv2d_90_loss: 0.1125 - dense_36_acc: 0.9983 - conv2d_90_acc: 0.8221\n",
      "Epoch 4/100\n",
      "600/600 [==============================] - 1s 925us/step - loss: 0.1313 - dense_36_loss: 0.0188 - conv2d_90_loss: 0.1125 - dense_36_acc: 0.9983 - conv2d_90_acc: 0.8219\n",
      "Epoch 5/100\n",
      "600/600 [==============================] - 1s 924us/step - loss: 0.1298 - dense_36_loss: 0.0177 - conv2d_90_loss: 0.1121 - dense_36_acc: 0.9983 - conv2d_90_acc: 0.8223\n",
      "Epoch 6/100\n",
      "600/600 [==============================] - 1s 927us/step - loss: 0.1382 - dense_36_loss: 0.0265 - conv2d_90_loss: 0.1117 - dense_36_acc: 0.9950 - conv2d_90_acc: 0.8220\n",
      "Epoch 7/100\n",
      "600/600 [==============================] - 1s 914us/step - loss: 0.1307 - dense_36_loss: 0.0192 - conv2d_90_loss: 0.1114 - dense_36_acc: 0.9983 - conv2d_90_acc: 0.8222\n",
      "Epoch 8/100\n",
      "600/600 [==============================] - 1s 928us/step - loss: 0.1305 - dense_36_loss: 0.0193 - conv2d_90_loss: 0.1112 - dense_36_acc: 0.9983 - conv2d_90_acc: 0.8222\n",
      "Epoch 9/100\n",
      "600/600 [==============================] - 1s 923us/step - loss: 0.1252 - dense_36_loss: 0.0142 - conv2d_90_loss: 0.1110 - dense_36_acc: 0.9983 - conv2d_90_acc: 0.8223\n",
      "Epoch 10/100\n",
      "600/600 [==============================] - 1s 926us/step - loss: 0.1246 - dense_36_loss: 0.0139 - conv2d_90_loss: 0.1107 - dense_36_acc: 0.9967 - conv2d_90_acc: 0.8223\n",
      "Epoch 11/100\n",
      "600/600 [==============================] - 1s 938us/step - loss: 0.1263 - dense_36_loss: 0.0158 - conv2d_90_loss: 0.1105 - dense_36_acc: 0.9983 - conv2d_90_acc: 0.8223\n",
      "Epoch 12/100\n",
      "600/600 [==============================] - 1s 901us/step - loss: 0.1247 - dense_36_loss: 0.0143 - conv2d_90_loss: 0.1104 - dense_36_acc: 1.0000 - conv2d_90_acc: 0.8225\n",
      "Epoch 13/100\n",
      "600/600 [==============================] - 1s 941us/step - loss: 0.1222 - dense_36_loss: 0.0118 - conv2d_90_loss: 0.1104 - dense_36_acc: 1.0000 - conv2d_90_acc: 0.8223\n",
      "Epoch 14/100\n",
      "600/600 [==============================] - 1s 898us/step - loss: 0.1242 - dense_36_loss: 0.0139 - conv2d_90_loss: 0.1103 - dense_36_acc: 0.9983 - conv2d_90_acc: 0.8222\n",
      "Epoch 15/100\n",
      "600/600 [==============================] - 1s 958us/step - loss: 0.1258 - dense_36_loss: 0.0158 - conv2d_90_loss: 0.1100 - dense_36_acc: 0.9983 - conv2d_90_acc: 0.8225\n",
      "Epoch 16/100\n",
      "600/600 [==============================] - 1s 929us/step - loss: 0.1202 - dense_36_loss: 0.0107 - conv2d_90_loss: 0.1095 - dense_36_acc: 0.9983 - conv2d_90_acc: 0.8226\n",
      "Epoch 17/100\n",
      "600/600 [==============================] - 1s 938us/step - loss: 0.1231 - dense_36_loss: 0.0140 - conv2d_90_loss: 0.1091 - dense_36_acc: 1.0000 - conv2d_90_acc: 0.8225\n",
      "Epoch 18/100\n",
      "600/600 [==============================] - 1s 911us/step - loss: 0.1225 - dense_36_loss: 0.0136 - conv2d_90_loss: 0.1089 - dense_36_acc: 0.9983 - conv2d_90_acc: 0.8226\n",
      "Epoch 19/100\n",
      "600/600 [==============================] - 1s 943us/step - loss: 0.1237 - dense_36_loss: 0.0152 - conv2d_90_loss: 0.1086 - dense_36_acc: 0.9967 - conv2d_90_acc: 0.8226\n",
      "Epoch 20/100\n",
      "600/600 [==============================] - 1s 917us/step - loss: 0.1227 - dense_36_loss: 0.0143 - conv2d_90_loss: 0.1084 - dense_36_acc: 0.9983 - conv2d_90_acc: 0.8227\n",
      "Epoch 21/100\n",
      "600/600 [==============================] - 1s 933us/step - loss: 0.1278 - dense_36_loss: 0.0195 - conv2d_90_loss: 0.1083 - dense_36_acc: 0.9950 - conv2d_90_acc: 0.8228\n",
      "Epoch 22/100\n",
      "600/600 [==============================] - 1s 929us/step - loss: 0.1254 - dense_36_loss: 0.0172 - conv2d_90_loss: 0.1082 - dense_36_acc: 0.9967 - conv2d_90_acc: 0.8226\n",
      "Epoch 23/100\n",
      "600/600 [==============================] - 1s 932us/step - loss: 0.1170 - dense_36_loss: 0.0090 - conv2d_90_loss: 0.1080 - dense_36_acc: 1.0000 - conv2d_90_acc: 0.8229\n",
      "Epoch 24/100\n",
      "600/600 [==============================] - 1s 927us/step - loss: 0.1168 - dense_36_loss: 0.0091 - conv2d_90_loss: 0.1077 - dense_36_acc: 1.0000 - conv2d_90_acc: 0.8228\n",
      "Epoch 25/100\n",
      "600/600 [==============================] - 1s 933us/step - loss: 0.1191 - dense_36_loss: 0.0115 - conv2d_90_loss: 0.1077 - dense_36_acc: 1.0000 - conv2d_90_acc: 0.8228\n",
      "Epoch 26/100\n",
      "600/600 [==============================] - 1s 953us/step - loss: 0.1177 - dense_36_loss: 0.0100 - conv2d_90_loss: 0.1077 - dense_36_acc: 0.9967 - conv2d_90_acc: 0.8227\n",
      "Epoch 27/100\n",
      "600/600 [==============================] - 1s 913us/step - loss: 0.1189 - dense_36_loss: 0.0115 - conv2d_90_loss: 0.1073 - dense_36_acc: 0.9983 - conv2d_90_acc: 0.8229\n",
      "Epoch 28/100\n",
      "600/600 [==============================] - 1s 1ms/step - loss: 0.1194 - dense_36_loss: 0.0119 - conv2d_90_loss: 0.1075 - dense_36_acc: 0.9983 - conv2d_90_acc: 0.8229\n",
      "Epoch 29/100\n",
      "600/600 [==============================] - 1s 1ms/step - loss: 0.1154 - dense_36_loss: 0.0077 - conv2d_90_loss: 0.1077 - dense_36_acc: 1.0000 - conv2d_90_acc: 0.8227\n",
      "Epoch 30/100\n",
      "600/600 [==============================] - 1s 1ms/step - loss: 0.1175 - dense_36_loss: 0.0105 - conv2d_90_loss: 0.1069 - dense_36_acc: 0.9983 - conv2d_90_acc: 0.8229\n",
      "Epoch 31/100\n",
      "600/600 [==============================] - 1s 1ms/step - loss: 0.1157 - dense_36_loss: 0.0089 - conv2d_90_loss: 0.1068 - dense_36_acc: 1.0000 - conv2d_90_acc: 0.8230\n",
      "Epoch 32/100\n",
      "600/600 [==============================] - 1s 949us/step - loss: 0.1184 - dense_36_loss: 0.0118 - conv2d_90_loss: 0.1066 - dense_36_acc: 0.9983 - conv2d_90_acc: 0.8231\n",
      "Epoch 33/100\n",
      "600/600 [==============================] - 1s 1ms/step - loss: 0.1174 - dense_36_loss: 0.0109 - conv2d_90_loss: 0.1065 - dense_36_acc: 0.9983 - conv2d_90_acc: 0.8229\n",
      "Epoch 34/100\n",
      "600/600 [==============================] - 1s 961us/step - loss: 0.1144 - dense_36_loss: 0.0083 - conv2d_90_loss: 0.1061 - dense_36_acc: 0.9983 - conv2d_90_acc: 0.8230\n",
      "Epoch 35/100\n",
      "600/600 [==============================] - 1s 1ms/step - loss: 0.1172 - dense_36_loss: 0.0111 - conv2d_90_loss: 0.1060 - dense_36_acc: 0.9983 - conv2d_90_acc: 0.8231\n",
      "Epoch 36/100\n",
      "600/600 [==============================] - 1s 1ms/step - loss: 0.1184 - dense_36_loss: 0.0124 - conv2d_90_loss: 0.1060 - dense_36_acc: 0.9983 - conv2d_90_acc: 0.8230\n",
      "Epoch 37/100\n",
      "600/600 [==============================] - 1s 980us/step - loss: 0.1129 - dense_36_loss: 0.0073 - conv2d_90_loss: 0.1056 - dense_36_acc: 1.0000 - conv2d_90_acc: 0.8231\n",
      "Epoch 38/100\n",
      "600/600 [==============================] - 1s 1ms/step - loss: 0.1132 - dense_36_loss: 0.0075 - conv2d_90_loss: 0.1058 - dense_36_acc: 0.9983 - conv2d_90_acc: 0.8231\n",
      "Epoch 39/100\n",
      "600/600 [==============================] - 1s 1ms/step - loss: 0.1127 - dense_36_loss: 0.0072 - conv2d_90_loss: 0.1054 - dense_36_acc: 1.0000 - conv2d_90_acc: 0.8232\n",
      "Epoch 40/100\n",
      "600/600 [==============================] - 1s 1ms/step - loss: 0.1139 - dense_36_loss: 0.0085 - conv2d_90_loss: 0.1054 - dense_36_acc: 0.9983 - conv2d_90_acc: 0.8231\n",
      "Epoch 41/100\n",
      "600/600 [==============================] - 1s 1ms/step - loss: 0.1164 - dense_36_loss: 0.0111 - conv2d_90_loss: 0.1053 - dense_36_acc: 0.9983 - conv2d_90_acc: 0.8232\n",
      "Epoch 42/100\n",
      "600/600 [==============================] - 1s 1ms/step - loss: 0.1135 - dense_36_loss: 0.0083 - conv2d_90_loss: 0.1052 - dense_36_acc: 1.0000 - conv2d_90_acc: 0.8232\n",
      "Epoch 43/100\n",
      "600/600 [==============================] - 1s 1ms/step - loss: 0.1119 - dense_36_loss: 0.0069 - conv2d_90_loss: 0.1050 - dense_36_acc: 1.0000 - conv2d_90_acc: 0.8233\n",
      "Epoch 44/100\n",
      "600/600 [==============================] - 1s 1ms/step - loss: 0.1096 - dense_36_loss: 0.0049 - conv2d_90_loss: 0.1048 - dense_36_acc: 1.0000 - conv2d_90_acc: 0.8232\n",
      "Epoch 45/100\n",
      "600/600 [==============================] - 1s 922us/step - loss: 0.1120 - dense_36_loss: 0.0074 - conv2d_90_loss: 0.1046 - dense_36_acc: 1.0000 - conv2d_90_acc: 0.8232\n",
      "Epoch 46/100\n"
     ]
    },
    {
     "name": "stdout",
     "output_type": "stream",
     "text": [
      "600/600 [==============================] - 1s 934us/step - loss: 0.1120 - dense_36_loss: 0.0073 - conv2d_90_loss: 0.1047 - dense_36_acc: 0.9967 - conv2d_90_acc: 0.8234\n",
      "Epoch 47/100\n",
      "600/600 [==============================] - 1s 917us/step - loss: 0.1137 - dense_36_loss: 0.0094 - conv2d_90_loss: 0.1043 - dense_36_acc: 1.0000 - conv2d_90_acc: 0.8233\n",
      "Epoch 48/100\n",
      "600/600 [==============================] - 1s 864us/step - loss: 0.1112 - dense_36_loss: 0.0070 - conv2d_90_loss: 0.1042 - dense_36_acc: 1.0000 - conv2d_90_acc: 0.8233\n",
      "Epoch 49/100\n",
      "600/600 [==============================] - 1s 969us/step - loss: 0.1108 - dense_36_loss: 0.0067 - conv2d_90_loss: 0.1041 - dense_36_acc: 1.0000 - conv2d_90_acc: 0.8234\n",
      "Epoch 50/100\n",
      "600/600 [==============================] - 1s 920us/step - loss: 0.1121 - dense_36_loss: 0.0082 - conv2d_90_loss: 0.1040 - dense_36_acc: 0.9983 - conv2d_90_acc: 0.8234\n",
      "Epoch 51/100\n",
      "600/600 [==============================] - 1s 1ms/step - loss: 0.1092 - dense_36_loss: 0.0051 - conv2d_90_loss: 0.1040 - dense_36_acc: 1.0000 - conv2d_90_acc: 0.8233\n",
      "Epoch 52/100\n",
      "600/600 [==============================] - 1s 1ms/step - loss: 0.1087 - dense_36_loss: 0.0050 - conv2d_90_loss: 0.1037 - dense_36_acc: 1.0000 - conv2d_90_acc: 0.8235\n",
      "Epoch 53/100\n",
      "600/600 [==============================] - 1s 1ms/step - loss: 0.1081 - dense_36_loss: 0.0044 - conv2d_90_loss: 0.1037 - dense_36_acc: 1.0000 - conv2d_90_acc: 0.8235\n",
      "Epoch 54/100\n",
      "600/600 [==============================] - 1s 973us/step - loss: 0.1078 - dense_36_loss: 0.0043 - conv2d_90_loss: 0.1035 - dense_36_acc: 1.0000 - conv2d_90_acc: 0.8234\n",
      "Epoch 55/100\n",
      "600/600 [==============================] - 1s 1ms/step - loss: 0.1075 - dense_36_loss: 0.0042 - conv2d_90_loss: 0.1033 - dense_36_acc: 0.9983 - conv2d_90_acc: 0.8235\n",
      "Epoch 56/100\n",
      "600/600 [==============================] - 1s 957us/step - loss: 0.1089 - dense_36_loss: 0.0056 - conv2d_90_loss: 0.1033 - dense_36_acc: 1.0000 - conv2d_90_acc: 0.8236\n",
      "Epoch 57/100\n",
      "600/600 [==============================] - 1s 984us/step - loss: 0.1079 - dense_36_loss: 0.0047 - conv2d_90_loss: 0.1033 - dense_36_acc: 1.0000 - conv2d_90_acc: 0.8234\n",
      "Epoch 58/100\n",
      "600/600 [==============================] - 1s 979us/step - loss: 0.1073 - dense_36_loss: 0.0043 - conv2d_90_loss: 0.1030 - dense_36_acc: 1.0000 - conv2d_90_acc: 0.8235\n",
      "Epoch 59/100\n",
      "600/600 [==============================] - 1s 968us/step - loss: 0.1093 - dense_36_loss: 0.0064 - conv2d_90_loss: 0.1029 - dense_36_acc: 0.9983 - conv2d_90_acc: 0.8236\n",
      "Epoch 60/100\n",
      "600/600 [==============================] - 1s 978us/step - loss: 0.1086 - dense_36_loss: 0.0058 - conv2d_90_loss: 0.1028 - dense_36_acc: 1.0000 - conv2d_90_acc: 0.8236\n",
      "Epoch 61/100\n",
      "600/600 [==============================] - 1s 936us/step - loss: 0.1103 - dense_36_loss: 0.0075 - conv2d_90_loss: 0.1028 - dense_36_acc: 0.9983 - conv2d_90_acc: 0.8234\n",
      "Epoch 62/100\n",
      "600/600 [==============================] - 1s 970us/step - loss: 0.1104 - dense_36_loss: 0.0075 - conv2d_90_loss: 0.1029 - dense_36_acc: 0.9983 - conv2d_90_acc: 0.8237\n",
      "Epoch 63/100\n",
      "600/600 [==============================] - 1s 1ms/step - loss: 0.1083 - dense_36_loss: 0.0058 - conv2d_90_loss: 0.1025 - dense_36_acc: 1.0000 - conv2d_90_acc: 0.8235\n",
      "Epoch 64/100\n",
      "600/600 [==============================] - 1s 1ms/step - loss: 0.1081 - dense_36_loss: 0.0056 - conv2d_90_loss: 0.1025 - dense_36_acc: 1.0000 - conv2d_90_acc: 0.8236\n",
      "Epoch 65/100\n",
      "600/600 [==============================] - 1s 1ms/step - loss: 0.1088 - dense_36_loss: 0.0064 - conv2d_90_loss: 0.1024 - dense_36_acc: 0.9983 - conv2d_90_acc: 0.8236\n",
      "Epoch 66/100\n",
      "600/600 [==============================] - 1s 954us/step - loss: 0.1081 - dense_36_loss: 0.0057 - conv2d_90_loss: 0.1024 - dense_36_acc: 1.0000 - conv2d_90_acc: 0.8237\n",
      "Epoch 67/100\n",
      "600/600 [==============================] - 1s 974us/step - loss: 0.1082 - dense_36_loss: 0.0058 - conv2d_90_loss: 0.1024 - dense_36_acc: 0.9983 - conv2d_90_acc: 0.8235\n",
      "Epoch 68/100\n",
      "600/600 [==============================] - 1s 984us/step - loss: 0.1060 - dense_36_loss: 0.0040 - conv2d_90_loss: 0.1020 - dense_36_acc: 0.9983 - conv2d_90_acc: 0.8237\n",
      "Epoch 69/100\n",
      "600/600 [==============================] - 1s 951us/step - loss: 0.1075 - dense_36_loss: 0.0055 - conv2d_90_loss: 0.1020 - dense_36_acc: 1.0000 - conv2d_90_acc: 0.8237\n",
      "Epoch 70/100\n",
      "600/600 [==============================] - 1s 993us/step - loss: 0.1072 - dense_36_loss: 0.0052 - conv2d_90_loss: 0.1020 - dense_36_acc: 0.9983 - conv2d_90_acc: 0.8236\n",
      "Epoch 71/100\n",
      "600/600 [==============================] - 1s 984us/step - loss: 0.1077 - dense_36_loss: 0.0057 - conv2d_90_loss: 0.1020 - dense_36_acc: 1.0000 - conv2d_90_acc: 0.8237\n",
      "Epoch 72/100\n",
      "600/600 [==============================] - 1s 968us/step - loss: 0.1057 - dense_36_loss: 0.0038 - conv2d_90_loss: 0.1020 - dense_36_acc: 1.0000 - conv2d_90_acc: 0.8237\n",
      "Epoch 73/100\n",
      "600/600 [==============================] - 1s 911us/step - loss: 0.1065 - dense_36_loss: 0.0042 - conv2d_90_loss: 0.1024 - dense_36_acc: 1.0000 - conv2d_90_acc: 0.8234\n",
      "Epoch 74/100\n",
      "600/600 [==============================] - 1s 932us/step - loss: 0.1044 - dense_36_loss: 0.0023 - conv2d_90_loss: 0.1021 - dense_36_acc: 1.0000 - conv2d_90_acc: 0.8238\n",
      "Epoch 75/100\n",
      "600/600 [==============================] - 1s 1ms/step - loss: 0.1042 - dense_36_loss: 0.0026 - conv2d_90_loss: 0.1016 - dense_36_acc: 1.0000 - conv2d_90_acc: 0.8238\n",
      "Epoch 76/100\n",
      "600/600 [==============================] - 1s 998us/step - loss: 0.1035 - dense_36_loss: 0.0023 - conv2d_90_loss: 0.1012 - dense_36_acc: 1.0000 - conv2d_90_acc: 0.8237\n",
      "Epoch 77/100\n",
      "600/600 [==============================] - 1s 984us/step - loss: 0.1059 - dense_36_loss: 0.0048 - conv2d_90_loss: 0.1011 - dense_36_acc: 0.9983 - conv2d_90_acc: 0.8237\n",
      "Epoch 78/100\n",
      "600/600 [==============================] - 1s 1ms/step - loss: 0.1043 - dense_36_loss: 0.0033 - conv2d_90_loss: 0.1010 - dense_36_acc: 1.0000 - conv2d_90_acc: 0.8238\n",
      "Epoch 79/100\n",
      "600/600 [==============================] - 1s 1ms/step - loss: 0.1058 - dense_36_loss: 0.0048 - conv2d_90_loss: 0.1011 - dense_36_acc: 1.0000 - conv2d_90_acc: 0.8237\n",
      "Epoch 80/100\n",
      "600/600 [==============================] - 1s 937us/step - loss: 0.1046 - dense_36_loss: 0.0032 - conv2d_90_loss: 0.1014 - dense_36_acc: 1.0000 - conv2d_90_acc: 0.8239\n",
      "Epoch 81/100\n",
      "600/600 [==============================] - 1s 1ms/step - loss: 0.1047 - dense_36_loss: 0.0036 - conv2d_90_loss: 0.1011 - dense_36_acc: 1.0000 - conv2d_90_acc: 0.8238\n",
      "Epoch 82/100\n",
      "600/600 [==============================] - 1s 953us/step - loss: 0.1047 - dense_36_loss: 0.0038 - conv2d_90_loss: 0.1009 - dense_36_acc: 0.9983 - conv2d_90_acc: 0.8237\n",
      "Epoch 83/100\n",
      "600/600 [==============================] - 1s 912us/step - loss: 0.1027 - dense_36_loss: 0.0021 - conv2d_90_loss: 0.1006 - dense_36_acc: 1.0000 - conv2d_90_acc: 0.8238\n",
      "Epoch 84/100\n",
      "600/600 [==============================] - 1s 929us/step - loss: 0.1053 - dense_36_loss: 0.0047 - conv2d_90_loss: 0.1006 - dense_36_acc: 1.0000 - conv2d_90_acc: 0.8239\n",
      "Epoch 85/100\n",
      "600/600 [==============================] - 1s 931us/step - loss: 0.1045 - dense_36_loss: 0.0039 - conv2d_90_loss: 0.1006 - dense_36_acc: 0.9983 - conv2d_90_acc: 0.8238\n",
      "Epoch 86/100\n",
      "600/600 [==============================] - 1s 927us/step - loss: 0.1032 - dense_36_loss: 0.0026 - conv2d_90_loss: 0.1006 - dense_36_acc: 1.0000 - conv2d_90_acc: 0.8239\n",
      "Epoch 87/100\n",
      "600/600 [==============================] - 1s 948us/step - loss: 0.1038 - dense_36_loss: 0.0033 - conv2d_90_loss: 0.1005 - dense_36_acc: 1.0000 - conv2d_90_acc: 0.8237\n",
      "Epoch 88/100\n",
      "600/600 [==============================] - 1s 921us/step - loss: 0.1060 - dense_36_loss: 0.0056 - conv2d_90_loss: 0.1004 - dense_36_acc: 0.9983 - conv2d_90_acc: 0.8238\n",
      "Epoch 89/100\n",
      "600/600 [==============================] - 1s 911us/step - loss: 0.1040 - dense_36_loss: 0.0032 - conv2d_90_loss: 0.1008 - dense_36_acc: 1.0000 - conv2d_90_acc: 0.8240\n",
      "Epoch 90/100\n",
      "600/600 [==============================] - 1s 940us/step - loss: 0.1033 - dense_36_loss: 0.0030 - conv2d_90_loss: 0.1003 - dense_36_acc: 1.0000 - conv2d_90_acc: 0.8238\n",
      "Epoch 91/100\n"
     ]
    },
    {
     "name": "stdout",
     "output_type": "stream",
     "text": [
      "600/600 [==============================] - 1s 941us/step - loss: 0.1034 - dense_36_loss: 0.0035 - conv2d_90_loss: 0.1000 - dense_36_acc: 1.0000 - conv2d_90_acc: 0.8239\n",
      "Epoch 92/100\n",
      "600/600 [==============================] - 1s 912us/step - loss: 0.1020 - dense_36_loss: 0.0021 - conv2d_90_loss: 0.0999 - dense_36_acc: 1.0000 - conv2d_90_acc: 0.8239\n",
      "Epoch 93/100\n",
      "600/600 [==============================] - 1s 889us/step - loss: 0.1027 - dense_36_loss: 0.0029 - conv2d_90_loss: 0.0998 - dense_36_acc: 0.9983 - conv2d_90_acc: 0.8240\n",
      "Epoch 94/100\n",
      "600/600 [==============================] - 1s 882us/step - loss: 0.1014 - dense_36_loss: 0.0018 - conv2d_90_loss: 0.0996 - dense_36_acc: 1.0000 - conv2d_90_acc: 0.8240\n",
      "Epoch 95/100\n",
      "600/600 [==============================] - 1s 920us/step - loss: 0.1023 - dense_36_loss: 0.0027 - conv2d_90_loss: 0.0996 - dense_36_acc: 1.0000 - conv2d_90_acc: 0.8240\n",
      "Epoch 96/100\n",
      "600/600 [==============================] - 1s 921us/step - loss: 0.1013 - dense_36_loss: 0.0016 - conv2d_90_loss: 0.0996 - dense_36_acc: 1.0000 - conv2d_90_acc: 0.8239\n",
      "Epoch 97/100\n",
      "600/600 [==============================] - 1s 871us/step - loss: 0.1024 - dense_36_loss: 0.0029 - conv2d_90_loss: 0.0995 - dense_36_acc: 1.0000 - conv2d_90_acc: 0.8240\n",
      "Epoch 98/100\n",
      "600/600 [==============================] - 1s 929us/step - loss: 0.1011 - dense_36_loss: 0.0017 - conv2d_90_loss: 0.0994 - dense_36_acc: 1.0000 - conv2d_90_acc: 0.8239\n",
      "Epoch 99/100\n",
      "600/600 [==============================] - 1s 883us/step - loss: 0.1012 - dense_36_loss: 0.0020 - conv2d_90_loss: 0.0992 - dense_36_acc: 1.0000 - conv2d_90_acc: 0.8240\n",
      "Epoch 100/100\n",
      "600/600 [==============================] - 1s 883us/step - loss: 0.1029 - dense_36_loss: 0.0037 - conv2d_90_loss: 0.0992 - dense_36_acc: 0.9983 - conv2d_90_acc: 0.8240\n"
     ]
    },
    {
     "data": {
      "text/plain": [
       "<keras.callbacks.History at 0x7f0ce894aba8>"
      ]
     },
     "execution_count": 319,
     "metadata": {},
     "output_type": "execute_result"
    }
   ],
   "source": [
    "## This is the traing stage that is compute intensive and may require high performance computers\n",
    "## or GPU machines if the size of the training dataset is huge\n",
    "## \n",
    "## In the begining of notebook, we decimated the size of the training dataset to finish our meeting on time\n",
    "## If you increase the epochs, the number of data repetition,\n",
    "## the running time will increase linearly proportional to the epochs.\n",
    "mydenoiser.fit(XtrainNoisy, [Ytrain, Xtrain], epochs=60, batch_size=128)"
   ]
  },
  {
   "cell_type": "code",
   "execution_count": 320,
   "metadata": {},
   "outputs": [],
   "source": [
    "Xpred = mydenoiser.predict(XtestNoisy)"
   ]
  },
  {
   "cell_type": "code",
   "execution_count": 321,
   "metadata": {},
   "outputs": [
    {
     "name": "stdout",
     "output_type": "stream",
     "text": [
      "100/100 [==============================] - 0s 707us/step\n"
     ]
    },
    {
     "data": {
      "text/plain": [
       "[0.9272110843658448,\n",
       " 0.8201841783523559,\n",
       " 0.10702690392732621,\n",
       " 0.86,\n",
       " 0.8271683740615845]"
      ]
     },
     "execution_count": 321,
     "metadata": {},
     "output_type": "execute_result"
    }
   ],
   "source": [
    "mydenoiser.evaluate(XtestNoisy, [Ytest, Xtest])"
   ]
  },
  {
   "cell_type": "code",
   "execution_count": 322,
   "metadata": {},
   "outputs": [
    {
     "data": {
      "text/plain": [
       "(100, 28, 28, 1)"
      ]
     },
     "execution_count": 322,
     "metadata": {},
     "output_type": "execute_result"
    }
   ],
   "source": [
    "Xtest.shape"
   ]
  },
  {
   "cell_type": "code",
   "execution_count": 323,
   "metadata": {},
   "outputs": [
    {
     "data": {
      "text/plain": [
       "(100, 28, 28, 1)"
      ]
     },
     "execution_count": 323,
     "metadata": {},
     "output_type": "execute_result"
    }
   ],
   "source": [
    "XtestNoisy.shape"
   ]
  },
  {
   "cell_type": "code",
   "execution_count": 324,
   "metadata": {},
   "outputs": [],
   "source": [
    "def showNumbers(Xdata):\n",
    "    numpic = 10\n",
    "    plt.figure(figsize=(12,4))\n",
    "    for i in range(numpic):\n",
    "        ax = plt.subplot(2, 5, i+1)\n",
    "        plt.imshow(Xdata[i, :, :, 0])\n",
    "        plt.gray()\n",
    "        ax.get_xaxis().set_visible(False)\n",
    "        ax.get_yaxis().set_visible(False)\n"
   ]
  },
  {
   "cell_type": "code",
   "execution_count": 325,
   "metadata": {},
   "outputs": [
    {
     "data": {
      "image/png": "[encoded data removed]",
      "text/plain": [
       "<Figure size 864x288 with 10 Axes>"
      ]
     },
     "metadata": {},
     "output_type": "display_data"
    }
   ],
   "source": [
    "showNumbers(Xtest)"
   ]
  },
  {
   "cell_type": "code",
   "execution_count": 326,
   "metadata": {},
   "outputs": [
    {
     "data": {
      "image/png": "[encoded data removed]",
      "text/plain": [
       "<Figure size 864x288 with 10 Axes>"
      ]
     },
     "metadata": {},
     "output_type": "display_data"
    }
   ],
   "source": [
    "showNumbers(XtestNoisy)"
   ]
  },
  {
   "cell_type": "code",
   "execution_count": 327,
   "metadata": {},
   "outputs": [],
   "source": [
    "Xpredlabel, XpredImag = Xpred"
   ]
  },
  {
   "cell_type": "code",
   "execution_count": 328,
   "metadata": {},
   "outputs": [],
   "source": [
    "XpredFinal = [np.argmax(x) for x in Xpredlabel]"
   ]
  },
  {
   "cell_type": "code",
   "execution_count": 331,
   "metadata": {},
   "outputs": [
    {
     "data": {
      "text/plain": [
       "[9, 0, 2, 5, 1, 9, 7, 9, 1, 0]"
      ]
     },
     "execution_count": 331,
     "metadata": {},
     "output_type": "execute_result"
    }
   ],
   "source": [
    "XpredFinal[0:10]"
   ]
  },
  {
   "cell_type": "code",
   "execution_count": 333,
   "metadata": {},
   "outputs": [
    {
     "data": {
      "text/plain": [
       "array([9, 0, 2, 5, 1, 9, 7, 8, 1, 0], dtype=uint8)"
      ]
     },
     "execution_count": 333,
     "metadata": {},
     "output_type": "execute_result"
    }
   ],
   "source": [
    "Ytest[0:10]"
   ]
  },
  {
   "cell_type": "code",
   "execution_count": 330,
   "metadata": {},
   "outputs": [
    {
     "data": {
      "image/png": "[encoded data removed]",
      "text/plain": [
       "<Figure size 864x288 with 10 Axes>"
      ]
     },
     "metadata": {},
     "output_type": "display_data"
    }
   ],
   "source": [
    "showNumbers(XpredImag)"
   ]
  },
  {
   "cell_type": "code",
   "execution_count": null,
   "metadata": {},
   "outputs": [],
   "source": []
  },
  {
   "cell_type": "code",
   "execution_count": null,
   "metadata": {},
   "outputs": [],
   "source": []
  }
 ],
 "metadata": {
  "kernelspec": {
   "display_name": "Python 3",
   "language": "python",
   "name": "python3"
  },
  "language_info": {
   "codemirror_mode": {
    "name": "ipython",
    "version": 3
   },
   "file_extension": ".py",
   "mimetype": "text/x-python",
   "name": "python",
   "nbconvert_exporter": "python",
   "pygments_lexer": "ipython3",
   "version": "3.5.5"
  }
 },
 "nbformat": 4,
 "nbformat_minor": 2
}
