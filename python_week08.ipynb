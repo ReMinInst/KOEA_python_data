{
 "cells": [
  {
   "cell_type": "markdown",
   "metadata": {},
   "source": [
    "## Python Week 8"
   ]
  },
  {
   "cell_type": "markdown",
   "metadata": {},
   "source": [
    "November 23, 2019\n",
    "\n",
    "If the installation was done properly on October 26, we are ready to start machine learning projects.\n",
    "In the following weeks, we'll make a team and pick a project that you are interested in. In order to give you better ideas and understand what AI can do, we'll go over a few examples drawn from engineering and science. \n",
    "\n",
    "Today, let's continue our Keras programming with image denoising using autoencoder.\n",
    "We'll use the dataset that we previously played with for our number recognition and plotting. So the data should be in your cloned repository.\n"
   ]
  },
  {
   "cell_type": "code",
   "execution_count": 11,
   "metadata": {},
   "outputs": [
    {
     "name": "stdout",
     "output_type": "stream",
     "text": [
      "using tensorflow  2.0.0\n"
     ]
    }
   ],
   "source": [
    "import numpy as np\n",
    "\n",
    "import tensorflow \n",
    "import matplotlib.pyplot as plt\n",
    "\n",
    "if tensorflow.__version__ < '2.0.0':\n",
    "    import keras \n",
    "    from keras.models import Model\n",
    "    from keras.layers import Input, Conv2D, MaxPooling2D, UpSampling2D, Flatten, Dense, Dropout\n",
    "    \n",
    "elif tensorflow.__version__ >= '2.0.0':\n",
    "    from tensorflow import keras\n",
    "    from tensorflow.keras.models import Model\n",
    "    from tensorflow.keras.layers import Input, Conv2D, MaxPooling2D, UpSampling2D, Flatten, Dense, Dropout\n",
    "    \n",
    "print(\"using tensorflow \", tensorflow.__version__)\n",
    "## keras functions are well documented in the Keras Documentaion \n",
    "## https://keras.io"
   ]
  },
  {
   "cell_type": "code",
   "execution_count": 12,
   "metadata": {},
   "outputs": [],
   "source": [
    "Xtest3D = np.load('xtest.pickle', allow_pickle=True)\n",
    "YtestAll = np.load('ytest.pickle', allow_pickle=True)"
   ]
  },
  {
   "cell_type": "code",
   "execution_count": 13,
   "metadata": {},
   "outputs": [],
   "source": [
    "#Xtrain3D = np.load('xtrain.pickle', allow_pickle=True)\n",
    "#Ytrain = np.load('ytrain.pickle', allow_pickle=True)"
   ]
  },
  {
   "cell_type": "code",
   "execution_count": 14,
   "metadata": {},
   "outputs": [],
   "source": [
    "## original images have unsigned integer from 0 to 255 (8bit representation of gray scale color) \n",
    "## Since the convolutions are numerical computation, we change the data type to float32 and then \n",
    "## perform normalizations to [0,1] range\n",
    "\n",
    "Xtest3D = Xtest3D.astype('float32')/255.\n",
    "#Xtrain3D = Xtrain3D.astype('float32')/255."
   ]
  },
  {
   "cell_type": "code",
   "execution_count": 15,
   "metadata": {},
   "outputs": [],
   "source": [
    "## in order to conform to the shape of inputs to Conv2D\n",
    "## Conv2D expects 4D array\n",
    "## 1st index - sample index\n",
    "## 2nd index - image x\n",
    "## 3rd index - image y\n",
    "## 4th index - channel (Ex. RGB values in color images)\n",
    "\n",
    "Xtest4D = Xtest3D.reshape((*Xtest3D.shape, 1))\n",
    "#Xtrain = Xtrain3D.reshape((*Xtrain3D.shape, 1))"
   ]
  },
  {
   "cell_type": "code",
   "execution_count": 16,
   "metadata": {},
   "outputs": [],
   "source": [
    "## Since the computing power and time is limitted, let's reduce the size of training and test datasets \n",
    "\n",
    "Xtrain = Xtest4D[0:600,:]\n",
    "Xtest = Xtest4D[1000:1100,:]\n",
    "\n",
    "Ytrain = YtestAll[0:600]\n",
    "Ytest  = YtestAll[1000:1100]\n",
    "\n",
    "## Let's create noisy input data\n",
    "\n",
    "XtrainNoisy = Xtrain + 0.5*np.random.randn(*Xtrain.shape)\n",
    "XtestNoisy = Xtest + 0.5*np.random.randn(*Xtest.shape)\n",
    "\n",
    "XtrainNoisy = np.clip(XtrainNoisy, 0., 1.)\n",
    "XtestNoisy = np.clip(XtestNoisy, 0., 1.)\n",
    "\n"
   ]
  },
  {
   "cell_type": "code",
   "execution_count": 17,
   "metadata": {},
   "outputs": [
    {
     "data": {
      "text/plain": [
       "(100,)"
      ]
     },
     "execution_count": 17,
     "metadata": {},
     "output_type": "execute_result"
    }
   ],
   "source": [
    "Ytrain.shape\n",
    "Ytest.shape"
   ]
  },
  {
   "cell_type": "code",
   "execution_count": 39,
   "metadata": {},
   "outputs": [
    {
     "data": {
      "text/plain": [
       "Text(0.5, 1.0, 'Noisy')"
      ]
     },
     "execution_count": 39,
     "metadata": {},
     "output_type": "execute_result"
    },
    {
     "data": {
      "image/png": "[encoded data removed]",
      "text/plain": [
       "<Figure size 432x216 with 2 Axes>"
      ]
     },
     "metadata": {
      "needs_background": "light"
     },
     "output_type": "display_data"
    }
   ],
   "source": [
    "## Let's plot one of handwriting image and its noisy version\n",
    "\n",
    "fig, ax = plt.subplots(1,2, figsize=(6,3))\n",
    "\n",
    "fig.suptitle('MNIST figure %d'%(Ytrain[5]), fontsize=18)\n",
    "fig.subplots_adjust(hspace=0.5, wspace=0.5)\n",
    "ax[0].imshow(Xtrain[5,:,:,0], cmap='gray')\n",
    "ax[0].set_title('Original')\n",
    "\n",
    "ax[1].imshow(XtrainNoisy[5,:,:,0], cmap='gray')\n",
    "ax[1].set_title('Noisy')\n"
   ]
  },
  {
   "cell_type": "code",
   "execution_count": 19,
   "metadata": {},
   "outputs": [
    {
     "name": "stdout",
     "output_type": "stream",
     "text": [
      "(100, 28, 28, 1)\n",
      "float32\n"
     ]
    }
   ],
   "source": [
    "## Let's check the shape and type of the our test dataset\n",
    "\n",
    "print(Xtest.shape)\n",
    "print(Xtest.dtype)\n"
   ]
  },
  {
   "cell_type": "code",
   "execution_count": 20,
   "metadata": {},
   "outputs": [
    {
     "name": "stdout",
     "output_type": "stream",
     "text": [
      "(600, 28, 28, 1)\n",
      "float32\n"
     ]
    }
   ],
   "source": [
    "print(Xtrain.shape)\n",
    "print(Xtrain.dtype)"
   ]
  },
  {
   "cell_type": "code",
   "execution_count": 21,
   "metadata": {},
   "outputs": [],
   "source": [
    "## Let's define our neural network model that consists of Convolutional, Flattening, MaxPooling and UpSampling layers\n",
    "## We can go deep into each layers and optimization if necessary and if our members are interested.\n",
    "\n",
    "def model(choice = 2):\n",
    "    '''\n",
    "    input parameters\n",
    "      choice - 1, classification of mnist handwriting images\n",
    "               2, encoding and decoding for denoising\n",
    "               \n",
    "    output\n",
    "      keras model defining the network from an input to the final output\n",
    "    '''\n",
    "    \n",
    "    \n",
    "    input_img = Input(shape=(28, 28, 1))\n",
    "    x1 = Conv2D(32, (3,3), activation='relu', padding='same')(input_img)\n",
    "    x2 = MaxPooling2D((2,2), padding='same')(x1)\n",
    "    x3 = Conv2D(32, (3,3), activation='relu', padding='same')(x2)\n",
    "    \n",
    "    encoded = MaxPooling2D((2,2), padding='same')(x3)\n",
    "    c1 = Flatten()(encoded)\n",
    "    c2 = Dense(128, activation='relu')(c1)\n",
    "    c3 = Dropout(0.2)(c2)\n",
    "    \n",
    "    ## this is the final output for classification\n",
    "    classifierOutput = Dense(10, activation='softmax')(c3)\n",
    "    \n",
    "    ## The following layers from y4 to decoded is for denoising\n",
    "    ## we'll cover this in the next meeting\n",
    "    y4 = Conv2D(32, (3,3), activation='relu', padding='same')(encoded)\n",
    "    y3 = UpSampling2D((2,2))(y4)\n",
    "    y2 = Conv2D(32, (3,3), activation='relu', padding='same')(y3)\n",
    "    y1 = UpSampling2D((2,2))(y2)\n",
    "    \n",
    "    decoded = Conv2D(1, (3,3), activation='sigmoid', padding='same')(y1)\n",
    "    \n",
    "    if choice == 1:\n",
    "        return Model(input_img, classifierOutput)\n",
    "    elif choice == 2: \n",
    "        ## This part is for the next meeting\n",
    "        return Model(input_img, decoded)    \n",
    "    else:\n",
    "        return Model(inputs=[input_img], outputs=[classifierOutput, decoded])\n",
    "    "
   ]
  },
  {
   "cell_type": "code",
   "execution_count": 23,
   "metadata": {},
   "outputs": [
    {
     "name": "stdout",
     "output_type": "stream",
     "text": [
      "Model: \"model_1\"\n",
      "__________________________________________________________________________________________________\n",
      "Layer (type)                    Output Shape         Param #     Connected to                     \n",
      "==================================================================================================\n",
      "input_2 (InputLayer)            [(None, 28, 28, 1)]  0                                            \n",
      "__________________________________________________________________________________________________\n",
      "conv2d_5 (Conv2D)               (None, 28, 28, 32)   320         input_2[0][0]                    \n",
      "__________________________________________________________________________________________________\n",
      "max_pooling2d_2 (MaxPooling2D)  (None, 14, 14, 32)   0           conv2d_5[0][0]                   \n",
      "__________________________________________________________________________________________________\n",
      "conv2d_6 (Conv2D)               (None, 14, 14, 32)   9248        max_pooling2d_2[0][0]            \n",
      "__________________________________________________________________________________________________\n",
      "max_pooling2d_3 (MaxPooling2D)  (None, 7, 7, 32)     0           conv2d_6[0][0]                   \n",
      "__________________________________________________________________________________________________\n",
      "conv2d_7 (Conv2D)               (None, 7, 7, 32)     9248        max_pooling2d_3[0][0]            \n",
      "__________________________________________________________________________________________________\n",
      "flatten_1 (Flatten)             (None, 1568)         0           max_pooling2d_3[0][0]            \n",
      "__________________________________________________________________________________________________\n",
      "up_sampling2d_2 (UpSampling2D)  (None, 14, 14, 32)   0           conv2d_7[0][0]                   \n",
      "__________________________________________________________________________________________________\n",
      "dense_2 (Dense)                 (None, 128)          200832      flatten_1[0][0]                  \n",
      "__________________________________________________________________________________________________\n",
      "conv2d_8 (Conv2D)               (None, 14, 14, 32)   9248        up_sampling2d_2[0][0]            \n",
      "__________________________________________________________________________________________________\n",
      "dropout_1 (Dropout)             (None, 128)          0           dense_2[0][0]                    \n",
      "__________________________________________________________________________________________________\n",
      "up_sampling2d_3 (UpSampling2D)  (None, 28, 28, 32)   0           conv2d_8[0][0]                   \n",
      "__________________________________________________________________________________________________\n",
      "dense_3 (Dense)                 (None, 10)           1290        dropout_1[0][0]                  \n",
      "__________________________________________________________________________________________________\n",
      "conv2d_9 (Conv2D)               (None, 28, 28, 1)    289         up_sampling2d_3[0][0]            \n",
      "==================================================================================================\n",
      "Total params: 230,475\n",
      "Trainable params: 230,475\n",
      "Non-trainable params: 0\n",
      "__________________________________________________________________________________________________\n"
     ]
    }
   ],
   "source": [
    "## Here we call a function and get our model defintion.\n",
    "mydenoiser = model(0)\n",
    "mydenoiser.summary()"
   ]
  },
  {
   "cell_type": "code",
   "execution_count": 24,
   "metadata": {},
   "outputs": [],
   "source": [
    "## Once a model is defined, we need to configure the model for trainging \n",
    "## by selecting optimizer and loss function\n",
    "\n",
    "mydenoiser.compile(optimizer='adam', loss=['sparse_categorical_crossentropy', 'binary_crossentropy'], loss_weights=[1., 1.], metrics=['accuracy'])"
   ]
  },
  {
   "cell_type": "code",
   "execution_count": 25,
   "metadata": {},
   "outputs": [
    {
     "name": "stdout",
     "output_type": "stream",
     "text": [
      "Train on 600 samples\n",
      "Epoch 1/40\n",
      "600/600 [==============================] - 6s 10ms/sample - loss: 2.9571 - dense_3_loss: 2.3139 - conv2d_9_loss: 0.6370 - dense_3_accuracy: 0.0967 - conv2d_9_accuracy: 0.7076\n",
      "Epoch 2/40\n",
      "600/600 [==============================] - 2s 4ms/sample - loss: 2.7622 - dense_3_loss: 2.2536 - conv2d_9_loss: 0.5102 - dense_3_accuracy: 0.1667 - conv2d_9_accuracy: 0.8194\n",
      "Epoch 3/40\n",
      "600/600 [==============================] - 2s 4ms/sample - loss: 2.6972 - dense_3_loss: 2.2039 - conv2d_9_loss: 0.4927 - dense_3_accuracy: 0.2400 - conv2d_9_accuracy: 0.8194\n",
      "Epoch 4/40\n",
      "600/600 [==============================] - 2s 4ms/sample - loss: 2.6208 - dense_3_loss: 2.1500 - conv2d_9_loss: 0.4689 - dense_3_accuracy: 0.2933 - conv2d_9_accuracy: 0.8194\n",
      "Epoch 5/40\n",
      "600/600 [==============================] - 2s 4ms/sample - loss: 2.5010 - dense_3_loss: 2.0470 - conv2d_9_loss: 0.4492 - dense_3_accuracy: 0.4150 - conv2d_9_accuracy: 0.8194\n",
      "Epoch 6/40\n",
      "600/600 [==============================] - 2s 4ms/sample - loss: 2.3146 - dense_3_loss: 1.8875 - conv2d_9_loss: 0.4192 - dense_3_accuracy: 0.5050 - conv2d_9_accuracy: 0.8194\n",
      "Epoch 7/40\n",
      "600/600 [==============================] - 2s 4ms/sample - loss: 2.0544 - dense_3_loss: 1.6746 - conv2d_9_loss: 0.3716 - dense_3_accuracy: 0.5567 - conv2d_9_accuracy: 0.8194\n",
      "Epoch 8/40\n",
      "600/600 [==============================] - 2s 4ms/sample - loss: 1.7753 - dense_3_loss: 1.4567 - conv2d_9_loss: 0.3066 - dense_3_accuracy: 0.6017 - conv2d_9_accuracy: 0.8194\n",
      "Epoch 9/40\n",
      "600/600 [==============================] - 2s 4ms/sample - loss: 1.5184 - dense_3_loss: 1.2546 - conv2d_9_loss: 0.2535 - dense_3_accuracy: 0.6183 - conv2d_9_accuracy: 0.8194\n",
      "Epoch 10/40\n",
      "600/600 [==============================] - 2s 4ms/sample - loss: 1.2786 - dense_3_loss: 1.0545 - conv2d_9_loss: 0.2177 - dense_3_accuracy: 0.7050 - conv2d_9_accuracy: 0.8194\n",
      "Epoch 11/40\n",
      "600/600 [==============================] - 2s 4ms/sample - loss: 1.1014 - dense_3_loss: 0.9046 - conv2d_9_loss: 0.1958 - dense_3_accuracy: 0.7033 - conv2d_9_accuracy: 0.8124\n",
      "Epoch 12/40\n",
      "600/600 [==============================] - 2s 4ms/sample - loss: 0.9652 - dense_3_loss: 0.7954 - conv2d_9_loss: 0.1785 - dense_3_accuracy: 0.7633 - conv2d_9_accuracy: 0.8109\n",
      "Epoch 13/40\n",
      "600/600 [==============================] - 2s 4ms/sample - loss: 0.9003 - dense_3_loss: 0.7137 - conv2d_9_loss: 0.1709 - dense_3_accuracy: 0.7450 - conv2d_9_accuracy: 0.8074\n",
      "Epoch 14/40\n",
      "600/600 [==============================] - 2s 4ms/sample - loss: 0.8521 - dense_3_loss: 0.6818 - conv2d_9_loss: 0.1655 - dense_3_accuracy: 0.7817 - conv2d_9_accuracy: 0.8103\n",
      "Epoch 15/40\n",
      "600/600 [==============================] - 2s 4ms/sample - loss: 0.7461 - dense_3_loss: 0.5834 - conv2d_9_loss: 0.1625 - dense_3_accuracy: 0.8267 - conv2d_9_accuracy: 0.8121\n",
      "Epoch 16/40\n",
      "600/600 [==============================] - 2s 4ms/sample - loss: 0.7095 - dense_3_loss: 0.5512 - conv2d_9_loss: 0.1587 - dense_3_accuracy: 0.8167 - conv2d_9_accuracy: 0.8118\n",
      "Epoch 17/40\n",
      "600/600 [==============================] - 2s 4ms/sample - loss: 0.6641 - dense_3_loss: 0.5092 - conv2d_9_loss: 0.1552 - dense_3_accuracy: 0.8433 - conv2d_9_accuracy: 0.8122\n",
      "Epoch 18/40\n",
      "600/600 [==============================] - 2s 4ms/sample - loss: 0.6420 - dense_3_loss: 0.4872 - conv2d_9_loss: 0.1517 - dense_3_accuracy: 0.8400 - conv2d_9_accuracy: 0.8144\n",
      "Epoch 19/40\n",
      "600/600 [==============================] - 2s 4ms/sample - loss: 0.5738 - dense_3_loss: 0.4255 - conv2d_9_loss: 0.1486 - dense_3_accuracy: 0.8783 - conv2d_9_accuracy: 0.8159\n",
      "Epoch 20/40\n",
      "600/600 [==============================] - 2s 4ms/sample - loss: 0.5593 - dense_3_loss: 0.4196 - conv2d_9_loss: 0.1450 - dense_3_accuracy: 0.8667 - conv2d_9_accuracy: 0.8157\n",
      "Epoch 21/40\n",
      "600/600 [==============================] - 2s 4ms/sample - loss: 0.5120 - dense_3_loss: 0.3702 - conv2d_9_loss: 0.1424 - dense_3_accuracy: 0.8883 - conv2d_9_accuracy: 0.8169\n",
      "Epoch 22/40\n",
      "600/600 [==============================] - 2s 4ms/sample - loss: 0.4883 - dense_3_loss: 0.3523 - conv2d_9_loss: 0.1403 - dense_3_accuracy: 0.8917 - conv2d_9_accuracy: 0.8172\n",
      "Epoch 23/40\n",
      "600/600 [==============================] - 2s 4ms/sample - loss: 0.4585 - dense_3_loss: 0.3224 - conv2d_9_loss: 0.1378 - dense_3_accuracy: 0.8967 - conv2d_9_accuracy: 0.8177\n",
      "Epoch 24/40\n",
      "600/600 [==============================] - 2s 4ms/sample - loss: 0.4160 - dense_3_loss: 0.2749 - conv2d_9_loss: 0.1357 - dense_3_accuracy: 0.9183 - conv2d_9_accuracy: 0.8181\n",
      "Epoch 25/40\n",
      "600/600 [==============================] - 2s 4ms/sample - loss: 0.4125 - dense_3_loss: 0.2772 - conv2d_9_loss: 0.1334 - dense_3_accuracy: 0.9100 - conv2d_9_accuracy: 0.8184\n",
      "Epoch 26/40\n",
      "600/600 [==============================] - 2s 4ms/sample - loss: 0.3822 - dense_3_loss: 0.2531 - conv2d_9_loss: 0.1326 - dense_3_accuracy: 0.9233 - conv2d_9_accuracy: 0.8185\n",
      "Epoch 27/40\n",
      "600/600 [==============================] - 2s 4ms/sample - loss: 0.3784 - dense_3_loss: 0.2484 - conv2d_9_loss: 0.1311 - dense_3_accuracy: 0.9133 - conv2d_9_accuracy: 0.8191\n",
      "Epoch 28/40\n",
      "600/600 [==============================] - 2s 4ms/sample - loss: 0.3903 - dense_3_loss: 0.2621 - conv2d_9_loss: 0.1302 - dense_3_accuracy: 0.9133 - conv2d_9_accuracy: 0.8194\n",
      "Epoch 29/40\n",
      "600/600 [==============================] - 2s 4ms/sample - loss: 0.3572 - dense_3_loss: 0.2293 - conv2d_9_loss: 0.1294 - dense_3_accuracy: 0.9350 - conv2d_9_accuracy: 0.8191\n",
      "Epoch 30/40\n",
      "600/600 [==============================] - 2s 4ms/sample - loss: 0.3366 - dense_3_loss: 0.2111 - conv2d_9_loss: 0.1281 - dense_3_accuracy: 0.9350 - conv2d_9_accuracy: 0.8196\n",
      "Epoch 31/40\n",
      "600/600 [==============================] - 2s 4ms/sample - loss: 0.3340 - dense_3_loss: 0.2058 - conv2d_9_loss: 0.1270 - dense_3_accuracy: 0.9317 - conv2d_9_accuracy: 0.8199\n",
      "Epoch 32/40\n",
      "600/600 [==============================] - 2s 4ms/sample - loss: 0.3059 - dense_3_loss: 0.1768 - conv2d_9_loss: 0.1258 - dense_3_accuracy: 0.9517 - conv2d_9_accuracy: 0.8202\n",
      "Epoch 33/40\n",
      "600/600 [==============================] - 2s 4ms/sample - loss: 0.2795 - dense_3_loss: 0.1507 - conv2d_9_loss: 0.1247 - dense_3_accuracy: 0.9600 - conv2d_9_accuracy: 0.8201\n",
      "Epoch 34/40\n",
      "600/600 [==============================] - 2s 4ms/sample - loss: 0.2688 - dense_3_loss: 0.1425 - conv2d_9_loss: 0.1239 - dense_3_accuracy: 0.9650 - conv2d_9_accuracy: 0.8203\n",
      "Epoch 35/40\n",
      "600/600 [==============================] - 2s 4ms/sample - loss: 0.2574 - dense_3_loss: 0.1339 - conv2d_9_loss: 0.1235 - dense_3_accuracy: 0.9600 - conv2d_9_accuracy: 0.8205\n",
      "Epoch 36/40\n",
      "600/600 [==============================] - 2s 4ms/sample - loss: 0.2374 - dense_3_loss: 0.1139 - conv2d_9_loss: 0.1227 - dense_3_accuracy: 0.9750 - conv2d_9_accuracy: 0.8205\n",
      "Epoch 37/40\n",
      "600/600 [==============================] - 2s 4ms/sample - loss: 0.2298 - dense_3_loss: 0.1074 - conv2d_9_loss: 0.1222 - dense_3_accuracy: 0.9700 - conv2d_9_accuracy: 0.8209\n",
      "Epoch 38/40\n",
      "600/600 [==============================] - 2s 4ms/sample - loss: 0.2226 - dense_3_loss: 0.1011 - conv2d_9_loss: 0.1214 - dense_3_accuracy: 0.9800 - conv2d_9_accuracy: 0.8207\n",
      "Epoch 39/40\n",
      "600/600 [==============================] - 2s 4ms/sample - loss: 0.2222 - dense_3_loss: 0.0982 - conv2d_9_loss: 0.1203 - dense_3_accuracy: 0.9783 - conv2d_9_accuracy: 0.8209\n",
      "Epoch 40/40\n",
      "600/600 [==============================] - 2s 4ms/sample - loss: 0.2144 - dense_3_loss: 0.0931 - conv2d_9_loss: 0.1196 - dense_3_accuracy: 0.9800 - conv2d_9_accuracy: 0.8212\n"
     ]
    },
    {
     "data": {
      "text/plain": [
       "<tensorflow.python.keras.callbacks.History at 0x247cf412940>"
      ]
     },
     "execution_count": 25,
     "metadata": {},
     "output_type": "execute_result"
    }
   ],
   "source": [
    "## This is the traing stage that is compute intensive and may require high performance computers\n",
    "## or GPU machines if the size of the training dataset is huge\n",
    "## \n",
    "## In the begining of notebook, we decimated the size of the training dataset to finish our meeting on time\n",
    "## If you increase the epochs, the number of data repetition,\n",
    "## the running time will increase linearly proportional to the epochs.\n",
    "mydenoiser.fit(XtrainNoisy, [Ytrain, Xtrain], epochs=40, batch_size=128)"
   ]
  },
  {
   "cell_type": "code",
   "execution_count": 26,
   "metadata": {},
   "outputs": [],
   "source": [
    "Xpred = mydenoiser.predict(XtestNoisy)"
   ]
  },
  {
   "cell_type": "code",
   "execution_count": 27,
   "metadata": {},
   "outputs": [
    {
     "name": "stdout",
     "output_type": "stream",
     "text": [
      "\r",
      "100/1 [========================================================================================================================================================================================================================================================================================================================================================================================================================================================================================================================================================================================================================================================================================================================================================================================================================================================================================================================================================================================================================================================================================================================================================================================================================================================================================================================================================================================================================================================================================================================================================================================================================================================================================================================================================================================================================================================================================================================================================================================================================================================================================================================================================================================================================================================================================================================================================================================================================================================================================================================================================================================================================================================================================================================================================================================================================================================================================================================================================================================================================================================================================================================] - 1s 9ms/sample - loss: 1.2829 - dense_3_loss: 0.8466 - conv2d_9_loss: 0.1170 - dense_3_accuracy: 0.8400 - conv2d_9_accuracy: 0.8259\n"
     ]
    },
    {
     "data": {
      "text/plain": [
       "[0.7152435970306397, 0.84657216, 0.11703153, 0.84, 0.8259184]"
      ]
     },
     "execution_count": 27,
     "metadata": {},
     "output_type": "execute_result"
    }
   ],
   "source": [
    "mydenoiser.evaluate(XtestNoisy, [Ytest, Xtest])"
   ]
  },
  {
   "cell_type": "code",
   "execution_count": 28,
   "metadata": {},
   "outputs": [
    {
     "data": {
      "text/plain": [
       "(100, 28, 28, 1)"
      ]
     },
     "execution_count": 28,
     "metadata": {},
     "output_type": "execute_result"
    }
   ],
   "source": [
    "Xtest.shape"
   ]
  },
  {
   "cell_type": "code",
   "execution_count": 29,
   "metadata": {},
   "outputs": [
    {
     "data": {
      "text/plain": [
       "(100, 28, 28, 1)"
      ]
     },
     "execution_count": 29,
     "metadata": {},
     "output_type": "execute_result"
    }
   ],
   "source": [
    "XtestNoisy.shape"
   ]
  },
  {
   "cell_type": "code",
   "execution_count": 30,
   "metadata": {},
   "outputs": [],
   "source": [
    "def showNumbers(Xdata):\n",
    "    numpic = 10\n",
    "    plt.figure(figsize=(12,4))\n",
    "    for i in range(numpic):\n",
    "        ax = plt.subplot(2, 5, i+1)\n",
    "        plt.imshow(Xdata[i, :, :, 0])\n",
    "        plt.gray()\n",
    "        ax.get_xaxis().set_visible(False)\n",
    "        ax.get_yaxis().set_visible(False)\n"
   ]
  },
  {
   "cell_type": "code",
   "execution_count": 31,
   "metadata": {},
   "outputs": [
    {
     "data": {
      "image/png": "[encoded data removed]",
      "text/plain": [
       "<Figure size 864x288 with 10 Axes>"
      ]
     },
     "metadata": {
      "needs_background": "light"
     },
     "output_type": "display_data"
    }
   ],
   "source": [
    "showNumbers(Xtest)"
   ]
  },
  {
   "cell_type": "code",
   "execution_count": 32,
   "metadata": {},
   "outputs": [
    {
     "data": {
      "image/png": "[encoded data removed]",
      "text/plain": [
       "<Figure size 864x288 with 10 Axes>"
      ]
     },
     "metadata": {
      "needs_background": "light"
     },
     "output_type": "display_data"
    }
   ],
   "source": [
    "showNumbers(XtestNoisy)"
   ]
  },
  {
   "cell_type": "code",
   "execution_count": 33,
   "metadata": {},
   "outputs": [],
   "source": [
    "Xpredlabel, XpredImag = Xpred"
   ]
  },
  {
   "cell_type": "code",
   "execution_count": 34,
   "metadata": {},
   "outputs": [],
   "source": [
    "XpredFinal = [np.argmax(x) for x in Xpredlabel]"
   ]
  },
  {
   "cell_type": "code",
   "execution_count": 35,
   "metadata": {},
   "outputs": [
    {
     "data": {
      "text/plain": [
       "[9, 0, 2, 5, 1, 9, 7, 8, 1, 0]"
      ]
     },
     "execution_count": 35,
     "metadata": {},
     "output_type": "execute_result"
    }
   ],
   "source": [
    "XpredFinal[0:10]"
   ]
  },
  {
   "cell_type": "code",
   "execution_count": 36,
   "metadata": {},
   "outputs": [
    {
     "data": {
      "text/plain": [
       "array([9, 0, 2, 5, 1, 9, 7, 8, 1, 0], dtype=uint8)"
      ]
     },
     "execution_count": 36,
     "metadata": {},
     "output_type": "execute_result"
    }
   ],
   "source": [
    "Ytest[0:10]"
   ]
  },
  {
   "cell_type": "code",
   "execution_count": 37,
   "metadata": {},
   "outputs": [
    {
     "data": {
      "image/png": "[encoded data removed]",
      "text/plain": [
       "<Figure size 864x288 with 10 Axes>"
      ]
     },
     "metadata": {
      "needs_background": "light"
     },
     "output_type": "display_data"
    }
   ],
   "source": [
    "showNumbers(XpredImag)"
   ]
  },
  {
   "cell_type": "code",
   "execution_count": null,
   "metadata": {},
   "outputs": [],
   "source": []
  },
  {
   "cell_type": "code",
   "execution_count": null,
   "metadata": {},
   "outputs": [],
   "source": []
  }
 ],
 "metadata": {
  "kernelspec": {
   "display_name": "Python 3",
   "language": "python",
   "name": "python3"
  },
  "language_info": {
   "codemirror_mode": {
    "name": "ipython",
    "version": 3
   },
   "file_extension": ".py",
   "mimetype": "text/x-python",
   "name": "python",
   "nbconvert_exporter": "python",
   "pygments_lexer": "ipython3",
   "version": "3.5.5"
  }
 },
 "nbformat": 4,
 "nbformat_minor": 2
}
