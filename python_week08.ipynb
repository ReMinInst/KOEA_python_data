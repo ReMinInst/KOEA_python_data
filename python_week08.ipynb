{
 "cells": [
  {
   "cell_type": "markdown",
   "metadata": {},
   "source": [
    "## Python Week 8"
   ]
  },
  {
   "cell_type": "markdown",
   "metadata": {},
   "source": [
    "November 23, 2019\n",
    "\n",
    "If the installation was done properly on October 26, we are ready to start machine learning projects.\n",
    "In the following weeks, we'll make a team and pick a project that you are interested in. In order to give you better ideas and understand what AI can do, we'll go over a few examples drawn from engineering and science. \n",
    "\n",
    "Today, let's continue our Keras programming with image denoising using autoencoder.\n",
    "We'll use the dataset that we previously played with for our number recognition and plotting. So the data should be in your cloned repository.\n"
   ]
  },
  {
   "cell_type": "code",
   "execution_count": 2,
   "metadata": {},
   "outputs": [
    {
     "name": "stderr",
     "output_type": "stream",
     "text": [
      "/home/jindogae/anaconda3/lib/python3.5/site-packages/h5py/__init__.py:36: FutureWarning: Conversion of the second argument of issubdtype from `float` to `np.floating` is deprecated. In future, it will be treated as `np.float64 == np.dtype(float).type`.\n",
      "  from ._conv import register_converters as _register_converters\n"
     ]
    },
    {
     "name": "stdout",
     "output_type": "stream",
     "text": [
      "using tensorflow  1.9.0\n"
     ]
    },
    {
     "name": "stderr",
     "output_type": "stream",
     "text": [
      "Using TensorFlow backend.\n"
     ]
    }
   ],
   "source": [
    "import numpy as np\n",
    "\n",
    "import tensorflow\n",
    "import matplotlib.pyplot as plt\n",
    "\n",
    "if tensorflow.__version__ < '2.0.0':\n",
    "    import keras \n",
    "    from keras.models import Model\n",
    "    from keras.layers import Input, Conv2D, MaxPooling2D, UpSampling2D, Flatten, Dense, Dropout\n",
    "    \n",
    "elif tensorflow.__version__ >= '2.0.0':\n",
    "    from tensorflow import keras\n",
    "    from tensorflow.keras.models import Model\n",
    "    from tensorflow.keras.layers import Input, Conv2D, MaxPooling2D, UpSampling2D, Flatten, Dense, Dropout\n",
    "    \n",
    "print(\"using tensorflow \", tensorflow.__version__)\n",
    "## keras functions are well documented in the Keras Documentaion \n",
    "## https://keras.io"
   ]
  },
  {
   "cell_type": "code",
   "execution_count": 3,
   "metadata": {},
   "outputs": [],
   "source": [
    "Xtest3D = np.load('xtest.pickle', allow_pickle=True)\n",
    "YtestAll = np.load('ytest.pickle', allow_pickle=True)"
   ]
  },
  {
   "cell_type": "code",
   "execution_count": 4,
   "metadata": {},
   "outputs": [],
   "source": [
    "#Xtrain3D = np.load('xtrain.pickle', allow_pickle=True)\n",
    "#Ytrain = np.load('ytrain.pickle', allow_pickle=True)"
   ]
  },
  {
   "cell_type": "code",
   "execution_count": 5,
   "metadata": {},
   "outputs": [],
   "source": [
    "## original images have unsigned integer from 0 to 255 (8bit representation of gray scale color) \n",
    "## Since the convolutions are numerical computation, we change the data type to float32 and then \n",
    "## perform normalizations to [0,1] range\n",
    "\n",
    "Xtest3D = Xtest3D.astype('float32')/255.\n",
    "#Xtrain3D = Xtrain3D.astype('float32')/255."
   ]
  },
  {
   "cell_type": "code",
   "execution_count": 6,
   "metadata": {},
   "outputs": [],
   "source": [
    "## in order to conform to the shape of inputs to Conv2D\n",
    "## Conv2D expects 4D array\n",
    "## 1st index - sample index\n",
    "## 2nd index - image x\n",
    "## 3rd index - image y\n",
    "## 4th index - channel (Ex. RGB values in color images)\n",
    "\n",
    "Xtest4D = Xtest3D.reshape((*Xtest3D.shape, 1))\n",
    "#Xtrain = Xtrain3D.reshape((*Xtrain3D.shape, 1))"
   ]
  },
  {
   "cell_type": "code",
   "execution_count": 7,
   "metadata": {},
   "outputs": [],
   "source": [
    "## Since the computing power and time is limitted, let's reduce the size of training and test datasets \n",
    "\n",
    "Xtrain = Xtest4D[0:600,:]\n",
    "Xtest = Xtest4D[1000:1100,:]\n",
    "\n",
    "Ytrain = YtestAll[0:600]\n",
    "Ytest  = YtestAll[1000:1100]\n",
    "\n",
    "## Let's create noisy input data\n",
    "\n",
    "XtrainNoisy = Xtrain + 0.5*np.random.randn(*Xtrain.shape)\n",
    "XtestNoisy = Xtest + 0.5*np.random.randn(*Xtest.shape)\n",
    "\n",
    "XtrainNoisy = np.clip(XtrainNoisy, 0., 1.)\n",
    "XtestNoisy = np.clip(XtestNoisy, 0., 1.)\n",
    "\n"
   ]
  },
  {
   "cell_type": "code",
   "execution_count": 8,
   "metadata": {},
   "outputs": [
    {
     "data": {
      "text/plain": [
       "(100,)"
      ]
     },
     "execution_count": 8,
     "metadata": {},
     "output_type": "execute_result"
    }
   ],
   "source": [
    "Ytrain.shape\n",
    "Ytest.shape"
   ]
  },
  {
   "cell_type": "code",
   "execution_count": 29,
   "metadata": {},
   "outputs": [
    {
     "data": {
      "text/plain": [
       "Text(0.5,1,'Noisy')"
      ]
     },
     "execution_count": 29,
     "metadata": {},
     "output_type": "execute_result"
    },
    {
     "data": {
      "image/png": "[encoded data removed]",
      "text/plain": [
       "<Figure size 432x216 with 2 Axes>"
      ]
     },
     "metadata": {},
     "output_type": "display_data"
    }
   ],
   "source": [
    "## Let's plot one of handwriting image and its noisy version\n",
    "\n",
    "fig, ax = plt.subplots(1,2, figsize=(6,3))\n",
    "\n",
    "fig.suptitle('MNIST figure %d'%(Ytrain[5]), fontsize=18)\n",
    "fig.subplots_adjust(hspace=0.5, wspace=0.5)\n",
    "ax[0].imshow(Xtrain[5,:,:,0], cmap='gray')\n",
    "ax[0].set_title('Original')\n",
    "\n",
    "ax[1].imshow(XtrainNoisy[5,:,:,0], cmap='gray')\n",
    "ax[1].set_title('Noisy')\n"
   ]
  },
  {
   "cell_type": "code",
   "execution_count": 10,
   "metadata": {},
   "outputs": [
    {
     "name": "stdout",
     "output_type": "stream",
     "text": [
      "(100, 28, 28, 1)\n",
      "float32\n"
     ]
    }
   ],
   "source": [
    "## Let's check the shape and type of the our test dataset\n",
    "\n",
    "print(Xtest.shape)\n",
    "print(Xtest.dtype)\n"
   ]
  },
  {
   "cell_type": "code",
   "execution_count": 11,
   "metadata": {},
   "outputs": [
    {
     "name": "stdout",
     "output_type": "stream",
     "text": [
      "(600, 28, 28, 1)\n",
      "float32\n"
     ]
    }
   ],
   "source": [
    "print(Xtrain.shape)\n",
    "print(Xtrain.dtype)"
   ]
  },
  {
   "cell_type": "code",
   "execution_count": 12,
   "metadata": {},
   "outputs": [],
   "source": [
    "## Let's define our neural network model that consists of Convolutional, Flattening, MaxPooling and UpSampling layers\n",
    "## We can go deep into each layers and optimization if necessary and if our members are interested.\n",
    "\n",
    "def model(choice = 2):\n",
    "    '''\n",
    "    input parameters\n",
    "      choice - 1, classification of mnist handwriting images\n",
    "               2, encoding and decoding for denoising\n",
    "               \n",
    "    output\n",
    "      keras model defining the network from an input to the final output\n",
    "    '''\n",
    "    \n",
    "    \n",
    "    input_img = Input(shape=(28, 28, 1))\n",
    "    x1 = Conv2D(32, (3,3), activation='relu', padding='same')(input_img)\n",
    "    x2 = MaxPooling2D((2,2), padding='same')(x1)\n",
    "    x3 = Conv2D(32, (3,3), activation='relu', padding='same')(x2)\n",
    "    \n",
    "    encoded = MaxPooling2D((2,2), padding='same')(x3)\n",
    "    c1 = Flatten()(encoded)\n",
    "    c2 = Dense(128, activation='relu')(c1)\n",
    "    c3 = Dropout(0.2)(c2)\n",
    "    \n",
    "    ## this is the final output for classification\n",
    "    classifierOutput = Dense(10, activation='softmax')(c3)\n",
    "    \n",
    "    ## The following layers from y4 to decoded is for denoising\n",
    "    ## we'll cover this in the next meeting\n",
    "    y4 = Conv2D(32, (3,3), activation='relu', padding='same')(encoded)\n",
    "    y3 = UpSampling2D((2,2))(y4)\n",
    "    y2 = Conv2D(32, (3,3), activation='relu', padding='same')(y3)\n",
    "    y1 = UpSampling2D((2,2))(y2)\n",
    "    \n",
    "    decoded = Conv2D(1, (3,3), activation='sigmoid', padding='same')(y1)\n",
    "    \n",
    "    if choice == 1:\n",
    "        return Model(input_img, classifierOutput)\n",
    "    elif choice == 2: \n",
    "        ## This part is for the next meeting\n",
    "        return Model(input_img, decoded)    \n",
    "    else:\n",
    "        return Model(inputs=[input_img], outputs=[classifierOutput, decoded])\n",
    "    "
   ]
  },
  {
   "cell_type": "code",
   "execution_count": 13,
   "metadata": {},
   "outputs": [
    {
     "name": "stdout",
     "output_type": "stream",
     "text": [
      "__________________________________________________________________________________________________\n",
      "Layer (type)                    Output Shape         Param #     Connected to                     \n",
      "==================================================================================================\n",
      "input_1 (InputLayer)            (None, 28, 28, 1)    0                                            \n",
      "__________________________________________________________________________________________________\n",
      "conv2d_1 (Conv2D)               (None, 28, 28, 32)   320         input_1[0][0]                    \n",
      "__________________________________________________________________________________________________\n",
      "max_pooling2d_1 (MaxPooling2D)  (None, 14, 14, 32)   0           conv2d_1[0][0]                   \n",
      "__________________________________________________________________________________________________\n",
      "conv2d_2 (Conv2D)               (None, 14, 14, 32)   9248        max_pooling2d_1[0][0]            \n",
      "__________________________________________________________________________________________________\n",
      "max_pooling2d_2 (MaxPooling2D)  (None, 7, 7, 32)     0           conv2d_2[0][0]                   \n",
      "__________________________________________________________________________________________________\n",
      "conv2d_3 (Conv2D)               (None, 7, 7, 32)     9248        max_pooling2d_2[0][0]            \n",
      "__________________________________________________________________________________________________\n",
      "flatten_1 (Flatten)             (None, 1568)         0           max_pooling2d_2[0][0]            \n",
      "__________________________________________________________________________________________________\n",
      "up_sampling2d_1 (UpSampling2D)  (None, 14, 14, 32)   0           conv2d_3[0][0]                   \n",
      "__________________________________________________________________________________________________\n",
      "dense_1 (Dense)                 (None, 128)          200832      flatten_1[0][0]                  \n",
      "__________________________________________________________________________________________________\n",
      "conv2d_4 (Conv2D)               (None, 14, 14, 32)   9248        up_sampling2d_1[0][0]            \n",
      "__________________________________________________________________________________________________\n",
      "dropout_1 (Dropout)             (None, 128)          0           dense_1[0][0]                    \n",
      "__________________________________________________________________________________________________\n",
      "up_sampling2d_2 (UpSampling2D)  (None, 28, 28, 32)   0           conv2d_4[0][0]                   \n",
      "__________________________________________________________________________________________________\n",
      "dense_2 (Dense)                 (None, 10)           1290        dropout_1[0][0]                  \n",
      "__________________________________________________________________________________________________\n",
      "conv2d_5 (Conv2D)               (None, 28, 28, 1)    289         up_sampling2d_2[0][0]            \n",
      "==================================================================================================\n",
      "Total params: 230,475\n",
      "Trainable params: 230,475\n",
      "Non-trainable params: 0\n",
      "__________________________________________________________________________________________________\n"
     ]
    }
   ],
   "source": [
    "## Here we call a function and get our model defintion.\n",
    "mydenoiser = model(0)\n",
    "mydenoiser.summary()"
   ]
  },
  {
   "cell_type": "code",
   "execution_count": 33,
   "metadata": {},
   "outputs": [],
   "source": [
    "## Once a model is defined, we need to configure the model for trainging \n",
    "## by selecting optimizer and loss function\n",
    "\n",
    "mydenoiser.compile(optimizer='adam', loss=['sparse_categorical_crossentropy', 'binary_crossentropy'], loss_weights=[1., 1.], metrics=['accuracy'])"
   ]
  },
  {
   "cell_type": "code",
   "execution_count": 31,
   "metadata": {},
   "outputs": [
    {
     "name": "stdout",
     "output_type": "stream",
     "text": [
      "Epoch 1/40\n",
      "600/600 [==============================] - 2s 3ms/step - loss: 0.2035 - dense_2_loss: 0.0728 - conv2d_5_loss: 0.1308 - dense_2_acc: 0.9717 - conv2d_5_acc: 0.8181\n",
      "Epoch 2/40\n",
      "600/600 [==============================] - 1s 1ms/step - loss: 0.1879 - dense_2_loss: 0.0705 - conv2d_5_loss: 0.1173 - dense_2_acc: 0.9783 - conv2d_5_acc: 0.8221\n",
      "Epoch 3/40\n",
      "600/600 [==============================] - 1s 1ms/step - loss: 0.1721 - dense_2_loss: 0.0565 - conv2d_5_loss: 0.1156 - dense_2_acc: 0.9883 - conv2d_5_acc: 0.8215\n",
      "Epoch 4/40\n",
      "600/600 [==============================] - 1s 1ms/step - loss: 0.1625 - dense_2_loss: 0.0469 - conv2d_5_loss: 0.1156 - dense_2_acc: 0.9917 - conv2d_5_acc: 0.8208\n",
      "Epoch 5/40\n",
      "600/600 [==============================] - 1s 1ms/step - loss: 0.1507 - dense_2_loss: 0.0359 - conv2d_5_loss: 0.1148 - dense_2_acc: 0.9950 - conv2d_5_acc: 0.8219\n",
      "Epoch 6/40\n",
      "600/600 [==============================] - 1s 1ms/step - loss: 0.1418 - dense_2_loss: 0.0276 - conv2d_5_loss: 0.1142 - dense_2_acc: 0.9933 - conv2d_5_acc: 0.8215\n",
      "Epoch 7/40\n",
      "600/600 [==============================] - 1s 1ms/step - loss: 0.1296 - dense_2_loss: 0.0160 - conv2d_5_loss: 0.1136 - dense_2_acc: 1.0000 - conv2d_5_acc: 0.8214\n",
      "Epoch 8/40\n",
      "600/600 [==============================] - 1s 1ms/step - loss: 0.1289 - dense_2_loss: 0.0156 - conv2d_5_loss: 0.1133 - dense_2_acc: 0.9983 - conv2d_5_acc: 0.8218\n",
      "Epoch 9/40\n",
      "600/600 [==============================] - 1s 1ms/step - loss: 0.1250 - dense_2_loss: 0.0121 - conv2d_5_loss: 0.1129 - dense_2_acc: 1.0000 - conv2d_5_acc: 0.8216\n",
      "Epoch 10/40\n",
      "600/600 [==============================] - 1s 1ms/step - loss: 0.1287 - dense_2_loss: 0.0161 - conv2d_5_loss: 0.1126 - dense_2_acc: 0.9983 - conv2d_5_acc: 0.8218\n",
      "Epoch 11/40\n",
      "600/600 [==============================] - 1s 1ms/step - loss: 0.1272 - dense_2_loss: 0.0151 - conv2d_5_loss: 0.1121 - dense_2_acc: 0.9983 - conv2d_5_acc: 0.8216\n",
      "Epoch 12/40\n",
      "600/600 [==============================] - 1s 1ms/step - loss: 0.1235 - dense_2_loss: 0.0116 - conv2d_5_loss: 0.1119 - dense_2_acc: 1.0000 - conv2d_5_acc: 0.8219\n",
      "Epoch 13/40\n",
      "600/600 [==============================] - 1s 1ms/step - loss: 0.1240 - dense_2_loss: 0.0124 - conv2d_5_loss: 0.1116 - dense_2_acc: 1.0000 - conv2d_5_acc: 0.8218\n",
      "Epoch 14/40\n",
      "600/600 [==============================] - 1s 1ms/step - loss: 0.1220 - dense_2_loss: 0.0106 - conv2d_5_loss: 0.1114 - dense_2_acc: 0.9967 - conv2d_5_acc: 0.8220\n",
      "Epoch 15/40\n",
      "600/600 [==============================] - 1s 2ms/step - loss: 0.1227 - dense_2_loss: 0.0115 - conv2d_5_loss: 0.1112 - dense_2_acc: 1.0000 - conv2d_5_acc: 0.8218\n",
      "Epoch 16/40\n",
      "600/600 [==============================] - 1s 1ms/step - loss: 0.1225 - dense_2_loss: 0.0115 - conv2d_5_loss: 0.1111 - dense_2_acc: 0.9983 - conv2d_5_acc: 0.8220\n",
      "Epoch 17/40\n",
      "600/600 [==============================] - 1s 2ms/step - loss: 0.1232 - dense_2_loss: 0.0124 - conv2d_5_loss: 0.1108 - dense_2_acc: 0.9983 - conv2d_5_acc: 0.8220\n",
      "Epoch 18/40\n",
      "600/600 [==============================] - 1s 1ms/step - loss: 0.1220 - dense_2_loss: 0.0114 - conv2d_5_loss: 0.1107 - dense_2_acc: 1.0000 - conv2d_5_acc: 0.8221\n",
      "Epoch 19/40\n",
      "600/600 [==============================] - 1s 1ms/step - loss: 0.1205 - dense_2_loss: 0.0101 - conv2d_5_loss: 0.1104 - dense_2_acc: 0.9967 - conv2d_5_acc: 0.8221\n",
      "Epoch 20/40\n",
      "600/600 [==============================] - 1s 2ms/step - loss: 0.1212 - dense_2_loss: 0.0111 - conv2d_5_loss: 0.1101 - dense_2_acc: 0.9983 - conv2d_5_acc: 0.8221\n",
      "Epoch 21/40\n",
      "600/600 [==============================] - 1s 1ms/step - loss: 0.1219 - dense_2_loss: 0.0120 - conv2d_5_loss: 0.1099 - dense_2_acc: 0.9967 - conv2d_5_acc: 0.8222\n",
      "Epoch 22/40\n",
      "600/600 [==============================] - 1s 1ms/step - loss: 0.1177 - dense_2_loss: 0.0080 - conv2d_5_loss: 0.1098 - dense_2_acc: 1.0000 - conv2d_5_acc: 0.8223\n",
      "Epoch 23/40\n",
      "600/600 [==============================] - 1s 1ms/step - loss: 0.1157 - dense_2_loss: 0.0062 - conv2d_5_loss: 0.1095 - dense_2_acc: 1.0000 - conv2d_5_acc: 0.8223\n",
      "Epoch 24/40\n",
      "600/600 [==============================] - 1s 1ms/step - loss: 0.1168 - dense_2_loss: 0.0075 - conv2d_5_loss: 0.1093 - dense_2_acc: 1.0000 - conv2d_5_acc: 0.8224\n",
      "Epoch 25/40\n",
      "600/600 [==============================] - 1s 1ms/step - loss: 0.1132 - dense_2_loss: 0.0039 - conv2d_5_loss: 0.1093 - dense_2_acc: 1.0000 - conv2d_5_acc: 0.8223\n",
      "Epoch 26/40\n",
      "600/600 [==============================] - 1s 1ms/step - loss: 0.1168 - dense_2_loss: 0.0073 - conv2d_5_loss: 0.1095 - dense_2_acc: 0.9983 - conv2d_5_acc: 0.8223\n",
      "Epoch 27/40\n",
      "600/600 [==============================] - 1s 2ms/step - loss: 0.1192 - dense_2_loss: 0.0095 - conv2d_5_loss: 0.1097 - dense_2_acc: 0.9967 - conv2d_5_acc: 0.8222\n",
      "Epoch 28/40\n",
      "600/600 [==============================] - 1s 2ms/step - loss: 0.1170 - dense_2_loss: 0.0077 - conv2d_5_loss: 0.1094 - dense_2_acc: 1.0000 - conv2d_5_acc: 0.8222\n",
      "Epoch 29/40\n",
      "600/600 [==============================] - 1s 1ms/step - loss: 0.1155 - dense_2_loss: 0.0066 - conv2d_5_loss: 0.1088 - dense_2_acc: 1.0000 - conv2d_5_acc: 0.8222\n",
      "Epoch 30/40\n",
      "600/600 [==============================] - 1s 2ms/step - loss: 0.1192 - dense_2_loss: 0.0110 - conv2d_5_loss: 0.1082 - dense_2_acc: 0.9967 - conv2d_5_acc: 0.8224\n",
      "Epoch 31/40\n",
      "600/600 [==============================] - 1s 1ms/step - loss: 0.1169 - dense_2_loss: 0.0089 - conv2d_5_loss: 0.1080 - dense_2_acc: 0.9983 - conv2d_5_acc: 0.8224\n",
      "Epoch 32/40\n",
      "600/600 [==============================] - 1s 2ms/step - loss: 0.1218 - dense_2_loss: 0.0140 - conv2d_5_loss: 0.1078 - dense_2_acc: 0.9967 - conv2d_5_acc: 0.8223\n",
      "Epoch 33/40\n",
      "600/600 [==============================] - 1s 1ms/step - loss: 0.1248 - dense_2_loss: 0.0170 - conv2d_5_loss: 0.1078 - dense_2_acc: 0.9950 - conv2d_5_acc: 0.8226\n",
      "Epoch 34/40\n",
      "600/600 [==============================] - 1s 1ms/step - loss: 0.1180 - dense_2_loss: 0.0101 - conv2d_5_loss: 0.1078 - dense_2_acc: 0.9983 - conv2d_5_acc: 0.8225\n",
      "Epoch 35/40\n",
      "600/600 [==============================] - 1s 1ms/step - loss: 0.1214 - dense_2_loss: 0.0139 - conv2d_5_loss: 0.1075 - dense_2_acc: 0.9983 - conv2d_5_acc: 0.8226\n",
      "Epoch 36/40\n",
      "600/600 [==============================] - 1s 1ms/step - loss: 0.1186 - dense_2_loss: 0.0112 - conv2d_5_loss: 0.1074 - dense_2_acc: 0.9983 - conv2d_5_acc: 0.8227\n",
      "Epoch 37/40\n",
      "600/600 [==============================] - 1s 1ms/step - loss: 0.1139 - dense_2_loss: 0.0068 - conv2d_5_loss: 0.1071 - dense_2_acc: 1.0000 - conv2d_5_acc: 0.8225\n",
      "Epoch 38/40\n",
      "600/600 [==============================] - 1s 1ms/step - loss: 0.1143 - dense_2_loss: 0.0073 - conv2d_5_loss: 0.1071 - dense_2_acc: 1.0000 - conv2d_5_acc: 0.8228\n",
      "Epoch 39/40\n",
      "600/600 [==============================] - 1s 1ms/step - loss: 0.1155 - dense_2_loss: 0.0088 - conv2d_5_loss: 0.1067 - dense_2_acc: 0.9983 - conv2d_5_acc: 0.8226\n",
      "Epoch 40/40\n",
      "600/600 [==============================] - 1s 1ms/step - loss: 0.1187 - dense_2_loss: 0.0123 - conv2d_5_loss: 0.1065 - dense_2_acc: 0.9983 - conv2d_5_acc: 0.8228\n"
     ]
    },
    {
     "data": {
      "text/plain": [
       "<keras.callbacks.History at 0x7fc4703ca7b8>"
      ]
     },
     "execution_count": 31,
     "metadata": {},
     "output_type": "execute_result"
    }
   ],
   "source": [
    "## This is the traing stage that is compute intensive and may require high performance computers\n",
    "## or GPU machines if the size of the training dataset is huge\n",
    "## \n",
    "## In the begining of notebook, we decimated the size of the training dataset to finish our meeting on time\n",
    "## If you increase the epochs, the number of data repetition,\n",
    "## the running time will increase linearly proportional to the epochs.\n",
    "mydenoiser.fit(XtrainNoisy, [Ytrain, Xtrain], epochs=40, batch_size=128)"
   ]
  },
  {
   "cell_type": "code",
   "execution_count": 16,
   "metadata": {},
   "outputs": [],
   "source": [
    "Xpred = mydenoiser.predict(XtestNoisy)"
   ]
  },
  {
   "cell_type": "code",
   "execution_count": 17,
   "metadata": {},
   "outputs": [
    {
     "name": "stdout",
     "output_type": "stream",
     "text": [
      "100/100 [==============================] - 0s 3ms/step\n"
     ]
    },
    {
     "data": {
      "text/plain": [
       "[0.7312174129486084,\n",
       " 0.6168568563461304,\n",
       " 0.11436054795980453,\n",
       " 0.84,\n",
       " 0.8249489831924438]"
      ]
     },
     "execution_count": 17,
     "metadata": {},
     "output_type": "execute_result"
    }
   ],
   "source": [
    "mydenoiser.evaluate(XtestNoisy, [Ytest, Xtest])"
   ]
  },
  {
   "cell_type": "code",
   "execution_count": 18,
   "metadata": {},
   "outputs": [
    {
     "data": {
      "text/plain": [
       "(100, 28, 28, 1)"
      ]
     },
     "execution_count": 18,
     "metadata": {},
     "output_type": "execute_result"
    }
   ],
   "source": [
    "Xtest.shape"
   ]
  },
  {
   "cell_type": "code",
   "execution_count": 19,
   "metadata": {},
   "outputs": [
    {
     "data": {
      "text/plain": [
       "(100, 28, 28, 1)"
      ]
     },
     "execution_count": 19,
     "metadata": {},
     "output_type": "execute_result"
    }
   ],
   "source": [
    "XtestNoisy.shape"
   ]
  },
  {
   "cell_type": "code",
   "execution_count": 20,
   "metadata": {},
   "outputs": [],
   "source": [
    "def showNumbers(Xdata):\n",
    "    numpic = 10\n",
    "    plt.figure(figsize=(12,4))\n",
    "    for i in range(numpic):\n",
    "        ax = plt.subplot(2, 5, i+1)\n",
    "        plt.imshow(Xdata[i, :, :, 0])\n",
    "        plt.gray()\n",
    "        ax.get_xaxis().set_visible(False)\n",
    "        ax.get_yaxis().set_visible(False)\n"
   ]
  },
  {
   "cell_type": "code",
   "execution_count": 21,
   "metadata": {},
   "outputs": [
    {
     "data": {
      "image/png": "[encoded data removed]",
      "text/plain": [
       "<Figure size 864x288 with 10 Axes>"
      ]
     },
     "metadata": {},
     "output_type": "display_data"
    }
   ],
   "source": [
    "showNumbers(Xtest)"
   ]
  },
  {
   "cell_type": "code",
   "execution_count": 22,
   "metadata": {},
   "outputs": [
    {
     "data": {
      "image/png": "[encoded data removed]",
      "text/plain": [
       "<Figure size 864x288 with 10 Axes>"
      ]
     },
     "metadata": {},
     "output_type": "display_data"
    }
   ],
   "source": [
    "showNumbers(XtestNoisy)"
   ]
  },
  {
   "cell_type": "code",
   "execution_count": 23,
   "metadata": {},
   "outputs": [],
   "source": [
    "Xpredlabel, XpredImag = Xpred"
   ]
  },
  {
   "cell_type": "code",
   "execution_count": 24,
   "metadata": {},
   "outputs": [],
   "source": [
    "XpredFinal = [np.argmax(x) for x in Xpredlabel]"
   ]
  },
  {
   "cell_type": "code",
   "execution_count": 25,
   "metadata": {},
   "outputs": [
    {
     "data": {
      "text/plain": [
       "[9, 0, 2, 3, 1, 9, 7, 8, 1, 0]"
      ]
     },
     "execution_count": 25,
     "metadata": {},
     "output_type": "execute_result"
    }
   ],
   "source": [
    "XpredFinal[0:10]"
   ]
  },
  {
   "cell_type": "code",
   "execution_count": 26,
   "metadata": {},
   "outputs": [
    {
     "data": {
      "text/plain": [
       "array([9, 0, 2, 5, 1, 9, 7, 8, 1, 0], dtype=uint8)"
      ]
     },
     "execution_count": 26,
     "metadata": {},
     "output_type": "execute_result"
    }
   ],
   "source": [
    "Ytest[0:10]"
   ]
  },
  {
   "cell_type": "code",
   "execution_count": 27,
   "metadata": {},
   "outputs": [
    {
     "data": {
      "image/png": "[encoded data removed]",
      "text/plain": [
       "<Figure size 864x288 with 10 Axes>"
      ]
     },
     "metadata": {},
     "output_type": "display_data"
    }
   ],
   "source": [
    "showNumbers(XpredImag)"
   ]
  },
  {
   "cell_type": "code",
   "execution_count": null,
   "metadata": {},
   "outputs": [],
   "source": []
  },
  {
   "cell_type": "code",
   "execution_count": null,
   "metadata": {},
   "outputs": [],
   "source": []
  }
 ],
 "metadata": {
  "kernelspec": {
   "display_name": "Python 3",
   "language": "python",
   "name": "python3"
  },
  "language_info": {
   "codemirror_mode": {
    "name": "ipython",
    "version": 3
   },
   "file_extension": ".py",
   "mimetype": "text/x-python",
   "name": "python",
   "nbconvert_exporter": "python",
   "pygments_lexer": "ipython3",
   "version": "3.5.5"
  }
 },
 "nbformat": 4,
 "nbformat_minor": 2
}
