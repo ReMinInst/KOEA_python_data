{
 "cells": [
  {
   "cell_type": "markdown",
   "metadata": {},
   "source": [
    "## Python Week 8"
   ]
  },
  {
   "cell_type": "markdown",
   "metadata": {},
   "source": [
    "November 23, 2019\n",
    "\n",
    "If the installation was done properly on October 26, we are ready to start machine learning projects.\n",
    "In the following weeks, we'll make a team and pick a project that you are interested in. In order to give you better ideas and understand what AI can do, we'll go over a few examples drawn from engineering and science. \n",
    "\n",
    "Today, let's continue our Keras programming with image denoising using autoencoder.\n",
    "We'll use the dataset that we previously played with for our number recognition and plotting. So the data should be in your cloned repository.\n"
   ]
  },
  {
   "cell_type": "code",
   "execution_count": 1,
   "metadata": {},
   "outputs": [
    {
     "name": "stdout",
     "output_type": "stream",
     "text": [
      "using tensorflow  2.0.0\n"
     ]
    }
   ],
   "source": [
    "import numpy as np\n",
    "import tensorflow \n",
    "import matplotlib.pyplot as plt\n",
    "\n",
    "if tensorflow.__version__ < '2.0.0':\n",
    "    import keras \n",
    "    from keras.models import Model\n",
    "    from keras.layers import Input, Conv2D, MaxPooling2D, UpSampling2D, Flatten, Dense, Dropout\n",
    "\n",
    "elif tensorflow.__version__ >= '2.0.0':\n",
    "    from tensorflow import keras\n",
    "    from tensorflow.keras.models import Model\n",
    "    from tensorflow.keras.layers import Input, Conv2D, MaxPooling2D, UpSampling2D, Flatten, Dense, Dropout\n",
    "      \n",
    "print(\"using tensorflow \", tensorflow.__version__)\n",
    "## keras functions are well documented in the Keras Documentaion \n",
    "## https://keras.io"
   ]
  },
  {
   "cell_type": "code",
   "execution_count": 2,
   "metadata": {},
   "outputs": [],
   "source": [
    "Xtest3D = np.load('xtest.pickle', allow_pickle=True)\n",
    "YtestAll = np.load('ytest.pickle', allow_pickle=True)"
   ]
  },
  {
   "cell_type": "code",
   "execution_count": 3,
   "metadata": {},
   "outputs": [],
   "source": [
    "#Xtrain3D = np.load('xtrain.pickle', allow_pickle=True)\n",
    "#Ytrain = np.load('ytrain.pickle', allow_pickle=True)"
   ]
  },
  {
   "cell_type": "code",
   "execution_count": 4,
   "metadata": {},
   "outputs": [],
   "source": [
    "## original images have unsigned integer from 0 to 255 (8bit representation of gray scale color) \n",
    "## Since the convolutions are numerical computation, we change the data type to float32 and then \n",
    "## perform normalizations to [0,1] range\n",
    "\n",
    "Xtest3D = Xtest3D.astype('float32')/255.\n",
    "#Xtrain3D = Xtrain3D.astype('float32')/255."
   ]
  },
  {
   "cell_type": "code",
   "execution_count": 5,
   "metadata": {},
   "outputs": [],
   "source": [
    "## in order to conform to the shape of inputs to Conv2D\n",
    "## Conv2D expects 4D array\n",
    "## 1st index - sample index\n",
    "## 2nd index - image x\n",
    "## 3rd index - image y\n",
    "## 4th index - channel (Ex. RGB values in color images)\n",
    "\n",
    "Xtest4D = Xtest3D.reshape((*Xtest3D.shape, 1))\n",
    "#Xtrain = Xtrain3D.reshape((*Xtrain3D.shape, 1))"
   ]
  },
  {
   "cell_type": "code",
   "execution_count": 6,
   "metadata": {},
   "outputs": [],
   "source": [
    "## Since the computing power and time is limitted, let's reduce the size of training and test datasets \n",
    "\n",
    "Xtrain = Xtest4D[0:600,:]\n",
    "Xtest = Xtest4D[1000:1100,:]\n",
    "\n",
    "Ytrain = YtestAll[0:600]\n",
    "Ytest  = YtestAll[1000:1100]\n",
    "\n",
    "## Let's create noisy input data\n",
    "\n",
    "XtrainNoisy = Xtrain + 0.2*np.random.randn(*Xtrain.shape)\n",
    "XtestNoisy = Xtest + 0.2*np.random.randn(*Xtest.shape)\n",
    "\n",
    "XtrainNoisy = np.clip(XtrainNoisy, 0., 1.)\n",
    "XtestNoisy = np.clip(XtestNoisy, 0., 1.)\n",
    "\n"
   ]
  },
  {
   "cell_type": "code",
   "execution_count": 7,
   "metadata": {},
   "outputs": [
    {
     "data": {
      "text/plain": [
       "(100,)"
      ]
     },
     "execution_count": 7,
     "metadata": {},
     "output_type": "execute_result"
    }
   ],
   "source": [
    "Ytrain.shape\n",
    "Ytest.shape"
   ]
  },
  {
   "cell_type": "code",
   "execution_count": 8,
   "metadata": {},
   "outputs": [
    {
     "data": {
      "text/plain": [
       "Text(0.5, 1.0, 'Noisy')"
      ]
     },
     "execution_count": 8,
     "metadata": {},
     "output_type": "execute_result"
    },
    {
     "data": {
      "image/png": "[encoded data removed]",
      "text/plain": [
       "<Figure size 432x216 with 2 Axes>"
      ]
     },
     "metadata": {
      "needs_background": "light"
     },
     "output_type": "display_data"
    }
   ],
   "source": [
    "## Let's plot one of them\n",
    "\n",
    "fig, ax = plt.subplots(1,2, figsize=(6,3))\n",
    "\n",
    "fig.suptitle('MNIST figure %d'%(Ytrain[5]), fontsize=18)\n",
    "fig.subplots_adjust(hspace=0.5, wspace=0.5)\n",
    "ax[0].imshow(Xtrain[5,:,:,0], cmap='gray')\n",
    "ax[0].set_title('Original')\n",
    "\n",
    "ax[1].imshow(XtrainNoisy[5,:,:,0], cmap='gray')\n",
    "ax[1].set_title('Noisy')\n",
    "\n"
   ]
  },
  {
   "cell_type": "code",
   "execution_count": 9,
   "metadata": {},
   "outputs": [
    {
     "name": "stdout",
     "output_type": "stream",
     "text": [
      "(100, 28, 28, 1)\n",
      "float32\n"
     ]
    }
   ],
   "source": [
    "## Let's check the shape and type of the our test dataset\n",
    "\n",
    "print(Xtest.shape)\n",
    "print(Xtest.dtype)\n"
   ]
  },
  {
   "cell_type": "code",
   "execution_count": 10,
   "metadata": {},
   "outputs": [
    {
     "name": "stdout",
     "output_type": "stream",
     "text": [
      "(600, 28, 28, 1)\n",
      "float32\n"
     ]
    }
   ],
   "source": [
    "print(Xtrain.shape)\n",
    "print(Xtrain.dtype)"
   ]
  },
  {
   "cell_type": "code",
   "execution_count": 11,
   "metadata": {},
   "outputs": [],
   "source": [
    "## Let's define our neural network model that consists of Convolutional, Flattening, MaxPooling and UpSampling layers\n",
    "## We can go deep into each layers and optimization if necessary and if our members are interested.\n",
    "\n",
    "def model(choice = 2):\n",
    "    '''\n",
    "    input parameters\n",
    "      choice - 1, classification of mnist handwriting images\n",
    "               2, encoding and decoding for denoising\n",
    "               \n",
    "    output\n",
    "      keras model defining the network from an input to the final output\n",
    "    '''\n",
    "    \n",
    "    \n",
    "    input_img = Input(shape=(28, 28, 1))\n",
    "    x1 = Conv2D(32, (3,3), activation='relu', padding='same')(input_img)\n",
    "    x2 = MaxPooling2D((2,2), padding='same')(x1)\n",
    "    x3 = Conv2D(32, (3,3), activation='relu', padding='same')(x2)\n",
    "    \n",
    "    encoded = MaxPooling2D((2,2), padding='same')(x3)\n",
    "    c1 = Flatten()(encoded)\n",
    "    c2 = Dense(128, activation='relu')(c1)\n",
    "    c3 = Dropout(0.2)(c2)\n",
    "    \n",
    "    ## this is the final output for classification\n",
    "    classifierOutput = Dense(10, activation='softmax')(c3)\n",
    "    \n",
    "    ## The following layers from y4 to decoded is for denoising\n",
    "    ## we'll cover this in the next meeting\n",
    "    y4 = Conv2D(32, (3,3), activation='relu', padding='same')(encoded)\n",
    "    y3 = UpSampling2D((2,2))(y4)\n",
    "    y2 = Conv2D(32, (3,3), activation='relu', padding='same')(y3)\n",
    "    y1 = UpSampling2D((2,2))(y2)\n",
    "    \n",
    "    decoded = Conv2D(1, (3,3), activation='sigmoid', padding='same')(y1)\n",
    "    \n",
    "    if choice == 1:\n",
    "        return Model(input_img, classifierOutput)\n",
    "    elif choice == 2: \n",
    "        ## This part is for the next meeting\n",
    "        return Model(input_img, decoded)    \n",
    "    else:\n",
    "        return Model(inputs=[input_img], outputs=[classifierOutput, decoded])\n",
    "    "
   ]
  },
  {
   "cell_type": "code",
   "execution_count": 12,
   "metadata": {},
   "outputs": [
    {
     "name": "stdout",
     "output_type": "stream",
     "text": [
      "Model: \"model\"\n",
      "_________________________________________________________________\n",
      "Layer (type)                 Output Shape              Param #   \n",
      "=================================================================\n",
      "input_1 (InputLayer)         [(None, 28, 28, 1)]       0         \n",
      "_________________________________________________________________\n",
      "conv2d (Conv2D)              (None, 28, 28, 32)        320       \n",
      "_________________________________________________________________\n",
      "max_pooling2d (MaxPooling2D) (None, 14, 14, 32)        0         \n",
      "_________________________________________________________________\n",
      "conv2d_1 (Conv2D)            (None, 14, 14, 32)        9248      \n",
      "_________________________________________________________________\n",
      "max_pooling2d_1 (MaxPooling2 (None, 7, 7, 32)          0         \n",
      "_________________________________________________________________\n",
      "conv2d_2 (Conv2D)            (None, 7, 7, 32)          9248      \n",
      "_________________________________________________________________\n",
      "up_sampling2d (UpSampling2D) (None, 14, 14, 32)        0         \n",
      "_________________________________________________________________\n",
      "conv2d_3 (Conv2D)            (None, 14, 14, 32)        9248      \n",
      "_________________________________________________________________\n",
      "up_sampling2d_1 (UpSampling2 (None, 28, 28, 32)        0         \n",
      "_________________________________________________________________\n",
      "conv2d_4 (Conv2D)            (None, 28, 28, 1)         289       \n",
      "=================================================================\n",
      "Total params: 28,353\n",
      "Trainable params: 28,353\n",
      "Non-trainable params: 0\n",
      "_________________________________________________________________\n"
     ]
    }
   ],
   "source": [
    "## Here we call a function and get our model defintion.\n",
    "mydenoiser = model(2)  ## model(1) -classification, model(2) - denoising, model (0) - both\n",
    "mydenoiser.summary()"
   ]
  },
  {
   "cell_type": "code",
   "execution_count": 13,
   "metadata": {},
   "outputs": [],
   "source": [
    "## Once a model is defined, we need to configure the model for trainging \n",
    "## by selecting optimizer and loss function\n",
    "\n",
    "mydenoiser.compile(optimizer='adam', loss='binary_crossentropy', metrics=['accuracy'])"
   ]
  },
  {
   "cell_type": "code",
   "execution_count": 14,
   "metadata": {},
   "outputs": [
    {
     "name": "stdout",
     "output_type": "stream",
     "text": [
      "Train on 600 samples\n",
      "Epoch 1/100\n",
      "600/600 [==============================] - 6s 10ms/sample - loss: 0.6463 - accuracy: 0.7697\n",
      "Epoch 2/100\n",
      "600/600 [==============================] - 2s 4ms/sample - loss: 0.5347 - accuracy: 0.8194\n",
      "Epoch 3/100\n",
      "600/600 [==============================] - 3s 4ms/sample - loss: 0.4966 - accuracy: 0.8194\n",
      "Epoch 4/100\n",
      "600/600 [==============================] - 2s 4ms/sample - loss: 0.4546 - accuracy: 0.8194\n",
      "Epoch 5/100\n",
      "600/600 [==============================] - 2s 4ms/sample - loss: 0.4092 - accuracy: 0.8194\n",
      "Epoch 6/100\n",
      "600/600 [==============================] - 2s 4ms/sample - loss: 0.3480 - accuracy: 0.8194\n",
      "Epoch 7/100\n",
      "600/600 [==============================] - 2s 4ms/sample - loss: 0.2798 - accuracy: 0.8194\n",
      "Epoch 8/100\n",
      "600/600 [==============================] - 2s 4ms/sample - loss: 0.2248 - accuracy: 0.8194\n",
      "Epoch 9/100\n",
      "600/600 [==============================] - 2s 4ms/sample - loss: 0.1975 - accuracy: 0.8194\n",
      "Epoch 10/100\n",
      "600/600 [==============================] - 2s 4ms/sample - loss: 0.1838 - accuracy: 0.8172\n",
      "Epoch 11/100\n",
      "600/600 [==============================] - 2s 4ms/sample - loss: 0.1718 - accuracy: 0.8089\n",
      "Epoch 12/100\n",
      "600/600 [==============================] - 2s 4ms/sample - loss: 0.1606 - accuracy: 0.8067\n",
      "Epoch 13/100\n",
      "600/600 [==============================] - 2s 4ms/sample - loss: 0.1515 - accuracy: 0.8109\n",
      "Epoch 14/100\n",
      "600/600 [==============================] - 2s 4ms/sample - loss: 0.1444 - accuracy: 0.8145\n",
      "Epoch 15/100\n",
      "600/600 [==============================] - 2s 4ms/sample - loss: 0.1391 - accuracy: 0.8152\n",
      "Epoch 16/100\n",
      "600/600 [==============================] - 2s 4ms/sample - loss: 0.1344 - accuracy: 0.8165\n",
      "Epoch 17/100\n",
      "600/600 [==============================] - 2s 4ms/sample - loss: 0.1307 - accuracy: 0.8175\n",
      "Epoch 18/100\n",
      "600/600 [==============================] - 2s 4ms/sample - loss: 0.1277 - accuracy: 0.8179\n",
      "Epoch 19/100\n",
      "600/600 [==============================] - 2s 4ms/sample - loss: 0.1249 - accuracy: 0.8186\n",
      "Epoch 20/100\n",
      "600/600 [==============================] - 2s 4ms/sample - loss: 0.1221 - accuracy: 0.8196\n",
      "Epoch 21/100\n",
      "600/600 [==============================] - 2s 4ms/sample - loss: 0.1198 - accuracy: 0.8200\n",
      "Epoch 22/100\n",
      "600/600 [==============================] - 2s 4ms/sample - loss: 0.1175 - accuracy: 0.8204\n",
      "Epoch 23/100\n",
      "600/600 [==============================] - 2s 4ms/sample - loss: 0.1153 - accuracy: 0.8207\n",
      "Epoch 24/100\n",
      "600/600 [==============================] - 2s 4ms/sample - loss: 0.1130 - accuracy: 0.8213\n",
      "Epoch 25/100\n",
      "600/600 [==============================] - 2s 4ms/sample - loss: 0.1116 - accuracy: 0.8218\n",
      "Epoch 26/100\n",
      "600/600 [==============================] - 2s 4ms/sample - loss: 0.1102 - accuracy: 0.8217\n",
      "Epoch 27/100\n",
      "600/600 [==============================] - 2s 4ms/sample - loss: 0.1086 - accuracy: 0.8226\n",
      "Epoch 28/100\n",
      "600/600 [==============================] - 2s 4ms/sample - loss: 0.1069 - accuracy: 0.8225\n",
      "Epoch 29/100\n",
      "600/600 [==============================] - 2s 4ms/sample - loss: 0.1056 - accuracy: 0.8228\n",
      "Epoch 30/100\n",
      "600/600 [==============================] - 2s 4ms/sample - loss: 0.1044 - accuracy: 0.8232\n",
      "Epoch 31/100\n",
      "600/600 [==============================] - 2s 4ms/sample - loss: 0.1037 - accuracy: 0.8230\n",
      "Epoch 32/100\n",
      "600/600 [==============================] - 2s 4ms/sample - loss: 0.1022 - accuracy: 0.8234\n",
      "Epoch 33/100\n",
      "600/600 [==============================] - 2s 4ms/sample - loss: 0.1013 - accuracy: 0.8234\n",
      "Epoch 34/100\n",
      "600/600 [==============================] - 2s 3ms/sample - loss: 0.1008 - accuracy: 0.8237\n",
      "Epoch 35/100\n",
      "600/600 [==============================] - 2s 3ms/sample - loss: 0.1002 - accuracy: 0.8235\n",
      "Epoch 36/100\n",
      "600/600 [==============================] - 2s 3ms/sample - loss: 0.0994 - accuracy: 0.8238\n",
      "Epoch 37/100\n",
      "600/600 [==============================] - 2s 3ms/sample - loss: 0.0993 - accuracy: 0.8235\n",
      "Epoch 38/100\n",
      "600/600 [==============================] - 2s 3ms/sample - loss: 0.0986 - accuracy: 0.8240\n",
      "Epoch 39/100\n",
      "600/600 [==============================] - 2s 3ms/sample - loss: 0.0977 - accuracy: 0.8240\n",
      "Epoch 40/100\n",
      "600/600 [==============================] - 2s 3ms/sample - loss: 0.0970 - accuracy: 0.8239\n",
      "Epoch 41/100\n",
      "600/600 [==============================] - 2s 3ms/sample - loss: 0.0964 - accuracy: 0.8241\n",
      "Epoch 42/100\n",
      "600/600 [==============================] - 2s 3ms/sample - loss: 0.0955 - accuracy: 0.8242\n",
      "Epoch 43/100\n",
      "600/600 [==============================] - 2s 3ms/sample - loss: 0.0949 - accuracy: 0.8243\n",
      "Epoch 44/100\n",
      "600/600 [==============================] - 2s 3ms/sample - loss: 0.0948 - accuracy: 0.8242\n",
      "Epoch 45/100\n",
      "600/600 [==============================] - 2s 3ms/sample - loss: 0.0940 - accuracy: 0.8245\n",
      "Epoch 46/100\n",
      "600/600 [==============================] - 2s 3ms/sample - loss: 0.0934 - accuracy: 0.8245\n",
      "Epoch 47/100\n",
      "600/600 [==============================] - 2s 3ms/sample - loss: 0.0932 - accuracy: 0.8244\n",
      "Epoch 48/100\n",
      "600/600 [==============================] - 2s 3ms/sample - loss: 0.0930 - accuracy: 0.8245\n",
      "Epoch 49/100\n",
      "600/600 [==============================] - 2s 3ms/sample - loss: 0.0928 - accuracy: 0.8246\n",
      "Epoch 50/100\n",
      "600/600 [==============================] - 2s 3ms/sample - loss: 0.0925 - accuracy: 0.8245\n",
      "Epoch 51/100\n",
      "600/600 [==============================] - 2s 3ms/sample - loss: 0.0921 - accuracy: 0.8246\n",
      "Epoch 52/100\n",
      "600/600 [==============================] - 2s 3ms/sample - loss: 0.0915 - accuracy: 0.8247\n",
      "Epoch 53/100\n",
      "600/600 [==============================] - 2s 3ms/sample - loss: 0.0909 - accuracy: 0.8247\n",
      "Epoch 54/100\n",
      "600/600 [==============================] - 2s 3ms/sample - loss: 0.0906 - accuracy: 0.8247\n",
      "Epoch 55/100\n",
      "600/600 [==============================] - 2s 3ms/sample - loss: 0.0900 - accuracy: 0.8249\n",
      "Epoch 56/100\n",
      "600/600 [==============================] - 2s 3ms/sample - loss: 0.0898 - accuracy: 0.8249\n",
      "Epoch 57/100\n",
      "600/600 [==============================] - 2s 3ms/sample - loss: 0.0896 - accuracy: 0.8249\n",
      "Epoch 58/100\n",
      "600/600 [==============================] - 2s 3ms/sample - loss: 0.0893 - accuracy: 0.8249\n",
      "Epoch 59/100\n",
      "600/600 [==============================] - 2s 3ms/sample - loss: 0.0890 - accuracy: 0.8249\n",
      "Epoch 60/100\n",
      "600/600 [==============================] - 2s 3ms/sample - loss: 0.0887 - accuracy: 0.8250\n",
      "Epoch 61/100\n",
      "600/600 [==============================] - 2s 3ms/sample - loss: 0.0886 - accuracy: 0.8249\n",
      "Epoch 62/100\n",
      "600/600 [==============================] - 2s 3ms/sample - loss: 0.0884 - accuracy: 0.8251\n",
      "Epoch 63/100\n",
      "600/600 [==============================] - 2s 3ms/sample - loss: 0.0883 - accuracy: 0.8250\n",
      "Epoch 64/100\n",
      "600/600 [==============================] - 2s 3ms/sample - loss: 0.0876 - accuracy: 0.8251\n",
      "Epoch 65/100\n",
      "600/600 [==============================] - 2s 3ms/sample - loss: 0.0877 - accuracy: 0.8251\n",
      "Epoch 66/100\n",
      "600/600 [==============================] - 2s 4ms/sample - loss: 0.0873 - accuracy: 0.8251\n",
      "Epoch 67/100\n",
      "600/600 [==============================] - 2s 4ms/sample - loss: 0.0873 - accuracy: 0.8252\n",
      "Epoch 68/100\n",
      "600/600 [==============================] - 2s 3ms/sample - loss: 0.0869 - accuracy: 0.8251\n",
      "Epoch 69/100\n",
      "600/600 [==============================] - 2s 3ms/sample - loss: 0.0865 - accuracy: 0.8252\n",
      "Epoch 70/100\n",
      "600/600 [==============================] - 2s 3ms/sample - loss: 0.0863 - accuracy: 0.8252\n",
      "Epoch 71/100\n",
      "600/600 [==============================] - 2s 3ms/sample - loss: 0.0861 - accuracy: 0.8252\n",
      "Epoch 72/100\n",
      "600/600 [==============================] - 2s 3ms/sample - loss: 0.0859 - accuracy: 0.8253\n",
      "Epoch 73/100\n",
      "600/600 [==============================] - 2s 3ms/sample - loss: 0.0857 - accuracy: 0.8253\n",
      "Epoch 74/100\n",
      "600/600 [==============================] - 2s 3ms/sample - loss: 0.0855 - accuracy: 0.8253\n",
      "Epoch 75/100\n",
      "600/600 [==============================] - 2s 3ms/sample - loss: 0.0853 - accuracy: 0.8254\n",
      "Epoch 76/100\n",
      "600/600 [==============================] - 2s 3ms/sample - loss: 0.0852 - accuracy: 0.8253\n",
      "Epoch 77/100\n",
      "600/600 [==============================] - 2s 3ms/sample - loss: 0.0850 - accuracy: 0.8253\n",
      "Epoch 78/100\n",
      "600/600 [==============================] - 2s 3ms/sample - loss: 0.0848 - accuracy: 0.8254\n",
      "Epoch 79/100\n"
     ]
    },
    {
     "name": "stdout",
     "output_type": "stream",
     "text": [
      "600/600 [==============================] - 2s 3ms/sample - loss: 0.0847 - accuracy: 0.8254\n",
      "Epoch 80/100\n",
      "600/600 [==============================] - 2s 4ms/sample - loss: 0.0846 - accuracy: 0.8254\n",
      "Epoch 81/100\n",
      "600/600 [==============================] - 2s 3ms/sample - loss: 0.0846 - accuracy: 0.8255\n",
      "Epoch 82/100\n",
      "600/600 [==============================] - 2s 3ms/sample - loss: 0.0843 - accuracy: 0.8254\n",
      "Epoch 83/100\n",
      "600/600 [==============================] - 2s 4ms/sample - loss: 0.0841 - accuracy: 0.8255\n",
      "Epoch 84/100\n",
      "600/600 [==============================] - 2s 4ms/sample - loss: 0.0839 - accuracy: 0.8255\n",
      "Epoch 85/100\n",
      "600/600 [==============================] - 2s 4ms/sample - loss: 0.0839 - accuracy: 0.8255\n",
      "Epoch 86/100\n",
      "600/600 [==============================] - 2s 4ms/sample - loss: 0.0836 - accuracy: 0.8255\n",
      "Epoch 87/100\n",
      "600/600 [==============================] - 2s 3ms/sample - loss: 0.0834 - accuracy: 0.8255\n",
      "Epoch 88/100\n",
      "600/600 [==============================] - 2s 3ms/sample - loss: 0.0833 - accuracy: 0.8255\n",
      "Epoch 89/100\n",
      "600/600 [==============================] - 2s 3ms/sample - loss: 0.0831 - accuracy: 0.8255\n",
      "Epoch 90/100\n",
      "600/600 [==============================] - 2s 3ms/sample - loss: 0.0830 - accuracy: 0.8256\n",
      "Epoch 91/100\n",
      "600/600 [==============================] - 2s 3ms/sample - loss: 0.0829 - accuracy: 0.8256\n",
      "Epoch 92/100\n",
      "600/600 [==============================] - 2s 3ms/sample - loss: 0.0829 - accuracy: 0.8256\n",
      "Epoch 93/100\n",
      "600/600 [==============================] - 2s 3ms/sample - loss: 0.0830 - accuracy: 0.8256\n",
      "Epoch 94/100\n",
      "600/600 [==============================] - 2s 3ms/sample - loss: 0.0827 - accuracy: 0.8256\n",
      "Epoch 95/100\n",
      "600/600 [==============================] - 2s 3ms/sample - loss: 0.0826 - accuracy: 0.8256\n",
      "Epoch 96/100\n",
      "600/600 [==============================] - 2s 3ms/sample - loss: 0.0823 - accuracy: 0.8257\n",
      "Epoch 97/100\n",
      "600/600 [==============================] - 2s 3ms/sample - loss: 0.0822 - accuracy: 0.8256\n",
      "Epoch 98/100\n",
      "600/600 [==============================] - 2s 3ms/sample - loss: 0.0821 - accuracy: 0.8257\n",
      "Epoch 99/100\n",
      "600/600 [==============================] - 2s 3ms/sample - loss: 0.0827 - accuracy: 0.8256\n",
      "Epoch 100/100\n",
      "600/600 [==============================] - 2s 3ms/sample - loss: 0.0820 - accuracy: 0.8257\n"
     ]
    },
    {
     "data": {
      "text/plain": [
       "<tensorflow.python.keras.callbacks.History at 0x245c7e58198>"
      ]
     },
     "execution_count": 14,
     "metadata": {},
     "output_type": "execute_result"
    }
   ],
   "source": [
    "## This is the traing stage that is compute intensive and may require high performance computers\n",
    "## or GPU machines if the size of the training dataset is huge\n",
    "## \n",
    "## In the begining of notebook, we decimated the size of the training dataset to finish our meeting on time\n",
    "## If you increase the epochs, the number of data repetition,\n",
    "## the running time will increase linearly proportional to the epochs.\n",
    "mydenoiser.fit(XtrainNoisy, Xtrain, epochs=100, batch_size=128)"
   ]
  },
  {
   "cell_type": "code",
   "execution_count": 23,
   "metadata": {},
   "outputs": [],
   "source": [
    "Xpred = mydenoiser.predict(XtestNoisy)"
   ]
  },
  {
   "cell_type": "code",
   "execution_count": 24,
   "metadata": {},
   "outputs": [
    {
     "name": "stdout",
     "output_type": "stream",
     "text": [
      "\r",
      "100/1 [========================================================================================================================================================================================================================================================================================================================================================================================================================================================================================================================================================================================================================================================================================================================================================================================================================================================================================================================================================================================================================================================================================================================================================================================================================================================================================================================================================================================================================================================================================================================================================================================================================================================================================================================================================================================================================================================================================================================================================================================================================================================================================================================================================================================================================================================================================================================================================================================================================================================================================================================================================================================================================================================================================================================================================================================================================================================================================================================================================================================================================================================================================================================] - 0s 1ms/sample - loss: 0.0785 - accuracy: 0.8302\n"
     ]
    },
    {
     "data": {
      "text/plain": [
       "[0.08256908148527145, 0.8301913]"
      ]
     },
     "execution_count": 24,
     "metadata": {},
     "output_type": "execute_result"
    }
   ],
   "source": [
    "mydenoiser.evaluate(XtestNoisy, Xtest)"
   ]
  },
  {
   "cell_type": "code",
   "execution_count": 25,
   "metadata": {},
   "outputs": [
    {
     "data": {
      "text/plain": [
       "(100, 28, 28, 1)"
      ]
     },
     "execution_count": 25,
     "metadata": {},
     "output_type": "execute_result"
    }
   ],
   "source": [
    "Xtest.shape"
   ]
  },
  {
   "cell_type": "code",
   "execution_count": 26,
   "metadata": {},
   "outputs": [
    {
     "data": {
      "text/plain": [
       "(100, 28, 28, 1)"
      ]
     },
     "execution_count": 26,
     "metadata": {},
     "output_type": "execute_result"
    }
   ],
   "source": [
    "XtestNoisy.shape"
   ]
  },
  {
   "cell_type": "code",
   "execution_count": 27,
   "metadata": {},
   "outputs": [],
   "source": [
    "def showNumbers(Xdata):\n",
    "    numpic = 10\n",
    "    plt.figure(figsize=(12,4))\n",
    "    for i in range(numpic):\n",
    "        ax = plt.subplot(2, 5, i+1)\n",
    "        plt.imshow(Xdata[i, :, :, 0])\n",
    "        plt.gray()\n",
    "        ax.get_xaxis().set_visible(False)\n",
    "        ax.get_yaxis().set_visible(False)\n"
   ]
  },
  {
   "cell_type": "code",
   "execution_count": 28,
   "metadata": {},
   "outputs": [
    {
     "data": {
      "image/png": "[encoded data removed]",
      "text/plain": [
       "<Figure size 864x288 with 10 Axes>"
      ]
     },
     "metadata": {
      "needs_background": "light"
     },
     "output_type": "display_data"
    }
   ],
   "source": [
    "showNumbers(Xtest)"
   ]
  },
  {
   "cell_type": "code",
   "execution_count": 29,
   "metadata": {},
   "outputs": [
    {
     "data": {
      "image/png": "[encoded data removed]",
      "text/plain": [
       "<Figure size 864x288 with 10 Axes>"
      ]
     },
     "metadata": {
      "needs_background": "light"
     },
     "output_type": "display_data"
    }
   ],
   "source": [
    "showNumbers(XtestNoisy)"
   ]
  },
  {
   "cell_type": "code",
   "execution_count": 30,
   "metadata": {},
   "outputs": [
    {
     "data": {
      "image/png": "[encoded data removed]",
      "text/plain": [
       "<Figure size 864x288 with 10 Axes>"
      ]
     },
     "metadata": {
      "needs_background": "light"
     },
     "output_type": "display_data"
    }
   ],
   "source": [
    "showNumbers(Xpred)"
   ]
  },
  {
   "cell_type": "code",
   "execution_count": null,
   "metadata": {},
   "outputs": [],
   "source": []
  },
  {
   "cell_type": "code",
   "execution_count": null,
   "metadata": {},
   "outputs": [],
   "source": []
  },
  {
   "cell_type": "code",
   "execution_count": null,
   "metadata": {},
   "outputs": [],
   "source": []
  }
 ],
 "metadata": {
  "kernelspec": {
   "display_name": "Python 3",
   "language": "python",
   "name": "python3"
  },
  "language_info": {
   "codemirror_mode": {
    "name": "ipython",
    "version": 3
   },
   "file_extension": ".py",
   "mimetype": "text/x-python",
   "name": "python",
   "nbconvert_exporter": "python",
   "pygments_lexer": "ipython3",
   "version": "3.7.3"
  }
 },
 "nbformat": 4,
 "nbformat_minor": 2
}
