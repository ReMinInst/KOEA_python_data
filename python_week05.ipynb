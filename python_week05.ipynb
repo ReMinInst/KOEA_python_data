{
 "cells": [
  {
   "cell_type": "markdown",
   "metadata": {},
   "source": [
    "# Python Week 5"
   ]
  },
  {
   "cell_type": "markdown",
   "metadata": {},
   "source": [
    "October 12, 2019\n",
    "\n",
    "This week, we dig into numpy and matplotlib more since these two packages are frequently used for processing and plotting  data. We are slowly entering into data science. \n",
    "\n",
    "For numpy, we need to understand reshaping and slicing. Reshaping means change the shape of dataset for example, from a 2D matrix form to a 1D vector form. Slicing is a convenient, simple notation to access partial data. If our data is a 3D matrix like cube, how do we plot/handle the top layer like a 2D image? This kind of job can be done easily using the slicing technique. We'll experiment with 28x28 figures in the MNIST dataset. A small portion of it is provided for your convenience in the github directory. \n",
    "For matplotlib, we try to visualize 2D data (image) as we plotted time series data last week. For 2D plotting, we'll use plt.imshow and many options will be tested to make our plots more beautiful and impressive.\n",
    "\n",
    "Enjoy this week's example."
   ]
  },
  {
   "cell_type": "code",
   "execution_count": 2,
   "metadata": {},
   "outputs": [],
   "source": [
    "import numpy as np\n",
    "import scipy as sp\n",
    "import matplotlib.pyplot as plt\n",
    "from matplotlib import cm"
   ]
  },
  {
   "cell_type": "markdown",
   "metadata": {},
   "source": [
    "## slicing"
   ]
  },
  {
   "cell_type": "code",
   "execution_count": 44,
   "metadata": {},
   "outputs": [],
   "source": [
    "my1d = np.random.randn(5)"
   ]
  },
  {
   "cell_type": "code",
   "execution_count": 45,
   "metadata": {},
   "outputs": [
    {
     "data": {
      "text/plain": [
       "array([-0.59045562,  0.54864361,  0.51001308,  0.44393311, -1.04161384])"
      ]
     },
     "execution_count": 45,
     "metadata": {},
     "output_type": "execute_result"
    }
   ],
   "source": [
    "my1d"
   ]
  },
  {
   "cell_type": "code",
   "execution_count": 46,
   "metadata": {},
   "outputs": [
    {
     "name": "stdout",
     "output_type": "stream",
     "text": [
      "-0.5904556242406812\n"
     ]
    }
   ],
   "source": [
    "# how do we access the first element?\n",
    "print(my1d[0])"
   ]
  },
  {
   "cell_type": "code",
   "execution_count": 47,
   "metadata": {},
   "outputs": [
    {
     "name": "stdout",
     "output_type": "stream",
     "text": [
      "[-0.59045562  0.54864361]\n"
     ]
    }
   ],
   "source": [
    "# how about first two elements?\n",
    "print(my1d[0:2])"
   ]
  },
  {
   "cell_type": "code",
   "execution_count": 48,
   "metadata": {},
   "outputs": [
    {
     "name": "stdout",
     "output_type": "stream",
     "text": [
      "[-0.59045562  0.51001308 -1.04161384]\n",
      "[-0.59045562  0.51001308 -1.04161384]\n"
     ]
    }
   ],
   "source": [
    "# how about first, third, fifth, skipping by one.\n",
    "print(my1d[0::2]) # print(my1d[0:5:2]) will give you the same result\n",
    "# please not that my1d[0:1] will give you only the first element.\n",
    "# because the second index is not included.\n",
    "# my1d[n1:n2] will show elements from n1 to n2-1.\n",
    "# let's try it\n",
    "print(my1d[0:5:2])"
   ]
  },
  {
   "cell_type": "code",
   "execution_count": 49,
   "metadata": {},
   "outputs": [
    {
     "name": "stdout",
     "output_type": "stream",
     "text": [
      "-1.0416138377080517\n"
     ]
    }
   ],
   "source": [
    "# how to access the last element?\n",
    "# will this work? \n",
    "print(my1d[4])"
   ]
  },
  {
   "cell_type": "code",
   "execution_count": 50,
   "metadata": {},
   "outputs": [
    {
     "name": "stdout",
     "output_type": "stream",
     "text": [
      "-1.0416138377080517\n",
      "-1.0416138377080517\n"
     ]
    }
   ],
   "source": [
    "# A correct way is \n",
    "print(my1d[4]) # since numpy arrays are using 0-based index, meaning the index starts from 0 instead of 1\n",
    "\n",
    "# this is *NOT CONVENIENT* because you need to know the length and to do minus 1 to the length\n",
    "# A much more convenient way is\n",
    "print(my1d[-1])"
   ]
  },
  {
   "cell_type": "code",
   "execution_count": 51,
   "metadata": {},
   "outputs": [
    {
     "name": "stdout",
     "output_type": "stream",
     "text": [
      "[ 0.44393311 -1.04161384]\n"
     ]
    }
   ],
   "source": [
    "# how about the last two elements?\n",
    "print(my1d[-2:]) # print(my1d[-2:-1]) does NOT do the job because "
   ]
  },
  {
   "cell_type": "code",
   "execution_count": 52,
   "metadata": {},
   "outputs": [],
   "source": [
    "# Let's try 2D data\n",
    "my2d = np.random.randn(3, 2)"
   ]
  },
  {
   "cell_type": "code",
   "execution_count": 53,
   "metadata": {},
   "outputs": [
    {
     "data": {
      "text/plain": [
       "array([[-1.57464712, -1.33508832],\n",
       "       [ 0.66411944, -1.37757084],\n",
       "       [-0.5312347 ,  0.21960931]])"
      ]
     },
     "execution_count": 53,
     "metadata": {},
     "output_type": "execute_result"
    }
   ],
   "source": [
    "my2d"
   ]
  },
  {
   "cell_type": "code",
   "execution_count": 54,
   "metadata": {},
   "outputs": [
    {
     "name": "stdout",
     "output_type": "stream",
     "text": [
      "[-1.57464712 -1.33508832]\n"
     ]
    }
   ],
   "source": [
    "# Let's print the first row.\n",
    "print(my2d[0,:])"
   ]
  },
  {
   "cell_type": "code",
   "execution_count": 55,
   "metadata": {},
   "outputs": [
    {
     "name": "stdout",
     "output_type": "stream",
     "text": [
      "[[-1.57464712 -1.33508832]\n",
      " [ 0.66411944 -1.37757084]]\n"
     ]
    }
   ],
   "source": [
    "# Can you print the first TWO rows? Yes, you can.\n",
    "print(my2d[0:2,:])"
   ]
  },
  {
   "cell_type": "code",
   "execution_count": 56,
   "metadata": {},
   "outputs": [
    {
     "name": "stdout",
     "output_type": "stream",
     "text": [
      "[-1.57464712  0.66411944]\n"
     ]
    }
   ],
   "source": [
    "# How about the first column of the first two rows?\n",
    "print(my2d[0:2, 0])"
   ]
  },
  {
   "cell_type": "code",
   "execution_count": 57,
   "metadata": {},
   "outputs": [],
   "source": [
    "# Let's make it into a 1D vector\n",
    "my1dfrom2d = my2d.flatten()"
   ]
  },
  {
   "cell_type": "code",
   "execution_count": 58,
   "metadata": {},
   "outputs": [
    {
     "data": {
      "text/plain": [
       "array([-1.57464712, -1.33508832,  0.66411944, -1.37757084, -0.5312347 ,\n",
       "        0.21960931])"
      ]
     },
     "execution_count": 58,
     "metadata": {},
     "output_type": "execute_result"
    }
   ],
   "source": [
    "my1dfrom2d"
   ]
  },
  {
   "cell_type": "code",
   "execution_count": 59,
   "metadata": {},
   "outputs": [
    {
     "data": {
      "text/plain": [
       "array([-1.57464712, -1.33508832,  0.66411944, -1.37757084, -0.5312347 ,\n",
       "        0.21960931])"
      ]
     },
     "execution_count": 59,
     "metadata": {},
     "output_type": "execute_result"
    }
   ],
   "source": [
    "my2d.reshape(6)\n",
    "# can you tell differences between my2d.reshape(6,1) and my2d.reshape(6)"
   ]
  },
  {
   "cell_type": "code",
   "execution_count": 60,
   "metadata": {},
   "outputs": [
    {
     "data": {
      "text/plain": [
       "array([-0.5312347 ,  0.21960931])"
      ]
     },
     "execution_count": 60,
     "metadata": {},
     "output_type": "execute_result"
    }
   ],
   "source": [
    "# we can use negative indices like -1, -2 as we did for 1D arrays.\n",
    "my2d[-1,:]"
   ]
  },
  {
   "cell_type": "code",
   "execution_count": 61,
   "metadata": {},
   "outputs": [
    {
     "data": {
      "text/plain": [
       "0.21960930729547065"
      ]
     },
     "execution_count": 61,
     "metadata": {},
     "output_type": "execute_result"
    }
   ],
   "source": [
    "my2d[-1,-1]"
   ]
  },
  {
   "cell_type": "markdown",
   "metadata": {},
   "source": [
    "## plotting a histogram"
   ]
  },
  {
   "cell_type": "code",
   "execution_count": 120,
   "metadata": {},
   "outputs": [
    {
     "name": "stdout",
     "output_type": "stream",
     "text": [
      "False\n"
     ]
    },
    {
     "data": {
      "image/png": "[encoded data removed]",
      "text/plain": [
       "<Figure size 720x576 with 1 Axes>"
      ]
     },
     "metadata": {},
     "output_type": "display_data"
    }
   ],
   "source": [
    "## Experimenting with axis\n",
    "\n",
    "import matplotlib\n",
    "mydata = np.random.randn(10000, 16, 16);\n",
    "\n",
    "#matplotlib.rc('axes', linewidth=2.0, edgecolor='black', facecolor='green')\n",
    "\n",
    "# let's check the histogram of mydata\n",
    "fig = plt.figure(figsize=(10,8), linewidth=4)\n",
    "#rect = fig.patch\n",
    "#rect.set_facecolor('lightgoldenrodyellow')\n",
    "\n",
    "#ax1 = fig.add_axes([0.1, 0.3, 0.4, 0.4])\n",
    "ax1 = plt.gca()\n",
    "ax2 = fig.get_axes()\n",
    "print(ax1==ax2)\n",
    "\n",
    "#rect = ax1.patch\n",
    "#rect.set_facecolor('lightslategray')\n",
    "#rect.set_linewidth(9)\n",
    "\n",
    "for axis in ['top', 'bottom', 'left', 'right']:\n",
    "    ax1.spines[axis].set_linewidth(5)\n",
    "    \n",
    "plt.hist(mydata.ravel(), bins=64, range=(-2.95, 2.95), fc='g', ec='k', linewidth=4);\n",
    "plt.title('Data histogram', fontsize=28)\n",
    "plt.xlabel('data', fontsize=24)\n",
    "plt.ylabel('frequency', fontsize=24)\n",
    "plt.tick_params(labelsize=20)\n",
    "\n",
    "\n"
   ]
  },
  {
   "cell_type": "markdown",
   "metadata": {},
   "source": [
    "## plotting 2D data"
   ]
  },
  {
   "cell_type": "code",
   "execution_count": 12,
   "metadata": {},
   "outputs": [
    {
     "data": {
      "text/plain": [
       "<matplotlib.colorbar.Colorbar at 0x7fc531b9bcf8>"
      ]
     },
     "execution_count": 12,
     "metadata": {},
     "output_type": "execute_result"
    },
    {
     "data": {
      "image/png": "[encoded data removed]",
      "text/plain": [
       "<Figure size 576x432 with 2 Axes>"
      ]
     },
     "metadata": {},
     "output_type": "display_data"
    }
   ],
   "source": [
    "\n",
    "# let's plot one of them\n",
    "\n",
    "plt.figure(figsize=(8,6)) #if you want to change the size of the figure\n",
    "imgplt = plt.imshow(mydata[0,:,:], cmap = cm.RdBu, alpha=1.0, clim=(-2, 2)) # alpha for transparency\n",
    "#plt.set_cmap('jet') This is a way to change its colormap to a different one.\n",
    "\n",
    "# in order to find a list of colormaps\n",
    "cms = plt.colormaps()\n",
    "\n",
    "# what's the type of 'cms'?\n",
    "#  \n",
    "imgplt.set_cmap('cool')\n",
    "\n",
    "# you can change the range of data to map to the colormap\n",
    "imgplt.set_clim(-5,5)\n",
    "\n",
    "plt.title('plot using ' + 'cool')\n",
    "\n",
    "#plt.imshow(mydata[0,:,:], vmin=-0.5, vmax=0.5)\n",
    "#plt.colorbar() # plot(add) a vertical scale bar on the right\n",
    "# if you want a horizontal scale bar at the bottom of the main figure\n",
    "plt.colorbar(orientation='horizontal', fraction = 0.1)\n"
   ]
  },
  {
   "cell_type": "code",
   "execution_count": null,
   "metadata": {},
   "outputs": [],
   "source": []
  },
  {
   "cell_type": "code",
   "execution_count": null,
   "metadata": {},
   "outputs": [],
   "source": []
  },
  {
   "cell_type": "code",
   "execution_count": 13,
   "metadata": {},
   "outputs": [],
   "source": [
    "plt.imshow?"
   ]
  },
  {
   "cell_type": "code",
   "execution_count": 14,
   "metadata": {},
   "outputs": [],
   "source": [
    "## How can we plot the last image of size 16x16 ?\n",
    "## Can you complete the following command, plt.imshow(mydata[   ])?"
   ]
  },
  {
   "cell_type": "code",
   "execution_count": 18,
   "metadata": {},
   "outputs": [],
   "source": [
    "## Since it is more fun to play with numbers, let's use MNIST datasets\n",
    "xtest = np.load('xtest.pickle', allow_pickle=True)\n",
    "ytest = np.load('ytest.pickle', allow_pickle=True)\n",
    "## Question: what's the dimension of xtest?\n"
   ]
  },
  {
   "cell_type": "code",
   "execution_count": 19,
   "metadata": {},
   "outputs": [
    {
     "data": {
      "text/plain": [
       "(10000, 28, 28)"
      ]
     },
     "execution_count": 19,
     "metadata": {},
     "output_type": "execute_result"
    }
   ],
   "source": [
    "xtest.shape"
   ]
  },
  {
   "cell_type": "code",
   "execution_count": 20,
   "metadata": {},
   "outputs": [
    {
     "data": {
      "text/plain": [
       "<matplotlib.image.AxesImage at 0x7fc531ae3fd0>"
      ]
     },
     "execution_count": 20,
     "metadata": {},
     "output_type": "execute_result"
    },
    {
     "data": {
      "image/png": "[encoded data removed]",
      "text/plain": [
       "<Figure size 432x288 with 1 Axes>"
      ]
     },
     "metadata": {},
     "output_type": "display_data"
    }
   ],
   "source": [
    "## Let's plot the first image of 28 x 28.\n",
    "plt.imshow(xtest[0, :,:])"
   ]
  },
  {
   "cell_type": "code",
   "execution_count": 69,
   "metadata": {},
   "outputs": [],
   "source": [
    "## Now, sometimes we need to convert 2D images into 1D vectors.\n",
    "## For example, my2d = xtest[0,:,:] can be put into a 1D vector of length 28x28\n",
    "my2dImage  = xtest[0, :, :]\n",
    "my1d_flattened = my2dImage.flatten()\n",
    "# or\n",
    "my1d_reshaped = my2dImage.reshape(28*28,)"
   ]
  },
  {
   "cell_type": "code",
   "execution_count": 70,
   "metadata": {},
   "outputs": [
    {
     "data": {
      "text/plain": [
       "(784,)"
      ]
     },
     "execution_count": 70,
     "metadata": {},
     "output_type": "execute_result"
    }
   ],
   "source": [
    "## Let's check the shape (dimension) of \"my1d\"\n",
    "my1d_flattened.shape"
   ]
  },
  {
   "cell_type": "code",
   "execution_count": 71,
   "metadata": {},
   "outputs": [
    {
     "data": {
      "text/plain": [
       "(784,)"
      ]
     },
     "execution_count": 71,
     "metadata": {},
     "output_type": "execute_result"
    }
   ],
   "source": [
    "my1d_reshaped.shape"
   ]
  },
  {
   "cell_type": "code",
   "execution_count": 72,
   "metadata": {},
   "outputs": [],
   "source": [
    "xtest2d = np.reshape(xtest, (10000,-1))"
   ]
  },
  {
   "cell_type": "code",
   "execution_count": 73,
   "metadata": {},
   "outputs": [
    {
     "data": {
      "text/plain": [
       "(10000, 784)"
      ]
     },
     "execution_count": 73,
     "metadata": {},
     "output_type": "execute_result"
    }
   ],
   "source": [
    "xtest2d.shape"
   ]
  },
  {
   "cell_type": "code",
   "execution_count": 74,
   "metadata": {},
   "outputs": [
    {
     "data": {
      "text/plain": [
       "<matplotlib.image.AxesImage at 0x7f7b50137e48>"
      ]
     },
     "execution_count": 74,
     "metadata": {},
     "output_type": "execute_result"
    },
    {
     "data": {
      "image/png": "[encoded data removed]",
      "text/plain": [
       "<Figure size 432x288 with 1 Axes>"
      ]
     },
     "metadata": {},
     "output_type": "display_data"
    }
   ],
   "source": [
    "#Let's make sure that the first row is the image of number \"7\" we saw above\n",
    "plt.imshow(xtest2d[0,:].reshape(-1,28))"
   ]
  },
  {
   "cell_type": "markdown",
   "metadata": {},
   "source": [
    "## Plotting using subplots"
   ]
  },
  {
   "cell_type": "code",
   "execution_count": 59,
   "metadata": {},
   "outputs": [
    {
     "data": {
      "image/png": "[encoded data removed]",
      "text/plain": [
       "<Figure size 720x720 with 4 Axes>"
      ]
     },
     "metadata": {},
     "output_type": "display_data"
    }
   ],
   "source": [
    "\n",
    "# Let's test \n",
    "\n",
    "xtest = np.load('xtest.pickle', allow_pickle=True)\n",
    "ytest = np.load('ytest.pickle', allow_pickle=True)\n",
    "\n",
    "fig, axs = plt.subplots(2,2, figsize=(10,10))\n",
    "\n",
    "fig.suptitle('MNIST figures', fontsize=28)\n",
    "fig.subplots_adjust(hspace=0.5, wspace=0.5)\n",
    "for i in range(2):\n",
    "    for j in range(2):\n",
    "        axs[i,j].imshow(xtest[i+2*j,:,:]+30*np.random.randn(28,28), cmap='gnuplot2')\n",
    "        axs[i,j].set_xlabel('i', fontsize=20)\n",
    "        axs[i,j].set_ylabel('j', fontsize=20)\n",
    "        axs[i,j].set_title(str(ytest[i+2*j]), fontsize=30)\n",
    "        axs[i,j].tick_params(labelsize=20)\n",
    "        \n",
    "#plt.subplots_adjust(wspace=1, hspace=1)\n",
    "    "
   ]
  },
  {
   "cell_type": "markdown",
   "metadata": {},
   "source": [
    "## Colors"
   ]
  },
  {
   "cell_type": "code",
   "execution_count": 60,
   "metadata": {},
   "outputs": [],
   "source": [
    "import matplotlib.colors as mcolors"
   ]
  },
  {
   "cell_type": "code",
   "execution_count": 111,
   "metadata": {},
   "outputs": [
    {
     "data": {
      "text/plain": [
       "{'xkcd:lavender blue': '#8b88f8',\n",
       " 'mediumaquamarine': '#66CDAA',\n",
       " 'xkcd:kermit green': '#5cb200',\n",
       " 'xkcd:pale light green': '#b1fc99',\n",
       " 'xkcd:purply': '#983fb2',\n",
       " 'xkcd:baby purple': '#ca9bf7',\n",
       " 'xkcd:light bluish green': '#76fda8',\n",
       " 'xkcd:carnation': '#fd798f',\n",
       " 'xkcd:light bright green': '#53fe5c',\n",
       " 'xkcd:dark plum': '#3f012c',\n",
       " 'xkcd:macaroni and cheese': '#efb435',\n",
       " 'xkcd:very light green': '#d1ffbd',\n",
       " 'xkcd:pale red': '#d9544d',\n",
       " 'xkcd:gray pink': '#c3909b',\n",
       " 'xkcd:rosy pink': '#f6688e',\n",
       " 'xkcd:adobe': '#bd6c48',\n",
       " 'rosybrown': '#BC8F8F',\n",
       " 'midnightblue': '#191970',\n",
       " 'xkcd:light gray blue': '#9dbcd4',\n",
       " 'xkcd:tan green': '#a9be70',\n",
       " 'xkcd:ultramarine blue': '#1805db',\n",
       " 'xkcd:puke yellow': '#c2be0e',\n",
       " 'xkcd:light moss green': '#a6c875',\n",
       " 'xkcd:neon blue': '#04d9ff',\n",
       " 'xkcd:light yellow': '#fffe7a',\n",
       " 'xkcd:very dark brown': '#1d0200',\n",
       " 'xkcd:dark grass green': '#388004',\n",
       " 'xkcd:marigold': '#fcc006',\n",
       " 'xkcd:vibrant blue': '#0339f8',\n",
       " 'xkcd:pinkish': '#d46a7e',\n",
       " 'xkcd:yellow/green': '#c8fd3d',\n",
       " 'xkcd:medium grey': '#7d7f7c',\n",
       " 'limegreen': '#32CD32',\n",
       " 'xkcd:hot purple': '#cb00f5',\n",
       " 'xkcd:dark salmon': '#c85a53',\n",
       " 'xkcd:light indigo': '#6d5acf',\n",
       " 'xkcd:bruise': '#7e4071',\n",
       " \"xkcd:robin's egg\": '#6dedfd',\n",
       " 'xkcd:carolina blue': '#8ab8fe',\n",
       " 'xkcd:manilla': '#fffa86',\n",
       " 'xkcd:green blue': '#06b48b',\n",
       " 'xkcd:lightish green': '#61e160',\n",
       " 'xkcd:light lime': '#aefd6c',\n",
       " 'xkcd:barf green': '#94ac02',\n",
       " 'darkorange': '#FF8C00',\n",
       " 'xkcd:saffron': '#feb209',\n",
       " 'xkcd:purpley gray': '#947e94',\n",
       " 'xkcd:light green blue': '#56fca2',\n",
       " 'xkcd:pumpkin orange': '#fb7d07',\n",
       " 'xkcd:reddish pink': '#fe2c54',\n",
       " 'lawngreen': '#7CFC00',\n",
       " 'xkcd:deep turquoise': '#017374',\n",
       " 'xkcd:purple grey': '#866f85',\n",
       " 'xkcd:dark green': '#033500',\n",
       " 'xkcd:creme': '#ffffb6',\n",
       " 'xkcd:booger': '#9bb53c',\n",
       " 'xkcd:jade': '#1fa774',\n",
       " 'xkcd:light forest green': '#4f9153',\n",
       " 'xkcd:golden brown': '#b27a01',\n",
       " 'xkcd:sickly yellow': '#d0e429',\n",
       " 'xkcd:fresh green': '#69d84f',\n",
       " 'xkcd:sky': '#82cafc',\n",
       " 'xkcd:vivid blue': '#152eff',\n",
       " 'xkcd:true blue': '#010fcc',\n",
       " 'lightcoral': '#F08080',\n",
       " 'xkcd:greyblue': '#77a1b5',\n",
       " 'xkcd:bright light green': '#2dfe54',\n",
       " 'xkcd:lightgreen': '#76ff7b',\n",
       " 'xkcd:off blue': '#5684ae',\n",
       " 'xkcd:buff': '#fef69e',\n",
       " 'xkcd:light neon green': '#4efd54',\n",
       " 'xkcd:red orange': '#fd3c06',\n",
       " 'darkblue': '#00008B',\n",
       " 'xkcd:strong blue': '#0c06f7',\n",
       " 'xkcd:pine green': '#0a481e',\n",
       " 'xkcd:khaki green': '#728639',\n",
       " 'xkcd:indigo': '#380282',\n",
       " 'xkcd:dark fuchsia': '#9d0759',\n",
       " 'xkcd:dusky purple': '#895b7b',\n",
       " 'xkcd:pale rose': '#fdc1c5',\n",
       " 'xkcd:puce': '#a57e52',\n",
       " 'xkcd:grayish pink': '#c88d94',\n",
       " 'xkcd:yellowish brown': '#9b7a01',\n",
       " 'xkcd:mint green': '#8fff9f',\n",
       " 'xkcd:grey green': '#789b73',\n",
       " 'cadetblue': '#5F9EA0',\n",
       " 'xkcd:sick green': '#9db92c',\n",
       " 'xkcd:butter': '#ffff81',\n",
       " 'xkcd:grape': '#6c3461',\n",
       " 'xkcd:camo': '#7f8f4e',\n",
       " 'xkcd:taupe': '#b9a281',\n",
       " 'xkcd:seaweed': '#18d17b',\n",
       " 'thistle': '#D8BFD8',\n",
       " 'xkcd:blue violet': '#5d06e9',\n",
       " 'xkcd:electric blue': '#0652ff',\n",
       " 'xkcd:light gray green': '#b7e1a1',\n",
       " 'xkcd:cornflower': '#6a79f7',\n",
       " 'xkcd:pale pink': '#ffcfdc',\n",
       " 'xkcd:mid blue': '#276ab3',\n",
       " 'xkcd:amethyst': '#9b5fc0',\n",
       " 'xkcd:washed out green': '#bcf5a6',\n",
       " 'xkcd:pinkish tan': '#d99b82',\n",
       " 'xkcd:squash': '#f2ab15',\n",
       " 'xkcd:sickly green': '#94b21c',\n",
       " 'sienna': '#A0522D',\n",
       " 'xkcd:slate blue': '#5b7c99',\n",
       " 'xkcd:light aquamarine': '#7bfdc7',\n",
       " 'xkcd:aqua green': '#12e193',\n",
       " 'xkcd:lichen': '#8fb67b',\n",
       " 'xkcd:light royal blue': '#3a2efe',\n",
       " 'xkcd:pea soup': '#929901',\n",
       " 'lavender': '#E6E6FA',\n",
       " 'xkcd:tealish green': '#0cdc73',\n",
       " 'mediumspringgreen': '#00FA9A',\n",
       " 'fuchsia': '#FF00FF',\n",
       " 'tab:olive': '#bcbd22',\n",
       " 'xkcd:shit brown': '#7b5804',\n",
       " 'xkcd:bland': '#afa88b',\n",
       " 'xkcd:teal': '#029386',\n",
       " 'xkcd:purple red': '#990147',\n",
       " 'xkcd:vermillion': '#f4320c',\n",
       " 'xkcd:pale salmon': '#ffb19a',\n",
       " 'xkcd:battleship gray': '#6b7c85',\n",
       " 'lightblue': '#ADD8E6',\n",
       " 'xkcd:reddish orange': '#f8481c',\n",
       " 'olive': '#808000',\n",
       " 'xkcd:blood': '#770001',\n",
       " 'xkcd:purpleish': '#98568d',\n",
       " 'xkcd:baby puke green': '#b6c406',\n",
       " 'xkcd:lighter green': '#75fd63',\n",
       " 'xkcd:grapefruit': '#fd5956',\n",
       " 'xkcd:moss': '#769958',\n",
       " 'xkcd:pale lilac': '#e4cbff',\n",
       " 'xkcd:dark taupe': '#7f684e',\n",
       " 'xkcd:dark turquoise': '#045c5a',\n",
       " 'xkcd:dirty purple': '#734a65',\n",
       " 'xkcd:burnt siena': '#b75203',\n",
       " 'xkcd:pale peach': '#ffe5ad',\n",
       " 'xkcd:deep lavender': '#8d5eb7',\n",
       " 'xkcd:mud': '#735c12',\n",
       " 'xkcd:slate': '#516572',\n",
       " 'xkcd:bright yellow green': '#9dff00',\n",
       " 'xkcd:silver': '#c5c9c7',\n",
       " 'xkcd:grey brown': '#7f7053',\n",
       " 'xkcd:cherry': '#cf0234',\n",
       " 'xkcd:navy': '#01153e',\n",
       " 'xkcd:dirt brown': '#836539',\n",
       " 'xkcd:light lavendar': '#efc0fe',\n",
       " 'xkcd:bluish grey': '#748b97',\n",
       " 'xkcd:pea': '#a4bf20',\n",
       " 'xkcd:light turquoise': '#7ef4cc',\n",
       " 'xkcd:viridian': '#1e9167',\n",
       " 'xkcd:light grey blue': '#9dbcd4',\n",
       " 'xkcd:warm pink': '#fb5581',\n",
       " 'xkcd:bright orange': '#ff5b00',\n",
       " 'lemonchiffon': '#FFFACD',\n",
       " 'xkcd:velvet': '#750851',\n",
       " 'xkcd:hazel': '#8e7618',\n",
       " 'xkcd:hospital green': '#9be5aa',\n",
       " 'xkcd:purpley grey': '#947e94',\n",
       " 'darkseagreen': '#8FBC8F',\n",
       " 'xkcd:deep magenta': '#a0025c',\n",
       " 'xkcd:gross green': '#a0bf16',\n",
       " 'xkcd:wheat': '#fbdd7e',\n",
       " 'xkcd:murky green': '#6c7a0e',\n",
       " 'xkcd:deep blue': '#040273',\n",
       " 'crimson': '#DC143C',\n",
       " 'g': (0, 0.5, 0),\n",
       " 'xkcd:light blue grey': '#b7c9e2',\n",
       " 'xkcd:gray purple': '#826d8c',\n",
       " 'xkcd:dark khaki': '#9b8f55',\n",
       " 'xkcd:black': '#000000',\n",
       " 'xkcd:burnt red': '#9f2305',\n",
       " 'xkcd:rose red': '#be013c',\n",
       " 'xkcd:mid green': '#50a747',\n",
       " 'xkcd:dark lime green': '#7ebd01',\n",
       " 'xkcd:powder pink': '#ffb2d0',\n",
       " 'xkcd:very light purple': '#f6cefc',\n",
       " 'xkcd:brown gray': '#8d8468',\n",
       " 'xkcd:boring green': '#63b365',\n",
       " 'xkcd:vomit': '#a2a415',\n",
       " 'xkcd:sand brown': '#cba560',\n",
       " 'xkcd:terracotta': '#ca6641',\n",
       " 'xkcd:dusty green': '#76a973',\n",
       " 'turquoise': '#40E0D0',\n",
       " 'xkcd:cobalt blue': '#030aa7',\n",
       " 'xkcd:straw': '#fcf679',\n",
       " 'mediumpurple': '#9370DB',\n",
       " 'xkcd:parchment': '#fefcaf',\n",
       " 'xkcd:sand': '#e2ca76',\n",
       " 'xkcd:light grey green': '#b7e1a1',\n",
       " 'xkcd:cream': '#ffffc2',\n",
       " 'xkcd:charcoal gray': '#3c4142',\n",
       " 'xkcd:dirty green': '#667e2c',\n",
       " 'xkcd:greyish blue': '#5e819d',\n",
       " 'xkcd:wine': '#80013f',\n",
       " 'xkcd:rich purple': '#720058',\n",
       " 'xkcd:burnt sienna': '#b04e0f',\n",
       " 'xkcd:brown red': '#922b05',\n",
       " 'xkcd:mint': '#9ffeb0',\n",
       " 'xkcd:grayish green': '#82a67d',\n",
       " 'xkcd:icky green': '#8fae22',\n",
       " 'xkcd:salmon': '#ff796c',\n",
       " 'xkcd:brick red': '#8f1402',\n",
       " 'xkcd:clay brown': '#b2713d',\n",
       " 'xkcd:pale lavender': '#eecffe',\n",
       " 'xkcd:strawberry': '#fb2943',\n",
       " 'xkcd:fern': '#63a950',\n",
       " 'xkcd:pine': '#2b5d34',\n",
       " 'xkcd:fire engine red': '#fe0002',\n",
       " 'xkcd:light khaki': '#e6f2a2',\n",
       " 'xkcd:warm grey': '#978a84',\n",
       " 'xkcd:blueberry': '#464196',\n",
       " 'xkcd:seafoam': '#80f9ad',\n",
       " 'xkcd:very pale blue': '#d6fffe',\n",
       " 'xkcd:dark sand': '#a88f59',\n",
       " 'xkcd:lilac': '#cea2fd',\n",
       " 'xkcd:grey': '#929591',\n",
       " 'xkcd:ugly brown': '#7d7103',\n",
       " 'xkcd:rust brown': '#8b3103',\n",
       " 'mediumturquoise': '#48D1CC',\n",
       " 'xkcd:orangish brown': '#b25f03',\n",
       " 'palegoldenrod': '#EEE8AA',\n",
       " 'xkcd:kiwi': '#9cef43',\n",
       " 'xkcd:darkblue': '#030764',\n",
       " 'xkcd:blood orange': '#fe4b03',\n",
       " 'xkcd:greenish blue': '#0b8b87',\n",
       " 'xkcd:pale gold': '#fdde6c',\n",
       " 'xkcd:light sea green': '#98f6b0',\n",
       " 'xkcd:dark blue': '#00035b',\n",
       " 'xkcd:dark blue gray': '#1f3b4d',\n",
       " 'xkcd:wisteria': '#a87dc2',\n",
       " 'tan': '#D2B48C',\n",
       " 'xkcd:dark royal blue': '#02066f',\n",
       " 'xkcd:cloudy blue': '#acc2d9',\n",
       " 'xkcd:algae': '#54ac68',\n",
       " 'olivedrab': '#6B8E23',\n",
       " 'xkcd:indian red': '#850e04',\n",
       " 'xkcd:sunny yellow': '#fff917',\n",
       " 'gainsboro': '#DCDCDC',\n",
       " 'xkcd:celery': '#c1fd95',\n",
       " 'xkcd:forest green': '#06470c',\n",
       " 'xkcd:duck egg blue': '#c3fbf4',\n",
       " 'xkcd:dark teal': '#014d4e',\n",
       " 'palevioletred': '#DB7093',\n",
       " 'xkcd:lipstick red': '#c0022f',\n",
       " 'xkcd:bright purple': '#be03fd',\n",
       " 'xkcd:burnt umber': '#a0450e',\n",
       " 'xkcd:grey purple': '#826d8c',\n",
       " 'xkcd:green': '#15b01a',\n",
       " 'xkcd:teal blue': '#01889f',\n",
       " 'xkcd:dark cream': '#fff39a',\n",
       " 'blueviolet': '#8A2BE2',\n",
       " 'gray': '#808080',\n",
       " 'xkcd:poop green': '#6f7c00',\n",
       " 'xkcd:deep aqua': '#08787f',\n",
       " 'xkcd:merlot': '#730039',\n",
       " 'xkcd:tea': '#65ab7c',\n",
       " 'xkcd:brown orange': '#b96902',\n",
       " 'xkcd:light cyan': '#acfffc',\n",
       " 'xkcd:cerulean blue': '#056eee',\n",
       " 'xkcd:faded purple': '#916e99',\n",
       " 'xkcd:ochre': '#bf9005',\n",
       " 'xkcd:forest': '#0b5509',\n",
       " 'xkcd:pale brown': '#b1916e',\n",
       " 'xkcd:bubblegum': '#ff6cb5',\n",
       " 'xkcd:reddish purple': '#910951',\n",
       " 'silver': '#C0C0C0',\n",
       " 'xkcd:topaz': '#13bbaf',\n",
       " 'xkcd:burgundy': '#610023',\n",
       " 'xkcd:robin egg blue': '#8af1fe',\n",
       " 'xkcd:bluey grey': '#89a0b0',\n",
       " 'xkcd:yellow': '#ffff14',\n",
       " 'xkcd:light green': '#96f97b',\n",
       " 'xkcd:blue/grey': '#758da3',\n",
       " 'xkcd:orangish red': '#f43605',\n",
       " 'xkcd:yellow tan': '#ffe36e',\n",
       " 'xkcd:puke green': '#9aae07',\n",
       " 'xkcd:violet pink': '#fb5ffc',\n",
       " 'xkcd:mustard green': '#a8b504',\n",
       " 'xkcd:mango': '#ffa62b',\n",
       " 'xkcd:ocean blue': '#03719c',\n",
       " 'xkcd:off yellow': '#f1f33f',\n",
       " 'xkcd:darkish green': '#287c37',\n",
       " 'xkcd:gold': '#dbb40c',\n",
       " 'xkcd:barney purple': '#a00498',\n",
       " 'xkcd:dark rose': '#b5485d',\n",
       " 'tab:red': '#d62728',\n",
       " 'xkcd:leaf': '#71aa34',\n",
       " 'xkcd:ocher': '#bf9b0c',\n",
       " 'grey': '#808080',\n",
       " 'xkcd:lime': '#aaff32',\n",
       " 'xkcd:green gray': '#77926f',\n",
       " 'burlywood': '#DEB887',\n",
       " 'darkred': '#8B0000',\n",
       " 'xkcd:light blue gray': '#b7c9e2',\n",
       " 'xkcd:peacock blue': '#016795',\n",
       " 'xkcd:egg shell': '#fffcc4',\n",
       " 'xkcd:olive green': '#677a04',\n",
       " 'hotpink': '#FF69B4',\n",
       " 'xkcd:lime green': '#89fe05',\n",
       " 'xkcd:soft blue': '#6488ea',\n",
       " 'xkcd:greeny grey': '#7ea07a',\n",
       " 'xkcd:pale olive green': '#b1d27b',\n",
       " 'xkcd:red brown': '#8b2e16',\n",
       " 'xkcd:pinkish red': '#f10c45',\n",
       " 'xkcd:cool grey': '#95a3a6',\n",
       " 'xkcd:brown grey': '#8d8468',\n",
       " 'xkcd:hot pink': '#ff028d',\n",
       " 'xkcd:dark lilac': '#9c6da5',\n",
       " 'blanchedalmond': '#FFEBCD',\n",
       " 'xkcd:greeny yellow': '#c6f808',\n",
       " 'xkcd:brownish pink': '#c27e79',\n",
       " 'xkcd:bluish': '#2976bb',\n",
       " 'xkcd:coffee': '#a6814c',\n",
       " 'xkcd:pure blue': '#0203e2',\n",
       " 'xkcd:old rose': '#c87f89',\n",
       " 'darkmagenta': '#8B008B',\n",
       " 'xkcd:yellowy brown': '#ae8b0c',\n",
       " 'b': (0, 0, 1),\n",
       " 'xkcd:apple': '#6ecb3c',\n",
       " 'xkcd:medium brown': '#7f5112',\n",
       " 'xkcd:bright teal': '#01f9c6',\n",
       " 'xkcd:dark mint green': '#20c073',\n",
       " 'xkcd:dark sky blue': '#448ee4',\n",
       " 'xkcd:dirty pink': '#ca7b80',\n",
       " 'xkcd:bright blue': '#0165fc',\n",
       " 'xkcd:purplish grey': '#7a687f',\n",
       " 'xkcd:blue blue': '#2242c7',\n",
       " 'xkcd:stormy blue': '#507b9c',\n",
       " 'khaki': '#F0E68C',\n",
       " 'xkcd:dirty orange': '#c87606',\n",
       " 'xkcd:spring green': '#a9f971',\n",
       " 'xkcd:dark mauve': '#874c62',\n",
       " 'xkcd:poop brown': '#7a5901',\n",
       " 'darkkhaki': '#BDB76B',\n",
       " 'xkcd:maize': '#f4d054',\n",
       " 'xkcd:salmon pink': '#fe7b7c',\n",
       " 'xkcd:dusky rose': '#ba6873',\n",
       " 'mistyrose': '#FFE4E1',\n",
       " 'xkcd:peach': '#ffb07c',\n",
       " 'xkcd:bright violet': '#ad0afd',\n",
       " 'xkcd:green apple': '#5edc1f',\n",
       " 'xkcd:highlighter green': '#1bfc06',\n",
       " 'xkcd:pinkish brown': '#b17261',\n",
       " 'xkcd:rose': '#cf6275',\n",
       " 'xkcd:light beige': '#fffeb6',\n",
       " 'darkslategray': '#2F4F4F',\n",
       " 'xkcd:mossy green': '#638b27',\n",
       " 'xkcd:dull brown': '#876e4b',\n",
       " 'xkcd:leafy green': '#51b73b',\n",
       " 'xkcd:light olive': '#acbf69',\n",
       " 'xkcd:gray green': '#789b73',\n",
       " 'xkcd:aqua blue': '#02d8e9',\n",
       " 'xkcd:sap green': '#5c8b15',\n",
       " 'magenta': '#FF00FF',\n",
       " 'xkcd:racing green': '#014600',\n",
       " 'xkcd:red pink': '#fa2a55',\n",
       " 'xkcd:blue with a hint of purple': '#533cc6',\n",
       " 'xkcd:pale cyan': '#b7fffa',\n",
       " 'xkcd:grayish brown': '#7a6a4f',\n",
       " 'xkcd:lemon green': '#adf802',\n",
       " 'xkcd:reddish brown': '#7f2b0a',\n",
       " 'xkcd:berry': '#990f4b',\n",
       " 'tab:brown': '#8c564b',\n",
       " 'xkcd:light magenta': '#fa5ff7',\n",
       " 'xkcd:red wine': '#8c0034',\n",
       " 'cornflowerblue': '#6495ED',\n",
       " 'xkcd:fluorescent green': '#08ff08',\n",
       " 'xkcd:reddish grey': '#997570',\n",
       " 'xkcd:blue purple': '#5729ce',\n",
       " 'sandybrown': '#F4A460',\n",
       " 'xkcd:slate grey': '#59656d',\n",
       " 'xkcd:grey teal': '#5e9b8a',\n",
       " 'xkcd:tea green': '#bdf8a3',\n",
       " 'xkcd:dull blue': '#49759c',\n",
       " 'xkcd:darkish red': '#a90308',\n",
       " 'xkcd:camel': '#c69f59',\n",
       " 'xkcd:poo': '#8f7303',\n",
       " 'xkcd:watermelon': '#fd4659',\n",
       " 'xkcd:amber': '#feb308',\n",
       " 'xkcd:deep sky blue': '#0d75f8',\n",
       " 'teal': '#008080',\n",
       " 'xkcd:strong pink': '#ff0789',\n",
       " 'xkcd:yellowy green': '#bff128',\n",
       " 'xkcd:bluish green': '#10a674',\n",
       " 'xkcd:faded yellow': '#feff7f',\n",
       " 'xkcd:indigo blue': '#3a18b1',\n",
       " 'purple': '#800080',\n",
       " 'xkcd:rouge': '#ab1239',\n",
       " 'xkcd:dark sea green': '#11875d',\n",
       " 'forestgreen': '#228B22',\n",
       " 'xkcd:sandstone': '#c9ae74',\n",
       " 'papayawhip': '#FFEFD5',\n",
       " 'xkcd:pale turquoise': '#a5fbd5',\n",
       " 'xkcd:greenish grey': '#96ae8d',\n",
       " 'xkcd:midnight': '#03012d',\n",
       " 'lightslategray': '#778899',\n",
       " 'xkcd:midnight purple': '#280137',\n",
       " 'xkcd:barbie pink': '#fe46a5',\n",
       " 'xkcd:fawn': '#cfaf7b',\n",
       " 'xkcd:dried blood': '#4b0101',\n",
       " 'xkcd:chocolate brown': '#411900',\n",
       " 'xkcd:milk chocolate': '#7f4e1e',\n",
       " 'xkcd:rusty orange': '#cd5909',\n",
       " 'xkcd:army green': '#4b5d16',\n",
       " 'xkcd:orangish': '#fc824a',\n",
       " 'orchid': '#DA70D6',\n",
       " 'xkcd:vomit yellow': '#c7c10c',\n",
       " 'xkcd:grayblue': '#77a1b5',\n",
       " 'xkcd:dark grey blue': '#29465b',\n",
       " 'xkcd:nice blue': '#107ab0',\n",
       " 'xkcd:dull teal': '#5f9e8f',\n",
       " 'xkcd:easter purple': '#c071fe',\n",
       " 'xkcd:blush': '#f29e8e',\n",
       " 'xkcd:deep green': '#02590f',\n",
       " 'xkcd:pink red': '#f5054f',\n",
       " 'xkcd:mud brown': '#60460f',\n",
       " 'xkcd:candy pink': '#ff63e9',\n",
       " 'xkcd:very light brown': '#d3b683',\n",
       " 'xkcd:pale aqua': '#b8ffeb',\n",
       " 'xkcd:purply pink': '#f075e6',\n",
       " 'xkcd:rose pink': '#f7879a',\n",
       " 'xkcd:pumpkin': '#e17701',\n",
       " 'xkcd:light mauve': '#c292a1',\n",
       " 'xkcd:purplish blue': '#601ef9',\n",
       " 'xkcd:light violet': '#d6b4fc',\n",
       " 'xkcd:raw sienna': '#9a6200',\n",
       " 'c': (0, 0.75, 0.75),\n",
       " 'xkcd:azul': '#1d5dec',\n",
       " 'xkcd:dark purple': '#35063e',\n",
       " 'xkcd:irish green': '#019529',\n",
       " 'xkcd:purpley pink': '#c83cb9',\n",
       " 'xkcd:turtle green': '#75b84f',\n",
       " 'xkcd:grey/green': '#86a17d',\n",
       " 'xkcd:windows blue': '#3778bf',\n",
       " 'xkcd:neon pink': '#fe019a',\n",
       " 'xkcd:orchid': '#c875c4',\n",
       " 'xkcd:dark slate blue': '#214761',\n",
       " 'xkcd:faded green': '#7bb274',\n",
       " 'xkcd:melon': '#ff7855',\n",
       " 'xkcd:terra cotta': '#c9643b',\n",
       " 'xkcd:turquoise blue': '#06b1c4',\n",
       " 'xkcd:greenish gray': '#96ae8d',\n",
       " 'xkcd:blush pink': '#fe828c',\n",
       " 'xkcd:light periwinkle': '#c1c6fc',\n",
       " 'xkcd:steel gray': '#6f828a',\n",
       " 'xkcd:dull yellow': '#eedc5b',\n",
       " 'xkcd:brown': '#653700',\n",
       " 'xkcd:petrol': '#005f6a',\n",
       " 'xkcd:fuchsia': '#ed0dd9',\n",
       " 'xkcd:dodger blue': '#3e82fc',\n",
       " 'xkcd:light salmon': '#fea993',\n",
       " 'xkcd:dark yellow': '#d5b60a',\n",
       " 'xkcd:darkish pink': '#da467d',\n",
       " 'xkcd:magenta': '#c20078',\n",
       " 'xkcd:brownish gray': '#86775f',\n",
       " 'xkcd:tan': '#d1b26f',\n",
       " 'xkcd:plum': '#580f41',\n",
       " 'xkcd:orange red': '#fd411e',\n",
       " 'xkcd:browny green': '#6f6c0a',\n",
       " 'xkcd:blue/gray': '#758da3',\n",
       " 'xkcd:dusty red': '#b9484e',\n",
       " 'xkcd:bluey gray': '#89a0b0',\n",
       " 'xkcd:maroon': '#650021',\n",
       " 'xkcd:light lime green': '#b9ff66',\n",
       " 'xkcd:medium green': '#39ad48',\n",
       " 'xkcd:claret': '#680018',\n",
       " 'xkcd:royal blue': '#0504aa',\n",
       " 'xkcd:olive drab': '#6f7632',\n",
       " 'xkcd:gray brown': '#7f7053',\n",
       " 'xkcd:poison green': '#40fd14',\n",
       " 'lightsalmon': '#FFA07A',\n",
       " 'xkcd:clear blue': '#247afd',\n",
       " 'xkcd:grey pink': '#c3909b',\n",
       " 'xkcd:pea green': '#8eab12',\n",
       " 'xkcd:dark green blue': '#1f6357',\n",
       " 'xkcd:light gold': '#fddc5c',\n",
       " 'xkcd:mustard brown': '#ac7e04',\n",
       " 'xkcd:pale lime green': '#b1ff65',\n",
       " 'xkcd:poop': '#7f5e00',\n",
       " 'k': (0, 0, 0),\n",
       " 'xkcd:light teal': '#90e4c1',\n",
       " 'xkcd:dark olive': '#373e02',\n",
       " 'xkcd:coral pink': '#ff6163',\n",
       " 'xkcd:copper': '#b66325',\n",
       " 'xkcd:dark violet': '#34013f',\n",
       " 'xkcd:reddish': '#c44240',\n",
       " 'indigo': '#4B0082',\n",
       " 'xkcd:weird green': '#3ae57f',\n",
       " 'xkcd:faded pink': '#de9dac',\n",
       " 'xkcd:vibrant green': '#0add08',\n",
       " 'xkcd:pale purple': '#b790d4',\n",
       " 'xkcd:perrywinkle': '#8f8ce7',\n",
       " 'slateblue': '#6A5ACD',\n",
       " 'xkcd:bronze': '#a87900',\n",
       " 'mintcream': '#F5FFFA',\n",
       " 'xkcd:butter yellow': '#fffd74',\n",
       " 'xkcd:orange pink': '#ff6f52',\n",
       " 'xkcd:periwinkle blue': '#8f99fb',\n",
       " 'xkcd:rich blue': '#021bf9',\n",
       " 'xkcd:tealish': '#24bca8',\n",
       " 'xkcd:dark coral': '#cf524e',\n",
       " 'lavenderblush': '#FFF0F5',\n",
       " 'xkcd:lipstick': '#d5174e',\n",
       " 'xkcd:light yellow green': '#ccfd7f',\n",
       " 'xkcd:grey blue': '#6b8ba4',\n",
       " 'xkcd:raw umber': '#a75e09',\n",
       " 'xkcd:celadon': '#befdb7',\n",
       " 'xkcd:mahogany': '#4a0100',\n",
       " 'xkcd:navy green': '#35530a',\n",
       " 'xkcd:lemon yellow': '#fdff38',\n",
       " 'xkcd:foam green': '#90fda9',\n",
       " 'xkcd:ecru': '#feffca',\n",
       " 'xkcd:brownish yellow': '#c9b003',\n",
       " 'slategrey': '#708090',\n",
       " 'mediumseagreen': '#3CB371',\n",
       " 'xkcd:grey/blue': '#647d8e',\n",
       " 'xkcd:leaf green': '#5ca904',\n",
       " 'xkcd:cerulean': '#0485d1',\n",
       " 'xkcd:bright red': '#ff000d',\n",
       " 'xkcd:avocado green': '#87a922',\n",
       " 'xkcd:greyish': '#a8a495',\n",
       " 'moccasin': '#FFE4B5',\n",
       " 'xkcd:very light pink': '#fff4f2',\n",
       " 'xkcd:mushroom': '#ba9e88',\n",
       " 'xkcd:lightish purple': '#a552e6',\n",
       " 'xkcd:deep purple': '#36013f',\n",
       " 'xkcd:dark sage': '#598556',\n",
       " 'xkcd:midnight blue': '#020035',\n",
       " 'xkcd:golden rod': '#f9bc08',\n",
       " 'xkcd:royal': '#0c1793',\n",
       " 'xkcd:brown yellow': '#b29705',\n",
       " 'darkorchid': '#9932CC',\n",
       " 'xkcd:pink purple': '#db4bda',\n",
       " 'blue': '#0000FF',\n",
       " 'tab:purple': '#9467bd',\n",
       " 'xkcd:darkish purple': '#751973',\n",
       " 'xkcd:light grass green': '#9af764',\n",
       " 'xkcd:pinky purple': '#c94cbe',\n",
       " 'xkcd:orangey brown': '#b16002',\n",
       " 'xkcd:pinkish gray': '#c8aca9',\n",
       " 'xkcd:earth': '#a2653e',\n",
       " 'xkcd:deep brown': '#410200',\n",
       " 'xkcd:gray blue': '#6b8ba4',\n",
       " 'honeydew': '#F0FFF0',\n",
       " 'xkcd:mauve': '#ae7181',\n",
       " 'xkcd:poo brown': '#885f01',\n",
       " 'xkcd:neon red': '#ff073a',\n",
       " 'xkcd:sunshine yellow': '#fffd37',\n",
       " 'xkcd:pale grey': '#fdfdfe',\n",
       " 'xkcd:green/blue': '#01c08d',\n",
       " 'snow': '#FFFAFA',\n",
       " 'xkcd:yellowish green': '#b0dd16',\n",
       " 'xkcd:puke brown': '#947706',\n",
       " 'xkcd:light pastel green': '#b2fba5',\n",
       " 'xkcd:water blue': '#0e87cc',\n",
       " 'xkcd:green brown': '#544e03',\n",
       " 'lightgreen': '#90EE90',\n",
       " 'xkcd:grape purple': '#5d1451',\n",
       " 'xkcd:yellowish tan': '#fcfc81',\n",
       " 'xkcd:light olive green': '#a4be5c',\n",
       " 'xkcd:peachy pink': '#ff9a8a',\n",
       " 'xkcd:violet blue': '#510ac9',\n",
       " 'xkcd:banana yellow': '#fafe4b',\n",
       " 'xkcd:grayish teal': '#719f91',\n",
       " 'xkcd:frog green': '#58bc08',\n",
       " 'xkcd:pale sky blue': '#bdf6fe',\n",
       " 'xkcd:ultramarine': '#2000b1',\n",
       " 'xkcd:gray': '#929591',\n",
       " 'xkcd:pastel orange': '#ff964f',\n",
       " 'aquamarine': '#7FFFD4',\n",
       " 'xkcd:yellow brown': '#b79400',\n",
       " 'xkcd:yellowish orange': '#ffab0f',\n",
       " 'xkcd:emerald green': '#028f1e',\n",
       " 'xkcd:neon purple': '#bc13fe',\n",
       " 'xkcd:light mint': '#b6ffbb',\n",
       " 'xkcd:electric lime': '#a8ff04',\n",
       " 'salmon': '#FA8072',\n",
       " 'xkcd:off green': '#6ba353',\n",
       " 'xkcd:drab': '#828344',\n",
       " 'xkcd:cobalt': '#1e488f',\n",
       " 'xkcd:green/yellow': '#b5ce08',\n",
       " 'xkcd:moss green': '#658b38',\n",
       " 'indianred': '#CD5C5C',\n",
       " 'maroon': '#800000',\n",
       " 'xkcd:metallic blue': '#4f738e',\n",
       " 'linen': '#FAF0E6',\n",
       " 'xkcd:leather': '#ac7434',\n",
       " 'xkcd:almost black': '#070d0d',\n",
       " 'xkcd:cerise': '#de0c62',\n",
       " 'xkcd:cool green': '#33b864',\n",
       " 'xkcd:pistachio': '#c0fa8b',\n",
       " 'xkcd:bright lime': '#87fd05',\n",
       " 'xkcd:pinkish orange': '#ff724c',\n",
       " 'xkcd:lawn green': '#4da409',\n",
       " 'xkcd:greenish cyan': '#2afeb7',\n",
       " 'xkcd:dark orange': '#c65102',\n",
       " 'xkcd:coral': '#fc5a50',\n",
       " 'xkcd:greenish yellow': '#cdfd02',\n",
       " 'xkcd:dull red': '#bb3f3f',\n",
       " 'xkcd:mustard': '#ceb301',\n",
       " 'lightgrey': '#D3D3D3',\n",
       " 'xkcd:medium gray': '#7d7f7c',\n",
       " 'xkcd:ocean green': '#3d9973',\n",
       " 'xkcd:light sage': '#bcecac',\n",
       " 'xkcd:blue gray': '#607c8e',\n",
       " 'xkcd:lavender pink': '#dd85d7',\n",
       " 'xkcd:greenish': '#40a368',\n",
       " 'xkcd:dusty rose': '#c0737a',\n",
       " 'tab:blue': '#1f77b4',\n",
       " 'xkcd:ice blue': '#d7fffe',\n",
       " 'xkcd:hunter green': '#0b4008',\n",
       " 'xkcd:dusty lavender': '#ac86a8',\n",
       " 'xkcd:purple blue': '#632de9',\n",
       " 'xkcd:cornflower blue': '#5170d7',\n",
       " 'xkcd:tomato red': '#ec2d01',\n",
       " 'xkcd:steel grey': '#6f828a',\n",
       " 'xkcd:bottle green': '#044a05',\n",
       " 'xkcd:pink/purple': '#ef1de7',\n",
       " 'darksalmon': '#E9967A',\n",
       " 'xkcd:light eggplant': '#894585',\n",
       " 'xkcd:liliac': '#c48efd',\n",
       " 'xkcd:dull purple': '#84597e',\n",
       " 'xkcd:sunflower yellow': '#ffda03',\n",
       " 'xkcd:bluey green': '#2bb179',\n",
       " 'xkcd:burnt orange': '#c04e01',\n",
       " 'slategray': '#708090',\n",
       " 'xkcd:rust red': '#aa2704',\n",
       " 'xkcd:electric green': '#21fc0d',\n",
       " 'xkcd:purplish pink': '#ce5dae',\n",
       " 'xkcd:dark brown': '#341c02',\n",
       " 'gold': '#FFD700',\n",
       " 'tab:green': '#2ca02c',\n",
       " 'darkcyan': '#008B8B',\n",
       " 'xkcd:turquoise green': '#04f489',\n",
       " 'xkcd:jungle green': '#048243',\n",
       " 'cyan': '#00FFFF',\n",
       " 'powderblue': '#B0E0E6',\n",
       " 'xkcd:royal purple': '#4b006e',\n",
       " 'xkcd:military green': '#667c3e',\n",
       " 'xkcd:ocean': '#017b92',\n",
       " 'xkcd:light lilac': '#edc8ff',\n",
       " 'xkcd:sunflower': '#ffc512',\n",
       " 'xkcd:orangey red': '#fa4224',\n",
       " 'xkcd:dark navy blue': '#00022e',\n",
       " 'xkcd:purpley': '#8756e4',\n",
       " 'xkcd:light orange': '#fdaa48',\n",
       " 'coral': '#FF7F50',\n",
       " 'xkcd:brownish purple': '#76424e',\n",
       " 'xkcd:lighter purple': '#a55af4',\n",
       " 'xkcd:light yellowish green': '#c2ff89',\n",
       " 'xkcd:neon green': '#0cff0c',\n",
       " 'xkcd:ugly blue': '#31668a',\n",
       " 'beige': '#F5F5DC',\n",
       " 'darkgoldenrod': '#B8860B',\n",
       " 'xkcd:grayish': '#a8a495',\n",
       " 'xkcd:brick orange': '#c14a09',\n",
       " 'xkcd:greenblue': '#23c48b',\n",
       " 'tab:gray': '#7f7f7f',\n",
       " 'xkcd:asparagus': '#77ab56',\n",
       " 'pink': '#FFC0CB',\n",
       " 'xkcd:golden': '#f5bf03',\n",
       " 'xkcd:darkish blue': '#014182',\n",
       " 'floralwhite': '#FFFAF0',\n",
       " 'plum': '#DDA0DD',\n",
       " 'xkcd:yellow green': '#c0fb2d',\n",
       " 'xkcd:bluegrey': '#85a3b2',\n",
       " 'xkcd:light seafoam': '#a0febf',\n",
       " 'xkcd:orange': '#f97306',\n",
       " 'xkcd:cranberry': '#9e003a',\n",
       " 'xkcd:swamp green': '#748500',\n",
       " 'xkcd:light burgundy': '#a8415b',\n",
       " 'xkcd:light blue green': '#7efbb3',\n",
       " 'xkcd:beige': '#e6daa6',\n",
       " 'xkcd:lightish red': '#fe2f4a',\n",
       " 'xkcd:fluro green': '#0aff02',\n",
       " 'wheat': '#F5DEB3',\n",
       " 'xkcd:browny orange': '#ca6b02',\n",
       " 'xkcd:aquamarine': '#04d8b2',\n",
       " 'xkcd:light light green': '#c8ffb0',\n",
       " 'xkcd:canary': '#fdff63',\n",
       " 'xkcd:cement': '#a5a391',\n",
       " 'xkcd:seaweed green': '#35ad6b',\n",
       " 'xkcd:light aqua': '#8cffdb',\n",
       " 'xkcd:gunmetal': '#536267',\n",
       " 'xkcd:sandy brown': '#c4a661',\n",
       " 'xkcd:dusty teal': '#4c9085',\n",
       " 'seagreen': '#2E8B57',\n",
       " 'xkcd:fern green': '#548d44',\n",
       " 'xkcd:bluegreen': '#017a79',\n",
       " 'xkcd:barney': '#ac1db8',\n",
       " 'xkcd:violet': '#9a0eea',\n",
       " 'xkcd:denim': '#3b638c',\n",
       " 'xkcd:key lime': '#aeff6e',\n",
       " 'xkcd:stone': '#ada587',\n",
       " 'xkcd:dark gray': '#363737',\n",
       " 'xkcd:baby shit brown': '#ad900d',\n",
       " 'xkcd:warm gray': '#978a84',\n",
       " 'xkcd:deep teal': '#00555a',\n",
       " 'black': '#000000',\n",
       " 'xkcd:blue': '#0343df',\n",
       " 'xkcd:algae green': '#21c36f',\n",
       " 'xkcd:soft green': '#6fc276',\n",
       " 'xkcd:lavender': '#c79fef',\n",
       " 'xkcd:pale blue': '#d0fefe',\n",
       " 'antiquewhite': '#FAEBD7',\n",
       " 'xkcd:light lavender': '#dfc5fe',\n",
       " 'xkcd:sea': '#3c9992',\n",
       " 'mediumblue': '#0000CD',\n",
       " 'xkcd:bubble gum pink': '#ff69af',\n",
       " 'xkcd:dull green': '#74a662',\n",
       " 'xkcd:ugly purple': '#a442a0',\n",
       " 'xkcd:grayish purple': '#887191',\n",
       " 'xkcd:dull pink': '#d5869d',\n",
       " 'xkcd:sepia': '#985e2b',\n",
       " 'xkcd:slime green': '#99cc04',\n",
       " 'xkcd:bright sky blue': '#02ccfe',\n",
       " 'xkcd:sage': '#87ae73',\n",
       " 'xkcd:warm purple': '#952e8f',\n",
       " 'xkcd:sea blue': '#047495',\n",
       " 'xkcd:shit green': '#758000',\n",
       " 'xkcd:steel blue': '#5a7d9a',\n",
       " 'xkcd:terracota': '#cb6843',\n",
       " 'xkcd:tangerine': '#ff9408',\n",
       " 'tab:cyan': '#17becf',\n",
       " 'xkcd:sienna': '#a9561e',\n",
       " 'skyblue': '#87CEEB',\n",
       " 'xkcd:grass': '#5cac2d',\n",
       " 'xkcd:blurple': '#5539cc',\n",
       " 'xkcd:rust': '#a83c09',\n",
       " 'xkcd:mustard yellow': '#d2bd0a',\n",
       " 'xkcd:light navy blue': '#2e5a88',\n",
       " 'xkcd:muted purple': '#805b87',\n",
       " 'xkcd:denim blue': '#3b5b92',\n",
       " 'xkcd:red': '#e50000',\n",
       " 'xkcd:cadet blue': '#4e7496',\n",
       " 'xkcd:dark mint': '#48c072',\n",
       " 'xkcd:bubblegum pink': '#fe83cc',\n",
       " 'xkcd:nasty green': '#70b23f',\n",
       " 'xkcd:light blue': '#95d0fc',\n",
       " 'w': (1, 1, 1),\n",
       " 'lightgray': '#D3D3D3',\n",
       " 'xkcd:deep pink': '#cb0162',\n",
       " 'white': '#FFFFFF',\n",
       " 'xkcd:greenish brown': '#696112',\n",
       " 'xkcd:medium purple': '#9e43a2',\n",
       " 'xkcd:scarlet': '#be0119',\n",
       " 'xkcd:snot green': '#9dc100',\n",
       " 'xkcd:deep sea blue': '#015482',\n",
       " 'xkcd:pastel blue': '#a2bffe',\n",
       " 'xkcd:slate gray': '#59656d',\n",
       " 'xkcd:warm brown': '#964e02',\n",
       " 'ivory': '#FFFFF0',\n",
       " 'xkcd:brownish grey': '#86775f',\n",
       " 'xkcd:purplish red': '#b0054b',\n",
       " 'xkcd:muddy brown': '#886806',\n",
       " 'xkcd:really light blue': '#d4ffff',\n",
       " 'xkcd:greeny brown': '#696006',\n",
       " 'xkcd:purple gray': '#866f85',\n",
       " 'xkcd:hot magenta': '#f504c9',\n",
       " 'xkcd:olive': '#6e750e',\n",
       " 'xkcd:orange yellow': '#ffad01',\n",
       " 'xkcd:clay': '#b66a50',\n",
       " 'xkcd:sand yellow': '#fce166',\n",
       " 'xkcd:yellowgreen': '#bbf90f',\n",
       " 'xkcd:purplish': '#94568c',\n",
       " 'xkcd:bile': '#b5c306',\n",
       " 'xkcd:greenish turquoise': '#00fbb0',\n",
       " 'xkcd:bordeaux': '#7b002c',\n",
       " 'xkcd:rusty red': '#af2f0d',\n",
       " 'xkcd:camo green': '#526525',\n",
       " 'xkcd:blue green': '#137e6d',\n",
       " 'xkcd:kelley green': '#009337',\n",
       " 'xkcd:pale magenta': '#d767ad',\n",
       " 'xkcd:green teal': '#0cb577',\n",
       " 'xkcd:lightish blue': '#3d7afd',\n",
       " 'xkcd:purple': '#7e1e9c',\n",
       " 'xkcd:electric purple': '#aa23ff',\n",
       " 'xkcd:deep lilac': '#966ebd',\n",
       " 'xkcd:cherry red': '#f7022a',\n",
       " 'xkcd:dusty pink': '#d58a94',\n",
       " 'xkcd:dark beige': '#ac9362',\n",
       " 'xkcd:mulberry': '#920a4e',\n",
       " 'azure': '#F0FFFF',\n",
       " 'xkcd:orange brown': '#be6400',\n",
       " 'darkolivegreen': '#556B2F',\n",
       " 'greenyellow': '#ADFF2F',\n",
       " 'xkcd:very dark blue': '#000133',\n",
       " 'xkcd:olive brown': '#645403',\n",
       " 'xkcd:puke': '#a5a502',\n",
       " 'tomato': '#FF6347',\n",
       " 'xkcd:neon yellow': '#cfff04',\n",
       " 'xkcd:drab green': '#749551',\n",
       " 'xkcd:pastel purple': '#caa0ff',\n",
       " 'yellowgreen': '#9ACD32',\n",
       " 'xkcd:purpley blue': '#5f34e7',\n",
       " 'xkcd:dusty purple': '#825f87',\n",
       " 'xkcd:greeny gray': '#7ea07a',\n",
       " 'xkcd:greenish tan': '#bccb7a',\n",
       " 'xkcd:banana': '#ffff7e',\n",
       " 'xkcd:light pink': '#ffd1df',\n",
       " 'orangered': '#FF4500',\n",
       " 'xkcd:sapphire': '#2138ab',\n",
       " 'xkcd:acid green': '#8ffe09',\n",
       " 'xkcd:heather': '#a484ac',\n",
       " 'xkcd:greyish green': '#82a67d',\n",
       " 'xkcd:desert': '#ccad60',\n",
       " 'xkcd:muted green': '#5fa052',\n",
       " 'xkcd:dark gold': '#b59410',\n",
       " 'lightpink': '#FFB6C1',\n",
       " 'lightseagreen': '#20B2AA',\n",
       " 'xkcd:mocha': '#9d7651',\n",
       " 'xkcd:baby blue': '#a2cffe',\n",
       " 'xkcd:green yellow': '#c9ff27',\n",
       " 'peachpuff': '#FFDAB9',\n",
       " 'xkcd:medium blue': '#2c6fbb',\n",
       " 'xkcd:dark pink': '#cb416b',\n",
       " 'xkcd:dark grey': '#363737',\n",
       " 'xkcd:purply blue': '#661aee',\n",
       " 'xkcd:shocking pink': '#fe02a2',\n",
       " 'xkcd:pastel pink': '#ffbacd',\n",
       " 'xkcd:pale teal': '#82cbb2',\n",
       " 'xkcd:swamp': '#698339',\n",
       " 'xkcd:mud green': '#606602',\n",
       " 'xkcd:bluish purple': '#703be7',\n",
       " 'xkcd:pinkish grey': '#c8aca9',\n",
       " 'xkcd:greyish brown': '#7a6a4f',\n",
       " 'xkcd:blue grey': '#607c8e',\n",
       " 'xkcd:plum purple': '#4e0550',\n",
       " 'xkcd:ice': '#d6fffa',\n",
       " 'xkcd:apple green': '#76cd26',\n",
       " 'm': (0.75, 0, 0.75),\n",
       " 'xkcd:violet red': '#a50055',\n",
       " 'mediumslateblue': '#7B68EE',\n",
       " 'xkcd:dark indigo': '#1f0954',\n",
       " 'deepskyblue': '#00BFFF',\n",
       " 'xkcd:dark tan': '#af884a',\n",
       " 'xkcd:bright aqua': '#0bf9ea',\n",
       " 'xkcd:ruby': '#ca0147',\n",
       " 'deeppink': '#FF1493',\n",
       " 'chocolate': '#D2691E',\n",
       " 'xkcd:light peach': '#ffd8b1',\n",
       " 'xkcd:brownish red': '#9e3623',\n",
       " 'xkcd:pastel yellow': '#fffe71',\n",
       " 'xkcd:cool blue': '#4984b8',\n",
       " 'xkcd:grass green': '#3f9b0b',\n",
       " 'xkcd:crimson': '#8c000f',\n",
       " 'xkcd:blood red': '#980002',\n",
       " 'xkcd:toxic green': '#61de2a',\n",
       " 'xkcd:ivory': '#ffffcb',\n",
       " 'mediumorchid': '#BA55D3',\n",
       " 'xkcd:light red': '#ff474c',\n",
       " 'xkcd:flat blue': '#3c73a8',\n",
       " 'xkcd:pink': '#ff81c0',\n",
       " 'xkcd:pale violet': '#ceaefa',\n",
       " 'xkcd:dull orange': '#d8863b',\n",
       " 'xkcd:jade green': '#2baf6a',\n",
       " 'xkcd:medium pink': '#f36196',\n",
       " 'xkcd:canary yellow': '#fffe40',\n",
       " 'paleturquoise': '#AFEEEE',\n",
       " 'xkcd:wintergreen': '#20f986',\n",
       " 'cornsilk': '#FFF8DC',\n",
       " 'xkcd:dark olive green': '#3c4d03',\n",
       " 'xkcd:dark navy': '#000435',\n",
       " 'xkcd:dark': '#1b2431',\n",
       " 'xkcd:twilight blue': '#0a437a',\n",
       " 'xkcd:red purple': '#820747',\n",
       " 'xkcd:grayish blue': '#5e819d',\n",
       " 'xkcd:sandy': '#f1da7a',\n",
       " 'green': '#008000',\n",
       " 'xkcd:vivid green': '#2fef10',\n",
       " 'xkcd:putty': '#beae8a',\n",
       " 'xkcd:burple': '#6832e3',\n",
       " 'xkcd:faded red': '#d3494e',\n",
       " 'xkcd:bluegray': '#85a3b2',\n",
       " 'xkcd:chartreuse': '#c1f80a',\n",
       " 'xkcd:dark aquamarine': '#017371',\n",
       " 'xkcd:night blue': '#040348',\n",
       " 'xkcd:prussian blue': '#004577',\n",
       " 'xkcd:sun yellow': '#ffdf22',\n",
       " 'xkcd:brownish orange': '#cb7723',\n",
       " 'xkcd:darkgreen': '#054907',\n",
       " 'xkcd:lime yellow': '#d0fe1d',\n",
       " 'xkcd:faded orange': '#f0944d',\n",
       " 'xkcd:purpleish pink': '#df4ec8',\n",
       " 'xkcd:pale mauve': '#fed0fc',\n",
       " 'xkcd:brown green': '#706c11',\n",
       " 'xkcd:pale gray': '#fdfdfe',\n",
       " 'xkcd:custard': '#fffd78',\n",
       " 'xkcd:carmine': '#9d0216',\n",
       " 'xkcd:bright yellow': '#fffd01',\n",
       " 'xkcd:kelly green': '#02ab2e',\n",
       " 'bisque': '#FFE4C4',\n",
       " 'xkcd:spruce': '#0a5f38',\n",
       " 'xkcd:baby green': '#8cff9e',\n",
       " 'xkcd:faded blue': '#658cbb',\n",
       " 'xkcd:dark lavender': '#856798',\n",
       " 'lightslategrey': '#778899',\n",
       " 'xkcd:very pale green': '#cffdbc',\n",
       " 'xkcd:carnation pink': '#ff7fa7',\n",
       " 'dimgray': '#696969',\n",
       " 'xkcd:eggshell blue': '#c4fff7',\n",
       " 'darkgray': '#A9A9A9',\n",
       " 'oldlace': '#FDF5E6',\n",
       " 'xkcd:piss yellow': '#ddd618',\n",
       " 'xkcd:very dark purple': '#2a0134',\n",
       " 'xkcd:tiffany blue': '#7bf2da',\n",
       " 'xkcd:shamrock green': '#02c14d',\n",
       " 'xkcd:old pink': '#c77986',\n",
       " 'xkcd:cocoa': '#875f42',\n",
       " 'xkcd:cinnamon': '#ac4f06',\n",
       " 'xkcd:pale green': '#c7fdb5',\n",
       " 'ghostwhite': '#F8F8FF',\n",
       " 'xkcd:pale': '#fff9d0',\n",
       " 'xkcd:orangered': '#fe420f',\n",
       " 'xkcd:purple/pink': '#d725de',\n",
       " 'xkcd:dust': '#b2996e',\n",
       " 'xkcd:aubergine': '#3d0734',\n",
       " 'xkcd:baby pink': '#ffb7ce',\n",
       " 'xkcd:purple/blue': '#5d21d0',\n",
       " 'xkcd:purplish gray': '#7a687f',\n",
       " 'xkcd:aqua marine': '#2ee8bb',\n",
       " 'xkcd:primary blue': '#0804f9',\n",
       " 'aqua': '#00FFFF',\n",
       " 'xkcd:dark cyan': '#0a888a',\n",
       " 'xkcd:grassy green': '#419c03',\n",
       " 'xkcd:bright lilac': '#c95efb',\n",
       " 'xkcd:soft purple': '#a66fb5',\n",
       " 'xkcd:seafoam green': '#7af9ab',\n",
       " 'xkcd:light rose': '#ffc5cb',\n",
       " 'xkcd:pea soup green': '#94a617',\n",
       " 'xkcd:kiwi green': '#8ee53f',\n",
       " 'xkcd:greyish purple': '#887191',\n",
       " 'xkcd:sea green': '#53fca1',\n",
       " 'xkcd:dark seafoam': '#1fb57a',\n",
       " 'darkturquoise': '#00CED1',\n",
       " 'xkcd:brownish': '#9c6d57',\n",
       " 'xkcd:lemon': '#fdff52',\n",
       " 'xkcd:muted blue': '#3b719f',\n",
       " 'peru': '#CD853F',\n",
       " 'tab:orange': '#ff7f0e',\n",
       " 'r': (1, 0, 0),\n",
       " 'xkcd:minty green': '#0bf77d',\n",
       " 'xkcd:dark blue grey': '#1f3b4d',\n",
       " 'xkcd:purpleish blue': '#6140ef',\n",
       " 'xkcd:light purple': '#bf77f6',\n",
       " 'xkcd:seafoam blue': '#78d1b6',\n",
       " 'violet': '#EE82EE',\n",
       " 'tab:grey': '#7f7f7f',\n",
       " 'xkcd:auburn': '#9a3001',\n",
       " 'xkcd:greenish teal': '#32bf84',\n",
       " 'xkcd:deep orange': '#dc4d01',\n",
       " 'xkcd:dusky pink': '#cc7a8b',\n",
       " 'lightsteelblue': '#B0C4DE',\n",
       " 'xkcd:pale olive': '#b9cc81',\n",
       " 'aliceblue': '#F0F8FF',\n",
       " 'navy': '#000080',\n",
       " 'xkcd:yellowish': '#faee66',\n",
       " 'xkcd:cool gray': '#95a3a6',\n",
       " 'xkcd:very light blue': '#d5ffff',\n",
       " 'darkgreen': '#006400',\n",
       " 'xkcd:camouflage green': '#4b6113',\n",
       " 'xkcd:chestnut': '#742802',\n",
       " 'royalblue': '#4169E1',\n",
       " 'xkcd:umber': '#b26400',\n",
       " 'xkcd:deep red': '#9a0200',\n",
       " 'xkcd:tree green': '#2a7e19',\n",
       " 'goldenrod': '#DAA520',\n",
       " 'xkcd:sage green': '#88b378',\n",
       " 'xkcd:purple brown': '#673a3f',\n",
       " 'yellow': '#FFFF00',\n",
       " 'xkcd:dandelion': '#fedf08',\n",
       " 'rebeccapurple': '#663399',\n",
       " 'xkcd:dusty orange': '#f0833a',\n",
       " 'xkcd:dirty yellow': '#cdc50a',\n",
       " 'y': (0.75, 0.75, 0),\n",
       " 'firebrick': '#B22222',\n",
       " 'xkcd:true green': '#089404',\n",
       " 'xkcd:eggplant purple': '#430541',\n",
       " 'xkcd:dusk blue': '#26538d',\n",
       " 'xkcd:steel': '#738595',\n",
       " 'xkcd:diarrhea': '#9f8303',\n",
       " 'brown': '#A52A2A',\n",
       " 'xkcd:french blue': '#436bad',\n",
       " 'xkcd:light grey': '#d8dcd6',\n",
       " 'xkcd:greyish teal': '#719f91',\n",
       " 'xkcd:radioactive green': '#2cfa1f',\n",
       " 'xkcd:dark red': '#840000',\n",
       " 'darkgrey': '#A9A9A9',\n",
       " 'xkcd:orangeish': '#fd8d49',\n",
       " 'xkcd:purple pink': '#e03fd8',\n",
       " 'red': '#FF0000',\n",
       " 'xkcd:bright sea green': '#05ffa6',\n",
       " 'xkcd:bluish gray': '#748b97',\n",
       " 'xkcd:navy blue': '#001146',\n",
       " 'xkcd:khaki': '#aaa662',\n",
       " 'xkcd:electric pink': '#ff0490',\n",
       " 'xkcd:sky blue': '#75bbfd',\n",
       " 'xkcd:eggshell': '#ffffd4',\n",
       " ...}"
      ]
     },
     "execution_count": 111,
     "metadata": {},
     "output_type": "execute_result"
    }
   ],
   "source": [
    "colormapping = mcolors.get_named_colors_mapping()\n",
    "colormapping"
   ]
  },
  {
   "cell_type": "code",
   "execution_count": 67,
   "metadata": {},
   "outputs": [
    {
     "data": {
      "text/plain": [
       "{'b': (0, 0, 1),\n",
       " 'c': (0, 0.75, 0.75),\n",
       " 'g': (0, 0.5, 0),\n",
       " 'k': (0, 0, 0),\n",
       " 'm': (0.75, 0, 0.75),\n",
       " 'r': (1, 0, 0),\n",
       " 'w': (1, 1, 1),\n",
       " 'y': (0.75, 0.75, 0)}"
      ]
     },
     "execution_count": 67,
     "metadata": {},
     "output_type": "execute_result"
    }
   ],
   "source": [
    "mcolors.BASE_COLORS\n",
    "## color name and rgb values"
   ]
  },
  {
   "cell_type": "code",
   "execution_count": 109,
   "metadata": {},
   "outputs": [
    {
     "data": {
      "text/plain": [
       "{'aliceblue': '#F0F8FF',\n",
       " 'antiquewhite': '#FAEBD7',\n",
       " 'aqua': '#00FFFF',\n",
       " 'aquamarine': '#7FFFD4',\n",
       " 'azure': '#F0FFFF',\n",
       " 'beige': '#F5F5DC',\n",
       " 'bisque': '#FFE4C4',\n",
       " 'black': '#000000',\n",
       " 'blanchedalmond': '#FFEBCD',\n",
       " 'blue': '#0000FF',\n",
       " 'blueviolet': '#8A2BE2',\n",
       " 'brown': '#A52A2A',\n",
       " 'burlywood': '#DEB887',\n",
       " 'cadetblue': '#5F9EA0',\n",
       " 'chartreuse': '#7FFF00',\n",
       " 'chocolate': '#D2691E',\n",
       " 'coral': '#FF7F50',\n",
       " 'cornflowerblue': '#6495ED',\n",
       " 'cornsilk': '#FFF8DC',\n",
       " 'crimson': '#DC143C',\n",
       " 'cyan': '#00FFFF',\n",
       " 'darkblue': '#00008B',\n",
       " 'darkcyan': '#008B8B',\n",
       " 'darkgoldenrod': '#B8860B',\n",
       " 'darkgray': '#A9A9A9',\n",
       " 'darkgreen': '#006400',\n",
       " 'darkgrey': '#A9A9A9',\n",
       " 'darkkhaki': '#BDB76B',\n",
       " 'darkmagenta': '#8B008B',\n",
       " 'darkolivegreen': '#556B2F',\n",
       " 'darkorange': '#FF8C00',\n",
       " 'darkorchid': '#9932CC',\n",
       " 'darkred': '#8B0000',\n",
       " 'darksalmon': '#E9967A',\n",
       " 'darkseagreen': '#8FBC8F',\n",
       " 'darkslateblue': '#483D8B',\n",
       " 'darkslategray': '#2F4F4F',\n",
       " 'darkslategrey': '#2F4F4F',\n",
       " 'darkturquoise': '#00CED1',\n",
       " 'darkviolet': '#9400D3',\n",
       " 'deeppink': '#FF1493',\n",
       " 'deepskyblue': '#00BFFF',\n",
       " 'dimgray': '#696969',\n",
       " 'dimgrey': '#696969',\n",
       " 'dodgerblue': '#1E90FF',\n",
       " 'firebrick': '#B22222',\n",
       " 'floralwhite': '#FFFAF0',\n",
       " 'forestgreen': '#228B22',\n",
       " 'fuchsia': '#FF00FF',\n",
       " 'gainsboro': '#DCDCDC',\n",
       " 'ghostwhite': '#F8F8FF',\n",
       " 'gold': '#FFD700',\n",
       " 'goldenrod': '#DAA520',\n",
       " 'gray': '#808080',\n",
       " 'green': '#008000',\n",
       " 'greenyellow': '#ADFF2F',\n",
       " 'grey': '#808080',\n",
       " 'honeydew': '#F0FFF0',\n",
       " 'hotpink': '#FF69B4',\n",
       " 'indianred': '#CD5C5C',\n",
       " 'indigo': '#4B0082',\n",
       " 'ivory': '#FFFFF0',\n",
       " 'khaki': '#F0E68C',\n",
       " 'lavender': '#E6E6FA',\n",
       " 'lavenderblush': '#FFF0F5',\n",
       " 'lawngreen': '#7CFC00',\n",
       " 'lemonchiffon': '#FFFACD',\n",
       " 'lightblue': '#ADD8E6',\n",
       " 'lightcoral': '#F08080',\n",
       " 'lightcyan': '#E0FFFF',\n",
       " 'lightgoldenrodyellow': '#FAFAD2',\n",
       " 'lightgray': '#D3D3D3',\n",
       " 'lightgreen': '#90EE90',\n",
       " 'lightgrey': '#D3D3D3',\n",
       " 'lightpink': '#FFB6C1',\n",
       " 'lightsalmon': '#FFA07A',\n",
       " 'lightseagreen': '#20B2AA',\n",
       " 'lightskyblue': '#87CEFA',\n",
       " 'lightslategray': '#778899',\n",
       " 'lightslategrey': '#778899',\n",
       " 'lightsteelblue': '#B0C4DE',\n",
       " 'lightyellow': '#FFFFE0',\n",
       " 'lime': '#00FF00',\n",
       " 'limegreen': '#32CD32',\n",
       " 'linen': '#FAF0E6',\n",
       " 'magenta': '#FF00FF',\n",
       " 'maroon': '#800000',\n",
       " 'mediumaquamarine': '#66CDAA',\n",
       " 'mediumblue': '#0000CD',\n",
       " 'mediumorchid': '#BA55D3',\n",
       " 'mediumpurple': '#9370DB',\n",
       " 'mediumseagreen': '#3CB371',\n",
       " 'mediumslateblue': '#7B68EE',\n",
       " 'mediumspringgreen': '#00FA9A',\n",
       " 'mediumturquoise': '#48D1CC',\n",
       " 'mediumvioletred': '#C71585',\n",
       " 'midnightblue': '#191970',\n",
       " 'mintcream': '#F5FFFA',\n",
       " 'mistyrose': '#FFE4E1',\n",
       " 'moccasin': '#FFE4B5',\n",
       " 'navajowhite': '#FFDEAD',\n",
       " 'navy': '#000080',\n",
       " 'oldlace': '#FDF5E6',\n",
       " 'olive': '#808000',\n",
       " 'olivedrab': '#6B8E23',\n",
       " 'orange': '#FFA500',\n",
       " 'orangered': '#FF4500',\n",
       " 'orchid': '#DA70D6',\n",
       " 'palegoldenrod': '#EEE8AA',\n",
       " 'palegreen': '#98FB98',\n",
       " 'paleturquoise': '#AFEEEE',\n",
       " 'palevioletred': '#DB7093',\n",
       " 'papayawhip': '#FFEFD5',\n",
       " 'peachpuff': '#FFDAB9',\n",
       " 'peru': '#CD853F',\n",
       " 'pink': '#FFC0CB',\n",
       " 'plum': '#DDA0DD',\n",
       " 'powderblue': '#B0E0E6',\n",
       " 'purple': '#800080',\n",
       " 'rebeccapurple': '#663399',\n",
       " 'red': '#FF0000',\n",
       " 'rosybrown': '#BC8F8F',\n",
       " 'royalblue': '#4169E1',\n",
       " 'saddlebrown': '#8B4513',\n",
       " 'salmon': '#FA8072',\n",
       " 'sandybrown': '#F4A460',\n",
       " 'seagreen': '#2E8B57',\n",
       " 'seashell': '#FFF5EE',\n",
       " 'sienna': '#A0522D',\n",
       " 'silver': '#C0C0C0',\n",
       " 'skyblue': '#87CEEB',\n",
       " 'slateblue': '#6A5ACD',\n",
       " 'slategray': '#708090',\n",
       " 'slategrey': '#708090',\n",
       " 'snow': '#FFFAFA',\n",
       " 'springgreen': '#00FF7F',\n",
       " 'steelblue': '#4682B4',\n",
       " 'tan': '#D2B48C',\n",
       " 'teal': '#008080',\n",
       " 'thistle': '#D8BFD8',\n",
       " 'tomato': '#FF6347',\n",
       " 'turquoise': '#40E0D0',\n",
       " 'violet': '#EE82EE',\n",
       " 'wheat': '#F5DEB3',\n",
       " 'white': '#FFFFFF',\n",
       " 'whitesmoke': '#F5F5F5',\n",
       " 'yellow': '#FFFF00',\n",
       " 'yellowgreen': '#9ACD32'}"
      ]
     },
     "execution_count": 109,
     "metadata": {},
     "output_type": "execute_result"
    }
   ],
   "source": [
    "mcolors.CSS4_COLORS\n",
    "## color name and "
   ]
  }
 ],
 "metadata": {
  "kernelspec": {
   "display_name": "Python 3",
   "language": "python",
   "name": "python3"
  },
  "language_info": {
   "codemirror_mode": {
    "name": "ipython",
    "version": 3
   },
   "file_extension": ".py",
   "mimetype": "text/x-python",
   "name": "python",
   "nbconvert_exporter": "python",
   "pygments_lexer": "ipython3",
   "version": "3.5.5"
  }
 },
 "nbformat": 4,
 "nbformat_minor": 2
}
