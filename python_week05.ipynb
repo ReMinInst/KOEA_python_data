{
 "cells": [
  {
   "cell_type": "markdown",
   "metadata": {},
   "source": [
    "# Python Week 5"
   ]
  },
  {
   "cell_type": "markdown",
   "metadata": {},
   "source": [
    "October 12, 2019\n",
    "\n",
    "This week, we dig into numpy and matplotlib more since these two packages are frequently used for processing and plotting  data. We are slowly entering into data science. \n",
    "\n",
    "For numpy, we need to understand reshaping and slicing. Reshaping means change the shape of dataset for example, from a 2D matrix form to a 1D vector form. Slicing is a convenient, simple notation to access partial data. If our data is a 3D matrix like cube, how do we plot/handle the top layer like a 2D image? This kind of job can be done easily using the slicing technique. We'll experiment with 28x28 figures in the MNIST dataset. A small portion of it is provided for your convenience in the github directory. \n",
    "For matplotlib, we try to visualize 2D data (image) as we plotted time series data last week. For 2D plotting, we'll use plt.imshow and many options will be tested to make our plots more beautiful and impressive.\n",
    "\n",
    "Enjoy this week's example."
   ]
  },
  {
   "cell_type": "code",
   "execution_count": 85,
   "metadata": {},
   "outputs": [],
   "source": [
    "import numpy as np\n",
    "import scipy as sp\n",
    "import matplotlib.pyplot as plt\n",
    "from matplotlib import cm"
   ]
  },
  {
   "cell_type": "markdown",
   "metadata": {},
   "source": [
    "## slicing"
   ]
  },
  {
   "cell_type": "code",
   "execution_count": 17,
   "metadata": {},
   "outputs": [],
   "source": [
    "my1d = np.random.randn(5)"
   ]
  },
  {
   "cell_type": "code",
   "execution_count": 18,
   "metadata": {},
   "outputs": [
    {
     "data": {
      "text/plain": [
       "array([0.32171054, 0.43765947, 0.1473978 , 1.68257159, 0.61342921])"
      ]
     },
     "execution_count": 18,
     "metadata": {},
     "output_type": "execute_result"
    }
   ],
   "source": [
    "my1d"
   ]
  },
  {
   "cell_type": "code",
   "execution_count": 19,
   "metadata": {},
   "outputs": [
    {
     "name": "stdout",
     "output_type": "stream",
     "text": [
      "0.3217105421912333\n"
     ]
    }
   ],
   "source": [
    "# how do we access the first element?\n",
    "print(my1d[0])"
   ]
  },
  {
   "cell_type": "code",
   "execution_count": 22,
   "metadata": {},
   "outputs": [
    {
     "name": "stdout",
     "output_type": "stream",
     "text": [
      "[0.32171054 0.43765947]\n"
     ]
    }
   ],
   "source": [
    "# how about first two elements?\n",
    "print(my1d[0:2])"
   ]
  },
  {
   "cell_type": "code",
   "execution_count": 28,
   "metadata": {},
   "outputs": [
    {
     "name": "stdout",
     "output_type": "stream",
     "text": [
      "[0.32171054 0.1473978  0.61342921]\n",
      "[0.32171054 0.1473978  0.61342921]\n"
     ]
    }
   ],
   "source": [
    "# how about first, third, fifth, skipping by one.\n",
    "print(my1d[0::2]) # print(my1d[0:5:2]) will give you the same result\n",
    "# please not that my1d[0:1] will give you only the first element.\n",
    "# because the second index is not included.\n",
    "# my1d[n1:n2] will show elements from n1 to n2-1.\n",
    "# let's try it\n",
    "print(my1d[0:5:2])"
   ]
  },
  {
   "cell_type": "code",
   "execution_count": null,
   "metadata": {},
   "outputs": [],
   "source": [
    "# how to access the last element?\n",
    "# will this work? \n",
    "print(my1d[5])"
   ]
  },
  {
   "cell_type": "code",
   "execution_count": 34,
   "metadata": {},
   "outputs": [
    {
     "name": "stdout",
     "output_type": "stream",
     "text": [
      "0.6134292054482687\n",
      "0.6134292054482687\n"
     ]
    }
   ],
   "source": [
    "# A correct way is \n",
    "print(my1d[4]) # since numpy arrays are using 0-based index, meaning the index starts from 0 instead of 1\n",
    "\n",
    "# this is *NOT CONVENIENT* because you need to know the length and to do minus 1 to the length\n",
    "# A much more convenient way is\n",
    "print(my1d[-1])"
   ]
  },
  {
   "cell_type": "code",
   "execution_count": 38,
   "metadata": {},
   "outputs": [
    {
     "name": "stdout",
     "output_type": "stream",
     "text": [
      "[1.68257159 0.61342921]\n"
     ]
    }
   ],
   "source": [
    "# how about the last two elements?\n",
    "print(my1d[-2:]) # print(my1d[-2:-1]) does NOT do the job because "
   ]
  },
  {
   "cell_type": "code",
   "execution_count": 48,
   "metadata": {},
   "outputs": [],
   "source": [
    "# Let's try 2D data\n",
    "my2d = np.random.randn(3, 2)"
   ]
  },
  {
   "cell_type": "code",
   "execution_count": 50,
   "metadata": {},
   "outputs": [
    {
     "data": {
      "text/plain": [
       "array([[ 0.3017315 , -0.31284389],\n",
       "       [ 1.25740625,  0.4816095 ],\n",
       "       [ 0.70527552,  1.36903856]])"
      ]
     },
     "execution_count": 50,
     "metadata": {},
     "output_type": "execute_result"
    }
   ],
   "source": [
    "my2d"
   ]
  },
  {
   "cell_type": "code",
   "execution_count": 51,
   "metadata": {},
   "outputs": [
    {
     "name": "stdout",
     "output_type": "stream",
     "text": [
      "[ 0.3017315  -0.31284389]\n"
     ]
    }
   ],
   "source": [
    "# Let's print the first row.\n",
    "print(my2d[0,:])"
   ]
  },
  {
   "cell_type": "code",
   "execution_count": 54,
   "metadata": {},
   "outputs": [
    {
     "name": "stdout",
     "output_type": "stream",
     "text": [
      "[[ 0.3017315  -0.31284389]\n",
      " [ 1.25740625  0.4816095 ]]\n"
     ]
    }
   ],
   "source": [
    "# Can you print the first TWO rows? Yes, you can.\n",
    "print(my2d[0:2,:])"
   ]
  },
  {
   "cell_type": "code",
   "execution_count": 56,
   "metadata": {},
   "outputs": [
    {
     "name": "stdout",
     "output_type": "stream",
     "text": [
      "[0.3017315  1.25740625]\n"
     ]
    }
   ],
   "source": [
    "# How about the first column of the first two rows?\n",
    "print(my2d[0:2, 0])"
   ]
  },
  {
   "cell_type": "code",
   "execution_count": 69,
   "metadata": {},
   "outputs": [],
   "source": [
    "# Let's make it into a 1D vector\n",
    "my1dfrom2d = my2d.flatten()"
   ]
  },
  {
   "cell_type": "code",
   "execution_count": 73,
   "metadata": {},
   "outputs": [
    {
     "data": {
      "text/plain": [
       "array([ 0.3017315 , -0.31284389,  1.25740625,  0.4816095 ,  0.70527552,\n",
       "        1.36903856])"
      ]
     },
     "execution_count": 73,
     "metadata": {},
     "output_type": "execute_result"
    }
   ],
   "source": [
    "my1dfrom2d"
   ]
  },
  {
   "cell_type": "code",
   "execution_count": 79,
   "metadata": {},
   "outputs": [
    {
     "data": {
      "text/plain": [
       "array([ 0.3017315 , -0.31284389,  1.25740625,  0.4816095 ,  0.70527552,\n",
       "        1.36903856])"
      ]
     },
     "execution_count": 79,
     "metadata": {},
     "output_type": "execute_result"
    }
   ],
   "source": [
    "my2d.reshape(6)\n",
    "# can you tell differences between my2d.reshape(6,1) and my2d.reshape(6)"
   ]
  },
  {
   "cell_type": "code",
   "execution_count": 82,
   "metadata": {},
   "outputs": [
    {
     "data": {
      "text/plain": [
       "array([0.70527552, 1.36903856])"
      ]
     },
     "execution_count": 82,
     "metadata": {},
     "output_type": "execute_result"
    }
   ],
   "source": [
    "# we can use negative indices like -1, -2 as we did for 1D arrays.\n",
    "my2d[-1,:]"
   ]
  },
  {
   "cell_type": "code",
   "execution_count": 83,
   "metadata": {},
   "outputs": [
    {
     "data": {
      "text/plain": [
       "1.3690385556174385"
      ]
     },
     "execution_count": 83,
     "metadata": {},
     "output_type": "execute_result"
    }
   ],
   "source": [
    "my2d[-1,-1]"
   ]
  },
  {
   "cell_type": "markdown",
   "metadata": {},
   "source": [
    "## plotting 2D data"
   ]
  },
  {
   "cell_type": "code",
   "execution_count": 43,
   "metadata": {},
   "outputs": [],
   "source": [
    "# Let's make a matrix 10000 x 256\n",
    "# Each row corresponds to  your data point, image, ...\n",
    "# "
   ]
  },
  {
   "cell_type": "code",
   "execution_count": 84,
   "metadata": {},
   "outputs": [
    {
     "data": {
      "text/plain": [
       "<matplotlib.colorbar.Colorbar at 0x7f7e96f06e10>"
      ]
     },
     "execution_count": 84,
     "metadata": {},
     "output_type": "execute_result"
    },
    {
     "data": {
      "image/png": "[encoded data removed]",
      "text/plain": [
       "<Figure size 576x432 with 2 Axes>"
      ]
     },
     "metadata": {},
     "output_type": "display_data"
    }
   ],
   "source": [
    "# We need to generate 10000 datapoints or images of length 256 or 16*16\n",
    "mydata = np.random.randn(10000, 16, 16)\n",
    "\n",
    "# let's plot one of them\n",
    "\n",
    "plt.figure(figsize=(8,6)) #if you want to change the size of the figure\n",
    "plt.imshow(mydata[0,:,:], cmap = cm.RdBu, alpha=1.0) # alpha for transparency\n",
    "#plt.set_cmap('jet') This is a way to change its colormap to a different one.\n",
    "\n",
    "# in order to find a list of colormaps\n",
    "cms = plt.colormaps()\n",
    "\n",
    "# what's the type of 'cms'?\n",
    "#  \n",
    "plt.set_cmap(cms[54])\n",
    "plt.title('plot using ' + cms[54])\n",
    "\n",
    "#plt.imshow(mydata[0,:,:], vmin=-0.5, vmax=0.5)\n",
    "#plt.colorbar() # plot(add) a vertical scale bar on the right\n",
    "# if you want a horizontal scale bar at the bottom of the main figure\n",
    "plt.colorbar(orientation='horizontal', fraction = 0.1)\n"
   ]
  },
  {
   "cell_type": "code",
   "execution_count": 70,
   "metadata": {},
   "outputs": [],
   "source": [
    "plt.imshow?"
   ]
  },
  {
   "cell_type": "code",
   "execution_count": 5,
   "metadata": {},
   "outputs": [
    {
     "data": {
      "text/plain": [
       "<matplotlib.image.AxesImage at 0x7f7ea05a5080>"
      ]
     },
     "execution_count": 5,
     "metadata": {},
     "output_type": "execute_result"
    },
    {
     "data": {
      "image/png": "[encoded data removed]",
      "text/plain": [
       "<Figure size 432x288 with 1 Axes>"
      ]
     },
     "metadata": {},
     "output_type": "display_data"
    }
   ],
   "source": [
    "## How can we plot the last image of size 16x16 ?\n",
    "## Can you complete the following command, plt.imshow(mydata[   ])?"
   ]
  },
  {
   "cell_type": "code",
   "execution_count": 6,
   "metadata": {},
   "outputs": [],
   "source": [
    "## Since it is more fun to play with numbers, let's use MNIST datasets\n",
    "xtest = np.load('xtest.pickle')\n",
    "\n",
    "## Question: what's the dimension of xtest?\n"
   ]
  },
  {
   "cell_type": "code",
   "execution_count": 9,
   "metadata": {},
   "outputs": [
    {
     "data": {
      "text/plain": [
       "(10000, 28, 28)"
      ]
     },
     "execution_count": 9,
     "metadata": {},
     "output_type": "execute_result"
    }
   ],
   "source": [
    "xtest.shape"
   ]
  },
  {
   "cell_type": "code",
   "execution_count": 10,
   "metadata": {},
   "outputs": [
    {
     "data": {
      "text/plain": [
       "<matplotlib.image.AxesImage at 0x7f7ea0567048>"
      ]
     },
     "execution_count": 10,
     "metadata": {},
     "output_type": "execute_result"
    },
    {
     "data": {
      "image/png": "[encoded data removed]",
      "text/plain": [
       "<Figure size 432x288 with 1 Axes>"
      ]
     },
     "metadata": {},
     "output_type": "display_data"
    }
   ],
   "source": [
    "## Let's plot the first image of 28 x 28.\n",
    "plt.imshow(xtest[0, :,:])"
   ]
  },
  {
   "cell_type": "code",
   "execution_count": 30,
   "metadata": {},
   "outputs": [],
   "source": [
    "## Now, sometimes we need to convert 2D images into 1D vectors.\n",
    "## For example, my2d = xtest[0,:,:] can be put into a 1D vector of length 28x28\n",
    "my2dImage  = xtest[0, :, :]\n",
    "my1d_flattened = my2dImage.flatten()\n",
    "# or\n",
    "my1d_reshaped = my2dImage.reshape(28*28,)"
   ]
  },
  {
   "cell_type": "code",
   "execution_count": 31,
   "metadata": {},
   "outputs": [
    {
     "data": {
      "text/plain": [
       "(784,)"
      ]
     },
     "execution_count": 31,
     "metadata": {},
     "output_type": "execute_result"
    }
   ],
   "source": [
    "## Let's check the shape (dimension) of \"my1d\"\n",
    "my1d_flattened.shape"
   ]
  },
  {
   "cell_type": "code",
   "execution_count": 34,
   "metadata": {},
   "outputs": [
    {
     "data": {
      "text/plain": [
       "(784,)"
      ]
     },
     "execution_count": 34,
     "metadata": {},
     "output_type": "execute_result"
    }
   ],
   "source": [
    "my1d_reshaped.shape"
   ]
  },
  {
   "cell_type": "code",
   "execution_count": 36,
   "metadata": {},
   "outputs": [],
   "source": [
    "xtest2d = np.reshape(xtest, (10000,-1))"
   ]
  },
  {
   "cell_type": "code",
   "execution_count": 37,
   "metadata": {},
   "outputs": [
    {
     "data": {
      "text/plain": [
       "(10000, 784)"
      ]
     },
     "execution_count": 37,
     "metadata": {},
     "output_type": "execute_result"
    }
   ],
   "source": [
    "xtest2d.shape"
   ]
  },
  {
   "cell_type": "code",
   "execution_count": 41,
   "metadata": {},
   "outputs": [
    {
     "data": {
      "text/plain": [
       "<matplotlib.image.AxesImage at 0x7f7ea035bf28>"
      ]
     },
     "execution_count": 41,
     "metadata": {},
     "output_type": "execute_result"
    },
    {
     "data": {
      "image/png": "[encoded data removed]",
      "text/plain": [
       "<Figure size 432x288 with 1 Axes>"
      ]
     },
     "metadata": {},
     "output_type": "display_data"
    }
   ],
   "source": [
    "#Let's make sure that the first row is the image of number \"7\" we saw above\n",
    "plt.imshow(xtest2d[0,:].reshape(-1,28))"
   ]
  },
  {
   "cell_type": "code",
   "execution_count": null,
   "metadata": {},
   "outputs": [],
   "source": []
  }
 ],
 "metadata": {
  "kernelspec": {
   "display_name": "Python 3",
   "language": "python",
   "name": "python3"
  },
  "language_info": {
   "codemirror_mode": {
    "name": "ipython",
    "version": 3
   },
   "file_extension": ".py",
   "mimetype": "text/x-python",
   "name": "python",
   "nbconvert_exporter": "python",
   "pygments_lexer": "ipython3",
   "version": "3.5.5"
  }
 },
 "nbformat": 4,
 "nbformat_minor": 2
}
