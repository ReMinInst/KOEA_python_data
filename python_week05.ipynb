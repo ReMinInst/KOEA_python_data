{
 "cells": [
  {
   "cell_type": "markdown",
   "metadata": {},
   "source": [
    "# Python Week 5"
   ]
  },
  {
   "cell_type": "markdown",
   "metadata": {},
   "source": [
    "October 12, 2019\n",
    "\n",
    "This week, we dig into numpy and matplotlib more since these two packages are frequently used for processing and plotting  data. We are slowly entering into data science. \n",
    "\n",
    "For numpy, we need to understand reshaping and slicing. Reshaping means change the shape of dataset for example, from a 2D matrix form to a 1D vector form. Slicing is a convenient, simple notation to access partial data. If our data is a 3D matrix like cube, how do we plot/handle the top layer like a 2D image? This kind of job can be done easily using the slicing technique. We'll experiment with 28x28 figures in the MNIST dataset. A small portion of it is provided for your convenience in the github directory. \n",
    "For matplotlib, we try to visualize 2D data (image) as we plotted time series data last week. For 2D plotting, we'll use plt.imshow and many options will be tested to make our plots more beautiful and impressive.\n",
    "\n",
    "Enjoy this week's example."
   ]
  },
  {
   "cell_type": "code",
   "execution_count": null,
   "metadata": {},
   "outputs": [],
   "source": [
    "import numpy as np\n",
    "import scipy as sp\n",
    "import matplotlib.pyplot as plt\n",
    "from matplotlib import cm"
   ]
  },
  {
   "cell_type": "markdown",
   "metadata": {},
   "source": [
    "## slicing"
   ]
  },
  {
   "cell_type": "code",
   "execution_count": null,
   "metadata": {},
   "outputs": [],
   "source": [
    "my1d = np.random.randn(5)"
   ]
  },
  {
   "cell_type": "code",
   "execution_count": null,
   "metadata": {},
   "outputs": [],
   "source": [
    "my1d"
   ]
  },
  {
   "cell_type": "code",
   "execution_count": null,
   "metadata": {},
   "outputs": [],
   "source": [
    "# how do we access the first element?\n",
    "print(my1d[0])"
   ]
  },
  {
   "cell_type": "code",
   "execution_count": null,
   "metadata": {},
   "outputs": [],
   "source": [
    "# how about first two elements?\n",
    "print(my1d[0:2])"
   ]
  },
  {
   "cell_type": "code",
   "execution_count": null,
   "metadata": {},
   "outputs": [],
   "source": [
    "# how about first, third, fifth, skipping by one.\n",
    "print(my1d[0::2]) # print(my1d[0:5:2]) will give you the same result\n",
    "# please not that my1d[0:1] will give you only the first element.\n",
    "# because the second index is not included.\n",
    "# my1d[n1:n2] will show elements from n1 to n2-1.\n",
    "# let's try it\n",
    "print(my1d[0:5:2])"
   ]
  },
  {
   "cell_type": "code",
   "execution_count": null,
   "metadata": {},
   "outputs": [],
   "source": [
    "# how to access the last element?\n",
    "# will this work? \n",
    "print(my1d[4])"
   ]
  },
  {
   "cell_type": "code",
   "execution_count": null,
   "metadata": {},
   "outputs": [],
   "source": [
    "# A correct way is \n",
    "print(my1d[4]) # since numpy arrays are using 0-based index, meaning the index starts from 0 instead of 1\n",
    "\n",
    "# this is *NOT CONVENIENT* because you need to know the length and to do minus 1 to the length\n",
    "# A much more convenient way is\n",
    "print(my1d[-1])"
   ]
  },
  {
   "cell_type": "code",
   "execution_count": null,
   "metadata": {},
   "outputs": [],
   "source": [
    "# how about the last two elements?\n",
    "print(my1d[-2:]) # print(my1d[-2:-1]) does NOT do the job because "
   ]
  },
  {
   "cell_type": "code",
   "execution_count": null,
   "metadata": {},
   "outputs": [],
   "source": [
    "# Let's try 2D data\n",
    "my2d = np.random.randn(3, 2)"
   ]
  },
  {
   "cell_type": "code",
   "execution_count": null,
   "metadata": {},
   "outputs": [],
   "source": [
    "my2d"
   ]
  },
  {
   "cell_type": "code",
   "execution_count": null,
   "metadata": {},
   "outputs": [],
   "source": [
    "# Let's print the first row.\n",
    "print(my2d[0,:])"
   ]
  },
  {
   "cell_type": "code",
   "execution_count": null,
   "metadata": {},
   "outputs": [],
   "source": [
    "# Can you print the first TWO rows? Yes, you can.\n",
    "print(my2d[0:2,:])"
   ]
  },
  {
   "cell_type": "code",
   "execution_count": null,
   "metadata": {},
   "outputs": [],
   "source": [
    "# How about the first column of the first two rows?\n",
    "print(my2d[0:2, 0])"
   ]
  },
  {
   "cell_type": "code",
   "execution_count": null,
   "metadata": {},
   "outputs": [],
   "source": [
    "# Let's make it into a 1D vector\n",
    "my1dfrom2d = my2d.flatten()"
   ]
  },
  {
   "cell_type": "code",
   "execution_count": null,
   "metadata": {},
   "outputs": [],
   "source": [
    "my1dfrom2d"
   ]
  },
  {
   "cell_type": "code",
   "execution_count": null,
   "metadata": {},
   "outputs": [],
   "source": [
    "my2d.reshape(6)\n",
    "# can you tell differences between my2d.reshape(6,1) and my2d.reshape(6)"
   ]
  },
  {
   "cell_type": "code",
   "execution_count": null,
   "metadata": {},
   "outputs": [],
   "source": [
    "# we can use negative indices like -1, -2 as we did for 1D arrays.\n",
    "my2d[-1,:]"
   ]
  },
  {
   "cell_type": "code",
   "execution_count": null,
   "metadata": {},
   "outputs": [],
   "source": [
    "my2d[-1,-1]"
   ]
  },
  {
   "cell_type": "markdown",
   "metadata": {},
   "source": [
    "## plotting a histogram"
   ]
  },
  {
   "cell_type": "code",
   "execution_count": null,
   "metadata": {},
   "outputs": [],
   "source": [
    "## Experimenting with axis\n",
    "\n",
    "import matplotlib\n",
    "mydata = np.random.randn(10000, 16, 16);\n",
    "\n",
    "#matplotlib.rc('axes', linewidth=2.0, edgecolor='black', facecolor='green')\n",
    "\n",
    "# let's check the histogram of mydata\n",
    "fig = plt.figure(figsize=(10,8), linewidth=4)\n",
    "#rect = fig.patch\n",
    "#rect.set_facecolor('lightgoldenrodyellow')\n",
    "\n",
    "#ax1 = fig.add_axes([0.1, 0.3, 0.4, 0.4])\n",
    "ax1 = plt.gca()\n",
    "ax2 = fig.get_axes()\n",
    "print(ax1==ax2)\n",
    "\n",
    "#rect = ax1.patch\n",
    "#rect.set_facecolor('lightslategray')\n",
    "#rect.set_linewidth(9)\n",
    "\n",
    "for axis in ['top', 'bottom', 'left', 'right']:\n",
    "    ax1.spines[axis].set_linewidth(5)\n",
    "    \n",
    "plt.hist(mydata.ravel(), bins=64, range=(-2.95, 2.95), fc='g', ec='k', linewidth=4);\n",
    "plt.title('Data histogram', fontsize=28)\n",
    "plt.xlabel('data', fontsize=24)\n",
    "plt.ylabel('frequency', fontsize=24)\n",
    "plt.tick_params(labelsize=20)\n",
    "\n",
    "\n"
   ]
  },
  {
   "cell_type": "markdown",
   "metadata": {},
   "source": [
    "## plotting 2D data"
   ]
  },
  {
   "cell_type": "code",
   "execution_count": null,
   "metadata": {},
   "outputs": [],
   "source": [
    "\n",
    "# let's plot one of them\n",
    "\n",
    "plt.figure(figsize=(8,6)) #if you want to change the size of the figure\n",
    "imgplt = plt.imshow(mydata[0,:,:], cmap = cm.RdBu, alpha=1.0, clim=(-2, 2)) # alpha for transparency\n",
    "#plt.set_cmap('jet') This is a way to change its colormap to a different one.\n",
    "\n",
    "# in order to find a list of colormaps\n",
    "cms = plt.colormaps()\n",
    "\n",
    "# what's the type of 'cms'?\n",
    "#  \n",
    "imgplt.set_cmap('cool')\n",
    "\n",
    "# you can change the range of data to map to the colormap\n",
    "imgplt.set_clim(-5,5)\n",
    "\n",
    "plt.title('plot using ' + 'cool')\n",
    "\n",
    "#plt.imshow(mydata[0,:,:], vmin=-0.5, vmax=0.5)\n",
    "#plt.colorbar() # plot(add) a vertical scale bar on the right\n",
    "# if you want a horizontal scale bar at the bottom of the main figure\n",
    "plt.colorbar(orientation='horizontal', fraction = 0.1)\n"
   ]
  },
  {
   "cell_type": "code",
   "execution_count": null,
   "metadata": {},
   "outputs": [],
   "source": []
  },
  {
   "cell_type": "code",
   "execution_count": null,
   "metadata": {},
   "outputs": [],
   "source": []
  },
  {
   "cell_type": "code",
   "execution_count": null,
   "metadata": {},
   "outputs": [],
   "source": [
    "plt.imshow?"
   ]
  },
  {
   "cell_type": "code",
   "execution_count": null,
   "metadata": {},
   "outputs": [],
   "source": [
    "## How can we plot the last image of size 16x16 ?\n",
    "## Can you complete the following command, plt.imshow(mydata[   ])?"
   ]
  },
  {
   "cell_type": "code",
   "execution_count": null,
   "metadata": {},
   "outputs": [],
   "source": [
    "## Since it is more fun to play with numbers, let's use MNIST datasets\n",
    "xtest = np.load('xtest.pickle', allow_pickle=True)\n",
    "ytest = np.load('ytest.pickle', allow_pickle=True)\n",
    "## Question: what's the dimension of xtest?\n"
   ]
  },
  {
   "cell_type": "code",
   "execution_count": null,
   "metadata": {},
   "outputs": [],
   "source": [
    "xtest.shape"
   ]
  },
  {
   "cell_type": "code",
   "execution_count": null,
   "metadata": {},
   "outputs": [],
   "source": [
    "## Let's plot the first image of 28 x 28.\n",
    "plt.imshow(xtest[0, :,:])"
   ]
  },
  {
   "cell_type": "code",
   "execution_count": null,
   "metadata": {},
   "outputs": [],
   "source": [
    "## Now, sometimes we need to convert 2D images into 1D vectors.\n",
    "## For example, my2d = xtest[0,:,:] can be put into a 1D vector of length 28x28\n",
    "my2dImage  = xtest[0, :, :]\n",
    "my1d_flattened = my2dImage.flatten()\n",
    "# or\n",
    "my1d_reshaped = my2dImage.reshape(28*28,)"
   ]
  },
  {
   "cell_type": "code",
   "execution_count": null,
   "metadata": {},
   "outputs": [],
   "source": [
    "## Let's check the shape (dimension) of \"my1d\"\n",
    "my1d_flattened.shape"
   ]
  },
  {
   "cell_type": "code",
   "execution_count": null,
   "metadata": {},
   "outputs": [],
   "source": [
    "my1d_reshaped.shape"
   ]
  },
  {
   "cell_type": "code",
   "execution_count": null,
   "metadata": {},
   "outputs": [],
   "source": [
    "xtest2d = np.reshape(xtest, (10000,-1))"
   ]
  },
  {
   "cell_type": "code",
   "execution_count": null,
   "metadata": {},
   "outputs": [],
   "source": [
    "xtest2d.shape"
   ]
  },
  {
   "cell_type": "code",
   "execution_count": null,
   "metadata": {},
   "outputs": [],
   "source": [
    "#Let's make sure that the first row is the image of number \"7\" we saw above\n",
    "plt.imshow(xtest2d[0,:].reshape(-1,28))"
   ]
  },
  {
   "cell_type": "markdown",
   "metadata": {},
   "source": [
    "## Plotting using subplots"
   ]
  },
  {
   "cell_type": "code",
   "execution_count": null,
   "metadata": {},
   "outputs": [],
   "source": [
    "\n",
    "# Let's test \n",
    "\n",
    "xtest = np.load('xtest.pickle', allow_pickle=True)\n",
    "ytest = np.load('ytest.pickle', allow_pickle=True)\n",
    "\n",
    "fig, axs = plt.subplots(2,2, figsize=(10,10))\n",
    "\n",
    "fig.suptitle('MNIST figures', fontsize=28)\n",
    "fig.subplots_adjust(hspace=0.5, wspace=0.5)\n",
    "for i in range(2):\n",
    "    for j in range(2):\n",
    "        axs[i,j].imshow(xtest[i+2*j,:,:]+30*np.random.randn(28,28), cmap='gnuplot2')\n",
    "        axs[i,j].set_xlabel('i', fontsize=20)\n",
    "        axs[i,j].set_ylabel('j', fontsize=20)\n",
    "        axs[i,j].set_title(str(ytest[i+2*j]), fontsize=30)\n",
    "        axs[i,j].tick_params(labelsize=20)\n",
    "        \n",
    "#plt.subplots_adjust(wspace=1, hspace=1)\n",
    "    "
   ]
  },
  {
   "cell_type": "markdown",
   "metadata": {},
   "source": [
    "## Colors"
   ]
  },
  {
   "cell_type": "code",
   "execution_count": null,
   "metadata": {},
   "outputs": [],
   "source": [
    "import matplotlib.colors as mcolors"
   ]
  },
  {
   "cell_type": "code",
   "execution_count": null,
   "metadata": {},
   "outputs": [],
   "source": [
    "colormapping = mcolors.get_named_colors_mapping()\n",
    "colormapping"
   ]
  },
  {
   "cell_type": "code",
   "execution_count": null,
   "metadata": {},
   "outputs": [],
   "source": [
    "mcolors.BASE_COLORS\n",
    "## color name and rgb values"
   ]
  },
  {
   "cell_type": "code",
   "execution_count": null,
   "metadata": {},
   "outputs": [],
   "source": [
    "mcolors.CSS4_COLORS\n",
    "## color name and "
   ]
  }
 ],
 "metadata": {
  "kernelspec": {
   "display_name": "Python 3",
   "language": "python",
   "name": "python3"
  },
  "language_info": {
   "codemirror_mode": {
    "name": "ipython",
    "version": 3
   },
   "file_extension": ".py",
   "mimetype": "text/x-python",
   "name": "python",
   "nbconvert_exporter": "python",
   "pygments_lexer": "ipython3",
   "version": "3.7.3"
  }
 },
 "nbformat": 4,
 "nbformat_minor": 2
}
