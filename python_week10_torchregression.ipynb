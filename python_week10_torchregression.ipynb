{
 "cells": [
  {
   "cell_type": "markdown",
   "metadata": {},
   "source": [
    "# Python Week 10\n",
    "\n",
    "## From this week, pytorch is the main ML framework in this study group\n",
    "Please read and study the following tutorial \n",
    "https://pytorch.org/tutorials. \n",
    "If you are not familiar with gradient and backprop, please read \"Hands-on machine learning with Scikit-learn, Keras & Tensorflow\""
   ]
  },
  {
   "cell_type": "code",
   "execution_count": null,
   "metadata": {},
   "outputs": [],
   "source": [
    "## This is our first time to use torch\n",
    "## please make sure that you have installed pytorch\n",
    "## conda install -c pytorch pytorch \n",
    "## sooner or later you will need torchvision\n",
    "## for that, conda install -c pytorch pytorch \n",
    "\n",
    "## We will go over pytorch tutorial in \n",
    "## https://pytorch.org/tutorials/\n",
    "\n",
    "\n",
    "import torch\n",
    "print(torch.__version__)"
   ]
  },
  {
   "cell_type": "code",
   "execution_count": null,
   "metadata": {},
   "outputs": [],
   "source": [
    "from torch.autograd import Variable\n",
    "\n",
    "help(Variable)"
   ]
  },
  {
   "cell_type": "code",
   "execution_count": null,
   "metadata": {},
   "outputs": [],
   "source": [
    "## define \n",
    "## x_data = Variable(torch.Tensor([[1.0], [2.0], [3.0], [4.0]]))\n",
    "## y_data = Variable(torch.Tensor([[2.0], [4.0], [6.0], [8.0]]))\n",
    "\n",
    "x_data = torch.Tensor([[1.0], [2.0], [3.0], [4.0]])\n",
    "y_data = torch.Tensor([[2.0], [4.0], [6.0], [8.0]])"
   ]
  },
  {
   "cell_type": "code",
   "execution_count": null,
   "metadata": {},
   "outputs": [],
   "source": [
    "class LinearRegressionModel(torch.nn.Module):\n",
    "    def __init__(self):\n",
    "        super(LinearRegressionModel, self).__init__()\n",
    "        self.linear = torch.nn.Linear(1, 1)\n",
    "    def forward(self, x):\n",
    "        y_pred = self.linear(x)\n",
    "        return y_pred"
   ]
  },
  {
   "cell_type": "code",
   "execution_count": null,
   "metadata": {},
   "outputs": [],
   "source": [
    "model = LinearRegressionModel()"
   ]
  },
  {
   "cell_type": "code",
   "execution_count": null,
   "metadata": {},
   "outputs": [],
   "source": [
    "criterion = torch.nn.MSELoss(reduction = 'sum')\n",
    "optimizer = torch.optim.SGD(model.parameters(), lr = 0.01)"
   ]
  },
  {
   "cell_type": "code",
   "execution_count": null,
   "metadata": {},
   "outputs": [],
   "source": [
    "for epoch in range(201): \n",
    "\n",
    "    # Forward pass: Compute predicted y by passing \n",
    "    # x to the model \n",
    "    pred_y = model(x_data) \n",
    "\n",
    "    # Compute and print loss \n",
    "    loss = criterion(pred_y, y_data) \n",
    "\n",
    "    # Zero gradients, perform a backward pass, \n",
    "    # and update the weights. \n",
    "    \n",
    "    optimizer.zero_grad() \n",
    "    loss.backward() \n",
    "    optimizer.step() \n",
    "    \n",
    "    if(epoch%100==0):\n",
    "        print('epoch {}, loss {}'.format(epoch, loss.data.item())) \n"
   ]
  },
  {
   "cell_type": "code",
   "execution_count": null,
   "metadata": {},
   "outputs": [],
   "source": [
    "new_var = torch.Tensor([[4.0]]) \n",
    "pred_y = model(new_var) \n",
    "print(\"predict (after training)\", new_var[0].item(), pred_y.data[0][0].item()) "
   ]
  },
  {
   "cell_type": "code",
   "execution_count": null,
   "metadata": {},
   "outputs": [],
   "source": [
    "## what should we do to predict at multiple values [4.0, 5.0, ...] for example\n",
    "new_var = torch.Tensor([[4.0, 5.0, 10.0]])\n",
    "\n",
    "# We need the following reshaping in order to match the dimension of input size\n",
    "new_var = new_var.view(3,1)\n",
    "pred_y = model(new_var)"
   ]
  },
  {
   "cell_type": "code",
   "execution_count": null,
   "metadata": {},
   "outputs": [],
   "source": [
    "pred_y"
   ]
  }
 ],
 "metadata": {
  "kernelspec": {
   "display_name": "Python 3",
   "language": "python",
   "name": "python3"
  },
  "language_info": {
   "codemirror_mode": {
    "name": "ipython",
    "version": 3
   },
   "file_extension": ".py",
   "mimetype": "text/x-python",
   "name": "python",
   "nbconvert_exporter": "python",
   "pygments_lexer": "ipython3",
   "version": "3.7.3"
  }
 },
 "nbformat": 4,
 "nbformat_minor": 2
}
