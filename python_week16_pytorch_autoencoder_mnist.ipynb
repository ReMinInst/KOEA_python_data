{
 "cells": [
  {
   "cell_type": "code",
   "execution_count": null,
   "metadata": {},
   "outputs": [],
   "source": [
    "# Python Week 16"
   ]
  },
  {
   "cell_type": "markdown",
   "metadata": {},
   "source": [
    "## This exercise is designed for us to learn pytorch through struggles and debugging. \n",
    "## The code is not complete. Today's task is to make this work.\n",
    "\n",
    "We are trying to convert our previous pytorch classification example to pytorch autoencoding (denoising) example. Enjoy!\n",
    "\n",
    "Please read the following tutorial \n",
    "https://pytorch.org/tutorials."
   ]
  },
  {
   "cell_type": "code",
   "execution_count": null,
   "metadata": {},
   "outputs": [],
   "source": [
    "import numpy as np\n",
    "import torch\n",
    "import torchvision\n",
    "import matplotlib.pyplot as plt\n",
    "from time import time\n",
    "from torch import nn, optim\n",
    "from torchvision import datasets, transforms\n",
    "import torch.nn as nn\n",
    "import torch.nn.functional as F\n",
    "import torch.optim as optim"
   ]
  },
  {
   "cell_type": "code",
   "execution_count": null,
   "metadata": {},
   "outputs": [],
   "source": [
    "transform = transforms.Compose([transforms.ToTensor(), transforms.Normalize((0.5,), (0.5,)),])"
   ]
  },
  {
   "cell_type": "code",
   "execution_count": null,
   "metadata": {},
   "outputs": [],
   "source": [
    "trainset = datasets.MNIST('.\\\\', download=True, train=True, transform=transform);\n",
    "valset   = datasets.MNIST('.\\\\', download=True, train=False, transform=transform);\n",
    "\n",
    "\n",
    "trainloader = torch.utils.data.DataLoader(trainset, batch_size = 64, shuffle = True)\n",
    "valloader   = torch.utils.data.DataLoader(valset, batch_size = 64, shuffle = True)"
   ]
  },
  {
   "cell_type": "code",
   "execution_count": null,
   "metadata": {},
   "outputs": [],
   "source": [
    "#help(trainloader)"
   ]
  },
  {
   "cell_type": "code",
   "execution_count": null,
   "metadata": {},
   "outputs": [],
   "source": [
    "dataiter = iter(trainloader)\n",
    "images, labels = next(dataiter)"
   ]
  },
  {
   "cell_type": "code",
   "execution_count": null,
   "metadata": {},
   "outputs": [],
   "source": [
    "def imshow(img):\n",
    "    img = img/2 + 0.5\n",
    "    npimg = img.numpy()\n",
    "    plt.imshow(np.transpose(npimg, (1, 2, 0)))\n",
    "    plt.show()"
   ]
  },
  {
   "cell_type": "code",
   "execution_count": null,
   "metadata": {
    "scrolled": true
   },
   "outputs": [],
   "source": [
    "figure = plt.figure()\n",
    "num_of_images = 60\n",
    "for index in range(1, num_of_images +1 ):\n",
    "    plt.subplot(6, 10, index)\n",
    "    plt.axis('off')\n",
    "    plt.imshow(images[index].numpy().squeeze(), cmap='gray_r')"
   ]
  },
  {
   "cell_type": "code",
   "execution_count": null,
   "metadata": {},
   "outputs": [],
   "source": [
    "print(images.shape)\n",
    "print(labels.shape)"
   ]
  },
  {
   "cell_type": "code",
   "execution_count": null,
   "metadata": {},
   "outputs": [],
   "source": [
    "## This example showed up in our week 11 session.\n",
    "## We do not use this but this is given as a reference.\n",
    "\n",
    "class Net(nn.Module):\n",
    "    def __init__(self):\n",
    "        super(Net, self).__init__()\n",
    "        self.conv1 = nn.Conv2d(1, 32, 3, 1)\n",
    "        self.conv2 = nn.Conv2d(32, 64, 3, 1)\n",
    "        self.dropout1 = nn.Dropout2d(0.25)\n",
    "        self.dropout2 = nn.Dropout2d(0.5)\n",
    "        self.fc1 = nn.Linear(9216, 128)\n",
    "        self.fc2 = nn.Linear(128, 10)\n",
    "        \n",
    "    def forward(self, x):\n",
    "        x = self.conv1(x)\n",
    "        x = F.relu(x)\n",
    "        x = self.conv2(x)\n",
    "        print(x.shape)\n",
    "        x = F.max_pool2d(x, 2)\n",
    "        print(x.shape)\n",
    "        x = self.dropout1(x)\n",
    "        x = torch.flatten(x, 1)\n",
    "        print(x.shape)\n",
    "        x = self.fc1(x)\n",
    "        x = F.relu(x)\n",
    "        x = self.dropout2(x)\n",
    "        x = self.fc2(x)\n",
    "        output = F.log_softmax(x, dim=1)\n",
    "        return output\n",
    "    \n",
    "     \n",
    "net = Net()\n",
    "net.zero_grad()\n",
    "print(net)\n",
    "\n",
    "## test if the network works\n",
    "input = torch.randn(1, 1, 28, 28)\n",
    "\n",
    "## this step will print out \n",
    "out = net(input)\n",
    "out.backward(torch.randn(1,10))"
   ]
  },
  {
   "cell_type": "code",
   "execution_count": null,
   "metadata": {},
   "outputs": [],
   "source": [
    "## this is the class for autoencoding.\n",
    "\n",
    "class AutoEncoder(nn.Module):\n",
    "    def __init__(self):\n",
    "        super(AutoEncoder, self).__init__()\n",
    "\n",
    "        self.encoder = nn.Sequential(\n",
    "        nn.Conv2d(1, 16, 3, 1),\n",
    "        nn.ReLU(),\n",
    "        nn.Dropout2d(0.25),\n",
    "        nn.Conv2d(16, 32, 3, 1),\n",
    "        nn.ReLU(),\n",
    "        nn.Dropout2d(0.25),\n",
    "        nn.Conv2d(32, 64, 7)\n",
    "        )\n",
    "        \n",
    "        \n",
    "        self.decoder = nn.Sequential(\n",
    "        nn.ConvTranspose2d(64, 32, 7),\n",
    "        nn.ReLU(),\n",
    "        nn.ConvTranspose2d(32, 16, 3),\n",
    "        nn.ReLU(),\n",
    "        nn.ConvTranspose2d(16, 1, 3, 1),\n",
    "        nn.Sigmoid()\n",
    "        )\n",
    "        \n",
    "    def forward(self, x):\n",
    "        x = self.encoder(x)\n",
    "        x = self.decoder(x)\n",
    "        return x\n",
    "    \n",
    "net = AutoEncoder()\n",
    "net.zero_grad()\n",
    "print(net)\n",
    "\n",
    "## test if the network works\n",
    "input = torch.randn(1, 1, 28, 28)\n",
    "\n",
    "## this step will print out \n",
    "out = net(input)\n",
    "out.backward(torch.randn(1,1,28,28))    \n",
    "\n",
    "print(out.shape)"
   ]
  },
  {
   "cell_type": "code",
   "execution_count": null,
   "metadata": {},
   "outputs": [],
   "source": [
    "\n",
    "## pay attention to the difference from our previous week 10 example\n",
    "## \n",
    "criterion = torch.nn.MSELoss(reduction = 'sum');\n",
    "\n",
    "optimizer = optim.SGD(net.parameters(), lr = 0.001, momentum = 0.9)\n"
   ]
  },
  {
   "cell_type": "code",
   "execution_count": null,
   "metadata": {},
   "outputs": [],
   "source": [
    "for epoch in range(2):\n",
    "    \n",
    "    running_loss = 0.0\n",
    "    for i, data in enumerate(trainloader, 0):\n",
    "        \n",
    "        inputs, labels = data\n",
    "        optimizer.zero_grad()\n",
    "        \n",
    "        # forward + backward + optimize\n",
    "        \n",
    "        outputs = net(inputs)\n",
    "        \n",
    "        \n",
    "        #print(outputs.shape)\n",
    "        #print(inputs.shape)\n",
    "        loss = criterion(outputs, inputs)\n",
    "        loss.backward()\n",
    "        optimizer.step()\n",
    "        \n",
    "        # print statistics\n",
    "        running_loss += loss.item()\n",
    "        if i % 100 == 0:\n",
    "            print('[%d, %5d] loss: %.3f' % (epoch + 1, i+1, running_loss/2000))\n",
    "            running_loss = 0.0\n",
    "            \n",
    "print('Finished Training')\n"
   ]
  },
  {
   "cell_type": "code",
   "execution_count": null,
   "metadata": {},
   "outputs": [],
   "source": [
    "vdataiter = iter(valloader)\n",
    "vimages, vlabels = next(vdataiter)\n",
    "\n",
    "classes = ('0', '1','2', '3', '4','5', '6','7', '8','9')\n",
    "\n",
    "imshow(torchvision.utils.make_grid(vimages))\n",
    "\n",
    "num_show = 10\n",
    "\n",
    "print('First 10 images')\n",
    "print('GroundTruth: ',  ''.join('%5s'%classes[vlabels[j]] for j in range(num_show)))\n",
    "\n",
    "outputs = net(vimages)\n",
    "\n",
    "_, predicted  = torch.max(outputs, 1)\n",
    "print('Predicted:   ', ''.join('%5s'%classes[predicted[j]] for j in range(num_show)))"
   ]
  },
  {
   "cell_type": "code",
   "execution_count": null,
   "metadata": {},
   "outputs": [],
   "source": []
  }
 ],
 "metadata": {
  "kernelspec": {
   "display_name": "Python 3",
   "language": "python",
   "name": "python3"
  },
  "language_info": {
   "codemirror_mode": {
    "name": "ipython",
    "version": 3
   },
   "file_extension": ".py",
   "mimetype": "text/x-python",
   "name": "python",
   "nbconvert_exporter": "python",
   "pygments_lexer": "ipython3",
   "version": "3.7.5"
  }
 },
 "nbformat": 4,
 "nbformat_minor": 2
}
